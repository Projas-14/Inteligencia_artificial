{
  "nbformat": 4,
  "nbformat_minor": 0,
  "metadata": {
    "colab": {
      "provenance": [],
      "authorship_tag": "ABX9TyPtcUsYmW/qv70/ZNmlXLZz",
      "include_colab_link": true
    },
    "kernelspec": {
      "name": "python3",
      "display_name": "Python 3"
    },
    "language_info": {
      "name": "python"
    }
  },
  "cells": [
    {
      "cell_type": "markdown",
      "metadata": {
        "id": "view-in-github",
        "colab_type": "text"
      },
      "source": [
        "<a href=\"https://colab.research.google.com/github/Projas-14/Inteligencia_artificial/blob/master/celsius_a_fahrenheit_y_viceversa.ipynb\" target=\"_parent\"><img src=\"https://colab.research.google.com/assets/colab-badge.svg\" alt=\"Open In Colab\"/></a>"
      ]
    },
    {
      "cell_type": "code",
      "execution_count": null,
      "metadata": {
        "id": "MpjAh_R0RxuU"
      },
      "outputs": [],
      "source": [
        "\n",
        "import tensorflow as tf\n",
        "import numpy as np"
      ]
    },
    {
      "cell_type": "markdown",
      "source": [],
      "metadata": {
        "id": "V64sHwTEcH6t"
      }
    },
    {
      "cell_type": "code",
      "source": [
        "celsius = np.array([-40,-10,0,8,15,22,38], dtype=float)\n",
        "fahrenheit = np.array([-40,14,32,46,59,72,100], dtype=float)"
      ],
      "metadata": {
        "id": "vtDmkV4mUorb"
      },
      "execution_count": null,
      "outputs": []
    },
    {
      "cell_type": "code",
      "source": [
        "\n",
        "#capa = tf.keras.layers.Dense(units = 1, input_shape=[1])\n",
        "#modelo = tf.keras.Sequential([capa])\n",
        "\n",
        "\n",
        "oculta1 =  tf.keras.layers.Dense(units = 3, input_shape=[1])\n",
        "oculta2 = tf.keras.layers.Dense(units = 3)\n",
        "salida = tf.keras.layers.Dense(units= 1)\n",
        "modelo = tf.keras.Sequential([oculta1, oculta2, salida])\n"
      ],
      "metadata": {
        "id": "KNwnYOTPVE-n"
      },
      "execution_count": null,
      "outputs": []
    },
    {
      "cell_type": "code",
      "source": [
        "oculta3 =  tf.keras.layers.Dense(units = 3, input_shape=[1])\n",
        "oculta4 = tf.keras.layers.Dense(units = 3)\n",
        "salida2 = tf.keras.layers.Dense(units= 1)\n",
        "modelo1 = tf.keras.Sequential([oculta3, oculta4, salida2])"
      ],
      "metadata": {
        "id": "QP58tkgHaXRo"
      },
      "execution_count": null,
      "outputs": []
    },
    {
      "cell_type": "code",
      "source": [
        "modelo.compile(\n",
        "    optimizer = tf.keras.optimizers.Adam(0.1),\n",
        "    loss = 'mean_squared_error'\n",
        ")"
      ],
      "metadata": {
        "id": "DTms6NcqVd3I"
      },
      "execution_count": null,
      "outputs": []
    },
    {
      "cell_type": "code",
      "source": [
        "modelo1.compile(\n",
        "    optimizer = tf.keras.optimizers.Adam(0.1),\n",
        "    loss = 'mean_squared_error'\n",
        ")"
      ],
      "metadata": {
        "id": "k9fplXeRacCx"
      },
      "execution_count": null,
      "outputs": []
    },
    {
      "cell_type": "markdown",
      "source": [],
      "metadata": {
        "id": "dvMcv3tUUjJb"
      }
    },
    {
      "cell_type": "code",
      "source": [
        "print('Comenzando entrenamiento....')\n",
        "historial = modelo.fit(celsius,fahrenheit, epochs=1000, verbose = False)\n",
        "print(\"Modelo entrenado!\")"
      ],
      "metadata": {
        "colab": {
          "base_uri": "https://localhost:8080/"
        },
        "id": "joepZRU-V12g",
        "outputId": "ad2bdee3-ee94-43aa-c3bf-03abcab7553d"
      },
      "execution_count": null,
      "outputs": [
        {
          "output_type": "stream",
          "name": "stdout",
          "text": [
            "Comenzando entrenamiento....\n",
            "Modelo entrenado!\n"
          ]
        }
      ]
    },
    {
      "cell_type": "code",
      "source": [
        "#entrenamiento de fahrenheit a celsius\n",
        "\n",
        "print('comenzando otro entremiento')\n",
        "historial2 = modelo1.fit(fahrenheit,celsius, epochs = 200, verbose = False )\n",
        "print(\"Modelo2 entrenado!\")"
      ],
      "metadata": {
        "colab": {
          "base_uri": "https://localhost:8080/"
        },
        "id": "EvP8udWsZJBI",
        "outputId": "5bc4f821-aa62-4db1-dede-b73577cba0d3"
      },
      "execution_count": null,
      "outputs": [
        {
          "output_type": "stream",
          "name": "stdout",
          "text": [
            "comenzando otro entremiento\n",
            "Modelo2 entrenado!\n"
          ]
        }
      ]
    },
    {
      "cell_type": "code",
      "source": [
        "import matplotlib.pyplot as plt\n",
        "\n",
        "plt.xlabel(\"# Epoca\")\n",
        "plt.ylabel(\"Magnitud de pérdida\")\n",
        "plt.plot(historial.history['loss'])\n",
        "\n"
      ],
      "metadata": {
        "colab": {
          "base_uri": "https://localhost:8080/",
          "height": 296
        },
        "id": "quYkQ9iEWN2e",
        "outputId": "37c4a057-df6b-4faa-ed80-71ccfe123f27"
      },
      "execution_count": null,
      "outputs": [
        {
          "output_type": "execute_result",
          "data": {
            "text/plain": [
              "[<matplotlib.lines.Line2D at 0x7f3884eb6210>]"
            ]
          },
          "metadata": {},
          "execution_count": 71
        },
        {
          "output_type": "display_data",
          "data": {
            "text/plain": [
              "<Figure size 432x288 with 1 Axes>"
            ],
            "image/png": "[encoded data removed]"
          },
          "metadata": {
            "needs_background": "light"
          }
        }
      ]
    },
    {
      "cell_type": "code",
      "source": [
        "plt.xlabel(\"# Epoca\")\n",
        "plt.ylabel(\"Magnitud de pérdida\")\n",
        "plt.plot(historial2.history['loss'])"
      ],
      "metadata": {
        "colab": {
          "base_uri": "https://localhost:8080/",
          "height": 296
        },
        "id": "bcLXVwoaZgdV",
        "outputId": "3dc2f087-62e6-475d-86de-4b1244f1b828"
      },
      "execution_count": null,
      "outputs": [
        {
          "output_type": "execute_result",
          "data": {
            "text/plain": [
              "[<matplotlib.lines.Line2D at 0x7f3884ea0610>]"
            ]
          },
          "metadata": {},
          "execution_count": 72
        },
        {
          "output_type": "display_data",
          "data": {
            "text/plain": [
              "<Figure size 432x288 with 1 Axes>"
            ],
            "image/png": "[encoded data removed]"
          },
          "metadata": {
            "needs_background": "light"
          }
        }
      ]
    },
    {
      "cell_type": "markdown",
      "source": [
        "prediccion de celsius a fahrenheit"
      ],
      "metadata": {
        "id": "5RY0DqLBZkSD"
      }
    },
    {
      "cell_type": "code",
      "source": [
        "print(\"Hagamos una prediccion!\")\n",
        "resultado = modelo.predict([-20.0])\n",
        "print(\"El resultado es: \" + str(resultado) + \"celsius\" )\n"
      ],
      "metadata": {
        "colab": {
          "base_uri": "https://localhost:8080/"
        },
        "id": "ovl8CbQmWq0x",
        "outputId": "90ecc9f9-e6d2-43ab-c764-c3d8ff983daf"
      },
      "execution_count": null,
      "outputs": [
        {
          "output_type": "stream",
          "name": "stdout",
          "text": [
            "Hagamos una prediccion!\n",
            "El resultado es: [[-4.0064564]]celsius\n"
          ]
        }
      ]
    },
    {
      "cell_type": "markdown",
      "source": [
        "Prediccion de fahrenheit a celsius"
      ],
      "metadata": {
        "id": "PH-eqNFfZqq0"
      }
    },
    {
      "cell_type": "code",
      "source": [
        "print(\"Hagamos una prediccion!\")\n",
        "resultado = modelo1.predict([-4.0])\n",
        "print(\"El resultado es: \" + str(resultado) + \"celsius\" )"
      ],
      "metadata": {
        "colab": {
          "base_uri": "https://localhost:8080/"
        },
        "id": "t_paSSJKZoqr",
        "outputId": "40b34417-addf-4356-9f9b-a8a2433ecfbe"
      },
      "execution_count": null,
      "outputs": [
        {
          "output_type": "stream",
          "name": "stdout",
          "text": [
            "Hagamos una prediccion!\n",
            "El resultado es: [[-19.99551]]celsius\n"
          ]
        }
      ]
    },
    {
      "cell_type": "markdown",
      "source": [
        "veremos cuales son el peso y sesgo"
      ],
      "metadata": {
        "id": "1HG1w6y3XRyF"
      }
    },
    {
      "cell_type": "code",
      "source": [
        "print(\"Variables internas del modelo\")\n",
        "#print(capa.get_weights())\n",
        "print(oculta1.get_weights())\n"
      ],
      "metadata": {
        "colab": {
          "base_uri": "https://localhost:8080/"
        },
        "id": "ZZ8ift70XRkl",
        "outputId": "4fc53621-f1d9-4cf0-e610-c76be447050e"
      },
      "execution_count": null,
      "outputs": [
        {
          "output_type": "stream",
          "name": "stdout",
          "text": [
            "Variables internas del modelo\n",
            "[array([[-0.00293852,  2.2587297 ,  0.38025394]], dtype=float32), array([ 1.3063351,  5.4530883, -3.9591908], dtype=float32)]\n"
          ]
        }
      ]
    },
    {
      "cell_type": "code",
      "source": [],
      "metadata": {
        "id": "TTMvuhxaXzhA"
      },
      "execution_count": null,
      "outputs": []
    }
  ]
}