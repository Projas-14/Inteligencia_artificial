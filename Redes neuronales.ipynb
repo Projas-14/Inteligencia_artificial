{
  "cells": [
    {
      "cell_type": "markdown",
      "metadata": {
        "id": "view-in-github",
        "colab_type": "text"
      },
      "source": [
        "<a href=\"https://colab.research.google.com/github/Projas-14/Inteligencia_artificial/blob/master/Redes%20neuronales.ipynb\" target=\"_parent\"><img src=\"https://colab.research.google.com/assets/colab-badge.svg\" alt=\"Open In Colab\"/></a>"
      ]
    },
    {
      "cell_type": "markdown",
      "metadata": {
        "id": "feIOJfLckVn-"
      },
      "source": [
        "# Lab 4: Redes Neuronales\n",
        "**Inteligencia Artificial - ICI3244**\n",
        "\n",
        "Integrantes:\n",
        "*   Victor Granda\n",
        "*   Ramiro Magnatera\n",
        "*   Benjamin Rojas\n",
        "*   Paul Rojas\n",
        "*   Vicente Sarabia"
      ]
    },
    {
      "cell_type": "markdown",
      "metadata": {
        "id": "8C515XWkuHQB"
      },
      "source": [
        "# Introdución\n",
        "\n",
        "Este laboratorio se enfoca en el estudio y aplicación de conceptos y métodos fundamentales en el campo del *aprendizaje supervisado*, con especial énfasis en la **clasificación y regresión** utilizando **redes neuronales** como herramientas de modelado.\n",
        "\n",
        "El laboratorio utiliza el conjunto de datos del vino portugués (*winequality-red.csv* y *winequality-white.csv*), este conjunto de datos proporciona información detallada sobre varios atributos de los *vinos tintos y blancos* y permite un análisis del rendimiento de los modelos de clasificación y regresión implementados.\n",
        "\n",
        "Un aspecto importante a destacar en este laboratorio es la adición de una columna `quality_class` que asigna categorías de calidad a los vinos, brindando una perspectiva adicional para evaluar el desempeño del modelo implementado.\n",
        "\n",
        "Una de las tareas principales de este laboratorio es implementar redes neuronales, para este notebook se crearan utilizando **Tensorflow**, una libreria de aprendizaje automático ampliamente utilizada que se ha demostrado que es efectiva para una amplia variedad de problemas.\n",
        "\n",
        "Esto requiere diseñar y entrenar un modelo de clasificación basado en redes neuronales donde su capa de salida se adapta al número de clases a clasificar. También necesitamos un modelo de regresión que pueda estimar la calidad del vino.\n",
        "\n",
        "Para evaluar con precisión el rendimiento del modelo, se aplica la técnica ***k-fold cross validation***. Este es un método de validación cruzada que asegura la robustez y generalización de los resultados obtenidos.\n",
        "\n",
        "Finalmente, se realiza un análisis comparativo de los errores introducidos por el uso de diferentes funciones de activación en TensorFlow, en la función logística *(sigmoidea)* y la función tangente hiperbólica ($\\tanh$). Este análisis permitirá evaluar el impacto de la elección de la función de activación en el rendimiento de los modelos implementados y proporcionará una comprensión más profunda de su comportamiento en el contexto de este laboratorio.\n",
        "\n",
        "\n"
      ]
    },
    {
      "cell_type": "code",
      "execution_count": null,
      "metadata": {
        "colab": {
          "base_uri": "https://localhost:8080/"
        },
        "id": "b9_zTlBnkNck",
        "outputId": "54353388-8fb3-4a39-b4fe-52d5172b293c"
      },
      "outputs": [
        {
          "output_type": "stream",
          "name": "stdout",
          "text": [
            "Cloning into 'lab2_ia'...\n",
            "remote: Enumerating objects: 8, done.\u001b[K\n",
            "remote: Counting objects: 100% (8/8), done.\u001b[K\n",
            "remote: Compressing objects: 100% (6/6), done.\u001b[K\n",
            "remote: Total 8 (delta 0), reused 0 (delta 0), pack-reused 0\u001b[K\n",
            "Unpacking objects: 100% (8/8), 93.18 KiB | 1.79 MiB/s, done.\n"
          ]
        }
      ],
      "source": [
        "!git clone \"https://github.com/benjarojas/lab2_ia.git\" # clone dataset -> lab2_ia/"
      ]
    },
    {
      "cell_type": "code",
      "execution_count": null,
      "metadata": {
        "id": "eR9shzxdlaQf"
      },
      "outputs": [],
      "source": [
        "# Importa las bibliotecas\n",
        "import os\n",
        "import pandas as pd\n",
        "import numpy as np\n",
        "import matplotlib.pyplot as plt\n",
        "import seaborn as sns\n",
        "import tensorflow as tf\n",
        "from tensorflow import keras\n",
        "\n",
        "from sklearn.model_selection import train_test_split\n",
        "from sklearn.metrics import accuracy_score, precision_score, recall_score, confusion_matrix\n",
        "from sklearn.model_selection import RandomizedSearchCV\n",
        "from scipy.stats import randint\n",
        "from sklearn.model_selection import cross_val_score\n",
        "from sklearn.preprocessing import StandardScaler\n",
        "from sklearn.model_selection import KFold\n",
        "\n",
        "\n",
        "import keras\n",
        "from keras.models import Sequential\n",
        "from keras.layers import Dense\n",
        "from sklearn.preprocessing import LabelEncoder\n",
        "\n",
        "sns.set_style('darkgrid')"
      ]
    },
    {
      "cell_type": "code",
      "execution_count": null,
      "metadata": {
        "id": "g7fYShIbk_AH"
      },
      "outputs": [],
      "source": [
        "# Almacena los datos en el DataFrame llamado \"dataset_red\" y \"dataset_white\".\n",
        "dataset_red = pd.read_csv(os.path.join(\"lab2_ia/\", \"winequality-red.csv\"), sep=\";\")\n",
        "dataset_white = pd.read_csv(os.path.join(\"lab2_ia/\", \"winequality-white.csv\"), sep=\";\")"
      ]
    },
    {
      "cell_type": "markdown",
      "metadata": {
        "id": "NWJ1r10fr3VG"
      },
      "source": [
        "# Dataset Red"
      ]
    },
    {
      "cell_type": "code",
      "execution_count": null,
      "metadata": {
        "colab": {
          "base_uri": "https://localhost:8080/",
          "height": 267
        },
        "id": "umrJ4BBCtCRf",
        "outputId": "b1deb190-b28c-4511-a63c-3125f68819bb"
      },
      "outputs": [
        {
          "output_type": "execute_result",
          "data": {
            "text/plain": [
              "   fixed acidity  volatile acidity  citric acid  residual sugar  chlorides  \\\n",
              "0            7.4              0.70         0.00             1.9      0.076   \n",
              "1            7.8              0.88         0.00             2.6      0.098   \n",
              "2            7.8              0.76         0.04             2.3      0.092   \n",
              "3           11.2              0.28         0.56             1.9      0.075   \n",
              "4            7.4              0.70         0.00             1.9      0.076   \n",
              "\n",
              "   free sulfur dioxide  total sulfur dioxide  density    pH  sulphates  \\\n",
              "0                 11.0                  34.0   0.9978  3.51       0.56   \n",
              "1                 25.0                  67.0   0.9968  3.20       0.68   \n",
              "2                 15.0                  54.0   0.9970  3.26       0.65   \n",
              "3                 17.0                  60.0   0.9980  3.16       0.58   \n",
              "4                 11.0                  34.0   0.9978  3.51       0.56   \n",
              "\n",
              "   alcohol  quality  \n",
              "0      9.4        5  \n",
              "1      9.8        5  \n",
              "2      9.8        5  \n",
              "3      9.8        6  \n",
              "4      9.4        5  "
            ],
            "text/html": [
              "\n",
              "  <div id=\"df-4fed1e32-5150-4a9f-a8ec-f677b1c443fc\">\n",
              "    <div class=\"colab-df-container\">\n",
              "      <div>\n",
              "<style scoped>\n",
              "    .dataframe tbody tr th:only-of-type {\n",
              "        vertical-align: middle;\n",
              "    }\n",
              "\n",
              "    .dataframe tbody tr th {\n",
              "        vertical-align: top;\n",
              "    }\n",
              "\n",
              "    .dataframe thead th {\n",
              "        text-align: right;\n",
              "    }\n",
              "</style>\n",
              "<table border=\"1\" class=\"dataframe\">\n",
              "  <thead>\n",
              "    <tr style=\"text-align: right;\">\n",
              "      <th></th>\n",
              "      <th>fixed acidity</th>\n",
              "      <th>volatile acidity</th>\n",
              "      <th>citric acid</th>\n",
              "      <th>residual sugar</th>\n",
              "      <th>chlorides</th>\n",
              "      <th>free sulfur dioxide</th>\n",
              "      <th>total sulfur dioxide</th>\n",
              "      <th>density</th>\n",
              "      <th>pH</th>\n",
              "      <th>sulphates</th>\n",
              "      <th>alcohol</th>\n",
              "      <th>quality</th>\n",
              "    </tr>\n",
              "  </thead>\n",
              "  <tbody>\n",
              "    <tr>\n",
              "      <th>0</th>\n",
              "      <td>7.4</td>\n",
              "      <td>0.70</td>\n",
              "      <td>0.00</td>\n",
              "      <td>1.9</td>\n",
              "      <td>0.076</td>\n",
              "      <td>11.0</td>\n",
              "      <td>34.0</td>\n",
              "      <td>0.9978</td>\n",
              "      <td>3.51</td>\n",
              "      <td>0.56</td>\n",
              "      <td>9.4</td>\n",
              "      <td>5</td>\n",
              "    </tr>\n",
              "    <tr>\n",
              "      <th>1</th>\n",
              "      <td>7.8</td>\n",
              "      <td>0.88</td>\n",
              "      <td>0.00</td>\n",
              "      <td>2.6</td>\n",
              "      <td>0.098</td>\n",
              "      <td>25.0</td>\n",
              "      <td>67.0</td>\n",
              "      <td>0.9968</td>\n",
              "      <td>3.20</td>\n",
              "      <td>0.68</td>\n",
              "      <td>9.8</td>\n",
              "      <td>5</td>\n",
              "    </tr>\n",
              "    <tr>\n",
              "      <th>2</th>\n",
              "      <td>7.8</td>\n",
              "      <td>0.76</td>\n",
              "      <td>0.04</td>\n",
              "      <td>2.3</td>\n",
              "      <td>0.092</td>\n",
              "      <td>15.0</td>\n",
              "      <td>54.0</td>\n",
              "      <td>0.9970</td>\n",
              "      <td>3.26</td>\n",
              "      <td>0.65</td>\n",
              "      <td>9.8</td>\n",
              "      <td>5</td>\n",
              "    </tr>\n",
              "    <tr>\n",
              "      <th>3</th>\n",
              "      <td>11.2</td>\n",
              "      <td>0.28</td>\n",
              "      <td>0.56</td>\n",
              "      <td>1.9</td>\n",
              "      <td>0.075</td>\n",
              "      <td>17.0</td>\n",
              "      <td>60.0</td>\n",
              "      <td>0.9980</td>\n",
              "      <td>3.16</td>\n",
              "      <td>0.58</td>\n",
              "      <td>9.8</td>\n",
              "      <td>6</td>\n",
              "    </tr>\n",
              "    <tr>\n",
              "      <th>4</th>\n",
              "      <td>7.4</td>\n",
              "      <td>0.70</td>\n",
              "      <td>0.00</td>\n",
              "      <td>1.9</td>\n",
              "      <td>0.076</td>\n",
              "      <td>11.0</td>\n",
              "      <td>34.0</td>\n",
              "      <td>0.9978</td>\n",
              "      <td>3.51</td>\n",
              "      <td>0.56</td>\n",
              "      <td>9.4</td>\n",
              "      <td>5</td>\n",
              "    </tr>\n",
              "  </tbody>\n",
              "</table>\n",
              "</div>\n",
              "      <button class=\"colab-df-convert\" onclick=\"convertToInteractive('df-4fed1e32-5150-4a9f-a8ec-f677b1c443fc')\"\n",
              "              title=\"Convert this dataframe to an interactive table.\"\n",
              "              style=\"display:none;\">\n",
              "        \n",
              "  <svg xmlns=\"http://www.w3.org/2000/svg\" height=\"24px\"viewBox=\"0 0 24 24\"\n",
              "       width=\"24px\">\n",
              "    <path d=\"M0 0h24v24H0V0z\" fill=\"none\"/>\n",
              "    <path d=\"M18.56 5.44l.94 2.06.94-2.06 2.06-.94-2.06-.94-.94-2.06-.94 2.06-2.06.94zm-11 1L8.5 8.5l.94-2.06 2.06-.94-2.06-.94L8.5 2.5l-.94 2.06-2.06.94zm10 10l.94 2.06.94-2.06 2.06-.94-2.06-.94-.94-2.06-.94 2.06-2.06.94z\"/><path d=\"M17.41 7.96l-1.37-1.37c-.4-.4-.92-.59-1.43-.59-.52 0-1.04.2-1.43.59L10.3 9.45l-7.72 7.72c-.78.78-.78 2.05 0 2.83L4 21.41c.39.39.9.59 1.41.59.51 0 1.02-.2 1.41-.59l7.78-7.78 2.81-2.81c.8-.78.8-2.07 0-2.86zM5.41 20L4 18.59l7.72-7.72 1.47 1.35L5.41 20z\"/>\n",
              "  </svg>\n",
              "      </button>\n",
              "      \n",
              "  <style>\n",
              "    .colab-df-container {\n",
              "      display:flex;\n",
              "      flex-wrap:wrap;\n",
              "      gap: 12px;\n",
              "    }\n",
              "\n",
              "    .colab-df-convert {\n",
              "      background-color: #E8F0FE;\n",
              "      border: none;\n",
              "      border-radius: 50%;\n",
              "      cursor: pointer;\n",
              "      display: none;\n",
              "      fill: #1967D2;\n",
              "      height: 32px;\n",
              "      padding: 0 0 0 0;\n",
              "      width: 32px;\n",
              "    }\n",
              "\n",
              "    .colab-df-convert:hover {\n",
              "      background-color: #E2EBFA;\n",
              "      box-shadow: 0px 1px 2px rgba(60, 64, 67, 0.3), 0px 1px 3px 1px rgba(60, 64, 67, 0.15);\n",
              "      fill: #174EA6;\n",
              "    }\n",
              "\n",
              "    [theme=dark] .colab-df-convert {\n",
              "      background-color: #3B4455;\n",
              "      fill: #D2E3FC;\n",
              "    }\n",
              "\n",
              "    [theme=dark] .colab-df-convert:hover {\n",
              "      background-color: #434B5C;\n",
              "      box-shadow: 0px 1px 3px 1px rgba(0, 0, 0, 0.15);\n",
              "      filter: drop-shadow(0px 1px 2px rgba(0, 0, 0, 0.3));\n",
              "      fill: #FFFFFF;\n",
              "    }\n",
              "  </style>\n",
              "\n",
              "      <script>\n",
              "        const buttonEl =\n",
              "          document.querySelector('#df-4fed1e32-5150-4a9f-a8ec-f677b1c443fc button.colab-df-convert');\n",
              "        buttonEl.style.display =\n",
              "          google.colab.kernel.accessAllowed ? 'block' : 'none';\n",
              "\n",
              "        async function convertToInteractive(key) {\n",
              "          const element = document.querySelector('#df-4fed1e32-5150-4a9f-a8ec-f677b1c443fc');\n",
              "          const dataTable =\n",
              "            await google.colab.kernel.invokeFunction('convertToInteractive',\n",
              "                                                     [key], {});\n",
              "          if (!dataTable) return;\n",
              "\n",
              "          const docLinkHtml = 'Like what you see? Visit the ' +\n",
              "            '<a target=\"_blank\" href=https://colab.research.google.com/notebooks/data_table.ipynb>data table notebook</a>'\n",
              "            + ' to learn more about interactive tables.';\n",
              "          element.innerHTML = '';\n",
              "          dataTable['output_type'] = 'display_data';\n",
              "          await google.colab.output.renderOutput(dataTable, element);\n",
              "          const docLink = document.createElement('div');\n",
              "          docLink.innerHTML = docLinkHtml;\n",
              "          element.appendChild(docLink);\n",
              "        }\n",
              "      </script>\n",
              "    </div>\n",
              "  </div>\n",
              "  "
            ]
          },
          "metadata": {},
          "execution_count": 4
        }
      ],
      "source": [
        "#muestra las primeras filas\n",
        "dataset_red.head()"
      ]
    },
    {
      "cell_type": "markdown",
      "metadata": {
        "id": "l1Md_3I4xG23"
      },
      "source": [
        "### Label de clase\n",
        "Se agrega la etiqueta `quality_class` que va a calificar cada vino en base al atributo `quality` en `LowQuality`, `Average` o `HighQuality`"
      ]
    },
    {
      "cell_type": "code",
      "execution_count": null,
      "metadata": {
        "id": "g_XUlcJaEZmN"
      },
      "outputs": [],
      "source": [
        "# Extrae la columna 'quality' del dataset 'dataset_red'.\n",
        "columnaQuality = dataset_red['quality']\n",
        "\n",
        "# Se aplica una función lambda para asignar etiquetas de clasificación:\n",
        "#'lowquality' si quality es menor que 5\n",
        "#'average' si quality es igual a 5\n",
        "#'highquality' en cualquier otro caso.\n",
        "columnaQuality = columnaQuality.apply(lambda x: 'lowquality' if x < 5 else 'average' if x == 5 else 'highquality')\n",
        "\n",
        "# Inserta una nueva columna llamada 'quality_class' en la posición 12 del dataset 'dataset_red'\n",
        "dataset_red.insert(12, 'quality_class',np.array(columnaQuality))"
      ]
    },
    {
      "cell_type": "code",
      "execution_count": null,
      "metadata": {
        "colab": {
          "base_uri": "https://localhost:8080/",
          "height": 267
        },
        "id": "69tDRgsAcI9e",
        "outputId": "f12f80e9-099e-460b-97c7-46a4b0f006d3"
      },
      "outputs": [
        {
          "output_type": "execute_result",
          "data": {
            "text/plain": [
              "   fixed acidity  volatile acidity  citric acid  residual sugar  chlorides  \\\n",
              "0            7.4              0.70         0.00             1.9      0.076   \n",
              "1            7.8              0.88         0.00             2.6      0.098   \n",
              "2            7.8              0.76         0.04             2.3      0.092   \n",
              "3           11.2              0.28         0.56             1.9      0.075   \n",
              "4            7.4              0.70         0.00             1.9      0.076   \n",
              "\n",
              "   free sulfur dioxide  total sulfur dioxide  density    pH  sulphates  \\\n",
              "0                 11.0                  34.0   0.9978  3.51       0.56   \n",
              "1                 25.0                  67.0   0.9968  3.20       0.68   \n",
              "2                 15.0                  54.0   0.9970  3.26       0.65   \n",
              "3                 17.0                  60.0   0.9980  3.16       0.58   \n",
              "4                 11.0                  34.0   0.9978  3.51       0.56   \n",
              "\n",
              "   alcohol  quality quality_class  \n",
              "0      9.4        5       average  \n",
              "1      9.8        5       average  \n",
              "2      9.8        5       average  \n",
              "3      9.8        6   highquality  \n",
              "4      9.4        5       average  "
            ],
            "text/html": [
              "\n",
              "  <div id=\"df-50cd486f-a8ad-4346-904a-7c6162609f63\">\n",
              "    <div class=\"colab-df-container\">\n",
              "      <div>\n",
              "<style scoped>\n",
              "    .dataframe tbody tr th:only-of-type {\n",
              "        vertical-align: middle;\n",
              "    }\n",
              "\n",
              "    .dataframe tbody tr th {\n",
              "        vertical-align: top;\n",
              "    }\n",
              "\n",
              "    .dataframe thead th {\n",
              "        text-align: right;\n",
              "    }\n",
              "</style>\n",
              "<table border=\"1\" class=\"dataframe\">\n",
              "  <thead>\n",
              "    <tr style=\"text-align: right;\">\n",
              "      <th></th>\n",
              "      <th>fixed acidity</th>\n",
              "      <th>volatile acidity</th>\n",
              "      <th>citric acid</th>\n",
              "      <th>residual sugar</th>\n",
              "      <th>chlorides</th>\n",
              "      <th>free sulfur dioxide</th>\n",
              "      <th>total sulfur dioxide</th>\n",
              "      <th>density</th>\n",
              "      <th>pH</th>\n",
              "      <th>sulphates</th>\n",
              "      <th>alcohol</th>\n",
              "      <th>quality</th>\n",
              "      <th>quality_class</th>\n",
              "    </tr>\n",
              "  </thead>\n",
              "  <tbody>\n",
              "    <tr>\n",
              "      <th>0</th>\n",
              "      <td>7.4</td>\n",
              "      <td>0.70</td>\n",
              "      <td>0.00</td>\n",
              "      <td>1.9</td>\n",
              "      <td>0.076</td>\n",
              "      <td>11.0</td>\n",
              "      <td>34.0</td>\n",
              "      <td>0.9978</td>\n",
              "      <td>3.51</td>\n",
              "      <td>0.56</td>\n",
              "      <td>9.4</td>\n",
              "      <td>5</td>\n",
              "      <td>average</td>\n",
              "    </tr>\n",
              "    <tr>\n",
              "      <th>1</th>\n",
              "      <td>7.8</td>\n",
              "      <td>0.88</td>\n",
              "      <td>0.00</td>\n",
              "      <td>2.6</td>\n",
              "      <td>0.098</td>\n",
              "      <td>25.0</td>\n",
              "      <td>67.0</td>\n",
              "      <td>0.9968</td>\n",
              "      <td>3.20</td>\n",
              "      <td>0.68</td>\n",
              "      <td>9.8</td>\n",
              "      <td>5</td>\n",
              "      <td>average</td>\n",
              "    </tr>\n",
              "    <tr>\n",
              "      <th>2</th>\n",
              "      <td>7.8</td>\n",
              "      <td>0.76</td>\n",
              "      <td>0.04</td>\n",
              "      <td>2.3</td>\n",
              "      <td>0.092</td>\n",
              "      <td>15.0</td>\n",
              "      <td>54.0</td>\n",
              "      <td>0.9970</td>\n",
              "      <td>3.26</td>\n",
              "      <td>0.65</td>\n",
              "      <td>9.8</td>\n",
              "      <td>5</td>\n",
              "      <td>average</td>\n",
              "    </tr>\n",
              "    <tr>\n",
              "      <th>3</th>\n",
              "      <td>11.2</td>\n",
              "      <td>0.28</td>\n",
              "      <td>0.56</td>\n",
              "      <td>1.9</td>\n",
              "      <td>0.075</td>\n",
              "      <td>17.0</td>\n",
              "      <td>60.0</td>\n",
              "      <td>0.9980</td>\n",
              "      <td>3.16</td>\n",
              "      <td>0.58</td>\n",
              "      <td>9.8</td>\n",
              "      <td>6</td>\n",
              "      <td>highquality</td>\n",
              "    </tr>\n",
              "    <tr>\n",
              "      <th>4</th>\n",
              "      <td>7.4</td>\n",
              "      <td>0.70</td>\n",
              "      <td>0.00</td>\n",
              "      <td>1.9</td>\n",
              "      <td>0.076</td>\n",
              "      <td>11.0</td>\n",
              "      <td>34.0</td>\n",
              "      <td>0.9978</td>\n",
              "      <td>3.51</td>\n",
              "      <td>0.56</td>\n",
              "      <td>9.4</td>\n",
              "      <td>5</td>\n",
              "      <td>average</td>\n",
              "    </tr>\n",
              "  </tbody>\n",
              "</table>\n",
              "</div>\n",
              "      <button class=\"colab-df-convert\" onclick=\"convertToInteractive('df-50cd486f-a8ad-4346-904a-7c6162609f63')\"\n",
              "              title=\"Convert this dataframe to an interactive table.\"\n",
              "              style=\"display:none;\">\n",
              "        \n",
              "  <svg xmlns=\"http://www.w3.org/2000/svg\" height=\"24px\"viewBox=\"0 0 24 24\"\n",
              "       width=\"24px\">\n",
              "    <path d=\"M0 0h24v24H0V0z\" fill=\"none\"/>\n",
              "    <path d=\"M18.56 5.44l.94 2.06.94-2.06 2.06-.94-2.06-.94-.94-2.06-.94 2.06-2.06.94zm-11 1L8.5 8.5l.94-2.06 2.06-.94-2.06-.94L8.5 2.5l-.94 2.06-2.06.94zm10 10l.94 2.06.94-2.06 2.06-.94-2.06-.94-.94-2.06-.94 2.06-2.06.94z\"/><path d=\"M17.41 7.96l-1.37-1.37c-.4-.4-.92-.59-1.43-.59-.52 0-1.04.2-1.43.59L10.3 9.45l-7.72 7.72c-.78.78-.78 2.05 0 2.83L4 21.41c.39.39.9.59 1.41.59.51 0 1.02-.2 1.41-.59l7.78-7.78 2.81-2.81c.8-.78.8-2.07 0-2.86zM5.41 20L4 18.59l7.72-7.72 1.47 1.35L5.41 20z\"/>\n",
              "  </svg>\n",
              "      </button>\n",
              "      \n",
              "  <style>\n",
              "    .colab-df-container {\n",
              "      display:flex;\n",
              "      flex-wrap:wrap;\n",
              "      gap: 12px;\n",
              "    }\n",
              "\n",
              "    .colab-df-convert {\n",
              "      background-color: #E8F0FE;\n",
              "      border: none;\n",
              "      border-radius: 50%;\n",
              "      cursor: pointer;\n",
              "      display: none;\n",
              "      fill: #1967D2;\n",
              "      height: 32px;\n",
              "      padding: 0 0 0 0;\n",
              "      width: 32px;\n",
              "    }\n",
              "\n",
              "    .colab-df-convert:hover {\n",
              "      background-color: #E2EBFA;\n",
              "      box-shadow: 0px 1px 2px rgba(60, 64, 67, 0.3), 0px 1px 3px 1px rgba(60, 64, 67, 0.15);\n",
              "      fill: #174EA6;\n",
              "    }\n",
              "\n",
              "    [theme=dark] .colab-df-convert {\n",
              "      background-color: #3B4455;\n",
              "      fill: #D2E3FC;\n",
              "    }\n",
              "\n",
              "    [theme=dark] .colab-df-convert:hover {\n",
              "      background-color: #434B5C;\n",
              "      box-shadow: 0px 1px 3px 1px rgba(0, 0, 0, 0.15);\n",
              "      filter: drop-shadow(0px 1px 2px rgba(0, 0, 0, 0.3));\n",
              "      fill: #FFFFFF;\n",
              "    }\n",
              "  </style>\n",
              "\n",
              "      <script>\n",
              "        const buttonEl =\n",
              "          document.querySelector('#df-50cd486f-a8ad-4346-904a-7c6162609f63 button.colab-df-convert');\n",
              "        buttonEl.style.display =\n",
              "          google.colab.kernel.accessAllowed ? 'block' : 'none';\n",
              "\n",
              "        async function convertToInteractive(key) {\n",
              "          const element = document.querySelector('#df-50cd486f-a8ad-4346-904a-7c6162609f63');\n",
              "          const dataTable =\n",
              "            await google.colab.kernel.invokeFunction('convertToInteractive',\n",
              "                                                     [key], {});\n",
              "          if (!dataTable) return;\n",
              "\n",
              "          const docLinkHtml = 'Like what you see? Visit the ' +\n",
              "            '<a target=\"_blank\" href=https://colab.research.google.com/notebooks/data_table.ipynb>data table notebook</a>'\n",
              "            + ' to learn more about interactive tables.';\n",
              "          element.innerHTML = '';\n",
              "          dataTable['output_type'] = 'display_data';\n",
              "          await google.colab.output.renderOutput(dataTable, element);\n",
              "          const docLink = document.createElement('div');\n",
              "          docLink.innerHTML = docLinkHtml;\n",
              "          element.appendChild(docLink);\n",
              "        }\n",
              "      </script>\n",
              "    </div>\n",
              "  </div>\n",
              "  "
            ]
          },
          "metadata": {},
          "execution_count": 6
        }
      ],
      "source": [
        "# Muestra las primeras filas y la nueva columna \"quality_class\"\n",
        "dataset_red.head()"
      ]
    },
    {
      "cell_type": "markdown",
      "metadata": {
        "id": "kLv_CfhkqyYz"
      },
      "source": [
        "## Clasificación y regresión utilizando función sigmoidea"
      ]
    },
    {
      "cell_type": "markdown",
      "metadata": {
        "id": "wPWu5A8KsR6P"
      },
      "source": [
        "### Clasificación"
      ]
    },
    {
      "cell_type": "markdown",
      "metadata": {
        "id": "7EZTLF49d0iI"
      },
      "source": [
        "Creamos un modelo de clasificación basado en redes neuronales, utilizando la función sigmoide como función de activación. La arquitectura del modelo consiste en una capa de entrada, una capa oculta densa con 64 neuronas, otra con 32 y una capa de salida con 3 neuronas correspondientes a cada clase."
      ]
    },
    {
      "cell_type": "code",
      "execution_count": null,
      "metadata": {
        "colab": {
          "base_uri": "https://localhost:8080/"
        },
        "id": "G07mVnAhr9em",
        "outputId": "1e8db3aa-283e-4be6-ce5d-1ac9e80aacdb"
      },
      "outputs": [
        {
          "output_type": "stream",
          "name": "stdout",
          "text": [
            "Epoch 1/20\n",
            "40/40 [==============================] - 1s 9ms/step - loss: 0.8532 - accuracy: 0.5364 - val_loss: 0.7887 - val_accuracy: 0.6219\n",
            "Epoch 2/20\n",
            "40/40 [==============================] - 0s 3ms/step - loss: 0.7881 - accuracy: 0.6192 - val_loss: 0.7617 - val_accuracy: 0.6250\n",
            "Epoch 3/20\n",
            "40/40 [==============================] - 0s 3ms/step - loss: 0.7679 - accuracy: 0.6263 - val_loss: 0.7510 - val_accuracy: 0.6250\n",
            "Epoch 4/20\n",
            "40/40 [==============================] - 0s 3ms/step - loss: 0.7549 - accuracy: 0.6458 - val_loss: 0.7360 - val_accuracy: 0.6281\n",
            "Epoch 5/20\n",
            "40/40 [==============================] - 0s 3ms/step - loss: 0.7380 - accuracy: 0.6403 - val_loss: 0.7235 - val_accuracy: 0.6375\n",
            "Epoch 6/20\n",
            "40/40 [==============================] - 0s 3ms/step - loss: 0.7265 - accuracy: 0.6505 - val_loss: 0.7104 - val_accuracy: 0.6250\n",
            "Epoch 7/20\n",
            "40/40 [==============================] - 0s 3ms/step - loss: 0.7125 - accuracy: 0.6575 - val_loss: 0.6934 - val_accuracy: 0.6406\n",
            "Epoch 8/20\n",
            "40/40 [==============================] - 0s 3ms/step - loss: 0.6901 - accuracy: 0.6857 - val_loss: 0.6698 - val_accuracy: 0.6656\n",
            "Epoch 9/20\n",
            "40/40 [==============================] - 0s 3ms/step - loss: 0.6654 - accuracy: 0.6873 - val_loss: 0.6650 - val_accuracy: 0.7125\n",
            "Epoch 10/20\n",
            "40/40 [==============================] - 0s 3ms/step - loss: 0.6455 - accuracy: 0.7107 - val_loss: 0.6277 - val_accuracy: 0.6938\n",
            "Epoch 11/20\n",
            "40/40 [==============================] - 0s 3ms/step - loss: 0.6174 - accuracy: 0.7373 - val_loss: 0.5971 - val_accuracy: 0.7563\n",
            "Epoch 12/20\n",
            "40/40 [==============================] - 0s 3ms/step - loss: 0.5825 - accuracy: 0.7678 - val_loss: 0.5754 - val_accuracy: 0.8156\n",
            "Epoch 13/20\n",
            "40/40 [==============================] - 0s 3ms/step - loss: 0.5523 - accuracy: 0.7952 - val_loss: 0.5360 - val_accuracy: 0.8469\n",
            "Epoch 14/20\n",
            "40/40 [==============================] - 0s 3ms/step - loss: 0.5089 - accuracy: 0.8428 - val_loss: 0.4918 - val_accuracy: 0.8344\n",
            "Epoch 15/20\n",
            "40/40 [==============================] - 0s 3ms/step - loss: 0.4755 - accuracy: 0.8647 - val_loss: 0.4541 - val_accuracy: 0.8844\n",
            "Epoch 16/20\n",
            "40/40 [==============================] - 0s 3ms/step - loss: 0.4466 - accuracy: 0.8702 - val_loss: 0.4347 - val_accuracy: 0.8844\n",
            "Epoch 17/20\n",
            "40/40 [==============================] - 0s 3ms/step - loss: 0.4054 - accuracy: 0.9023 - val_loss: 0.3909 - val_accuracy: 0.9062\n",
            "Epoch 18/20\n",
            "40/40 [==============================] - 0s 3ms/step - loss: 0.3781 - accuracy: 0.9116 - val_loss: 0.3701 - val_accuracy: 0.8750\n",
            "Epoch 19/20\n",
            "40/40 [==============================] - 0s 3ms/step - loss: 0.3498 - accuracy: 0.9046 - val_loss: 0.3177 - val_accuracy: 0.9406\n",
            "Epoch 20/20\n",
            "40/40 [==============================] - 0s 3ms/step - loss: 0.3202 - accuracy: 0.9367 - val_loss: 0.2949 - val_accuracy: 0.9375\n",
            "10/10 [==============================] - 0s 2ms/step - loss: 0.2949 - accuracy: 0.9375\n",
            "Test loss: 0.2948535084724426\n",
            "Test accuracy: 0.9375\n"
          ]
        }
      ],
      "source": [
        "# Crea el dataset 'X_dataset_red' eliminando la columna 'quality_class' de 'dataset_red'\n",
        "X_dataset_red = dataset_red.drop('quality_class', axis=1)\n",
        "\n",
        "# Almacena las etiquetas 'quality_class' del dataset original\n",
        "y = dataset_red['quality_class']\n",
        "\n",
        "# Encode\n",
        "label_encoder = LabelEncoder()\n",
        "y = label_encoder.fit_transform(y)\n",
        "y = keras.utils.to_categorical(y)\n",
        "\n",
        "# Dividir los datos en sets de entrenamiento y de testing\n",
        "X_train, X_test, y_train, y_test = train_test_split(X_dataset_red, y, test_size=0.2, random_state=42)\n",
        "\n",
        "# Creamos el modelo\n",
        "model = Sequential()\n",
        "\n",
        "# Capa de entrada\n",
        "model.add(Dense(units=64, activation='sigmoid', input_shape=(12,)))\n",
        "\n",
        "# Capa ocultas\n",
        "model.add(Dense(units=32, activation='sigmoid'))\n",
        "\n",
        "# Capa de salida\n",
        "num_classes = len(label_encoder.classes_)\n",
        "model.add(Dense(units=num_classes, activation='sigmoid'))\n",
        "\n",
        "# Compilamos el modelo\n",
        "model.compile(loss='categorical_crossentropy', optimizer='adam', metrics=['accuracy'])\n",
        "\n",
        "# Entrenamos el modelo con 20 épocas\n",
        "model.fit(X_train, y_train, batch_size=32, epochs=20, validation_data=(X_test, y_test))\n",
        "\n",
        "# Evaluamos el modelo\n",
        "loss, accuracy = model.evaluate(X_test, y_test)\n",
        "print('Test loss:', loss)\n",
        "print('Test accuracy:', accuracy)\n",
        "\n",
        "# variables de tabla de comparacion\n",
        "loss_clas_sigmoide = loss\n",
        "accuracy_clas_sigmoide = accuracy"
      ]
    },
    {
      "cell_type": "markdown",
      "metadata": {
        "id": "mrJIPDYt3ZSW"
      },
      "source": [
        "#### **Matriz de Confusión**\n",
        "\n",
        "Creamos una matriz de confusión para visualizar el rendimiento del modelo"
      ]
    },
    {
      "cell_type": "code",
      "execution_count": null,
      "metadata": {
        "colab": {
          "base_uri": "https://localhost:8080/"
        },
        "id": "57NMLIDNqyIU",
        "outputId": "e2321c0a-0439-4d75-e902-e199de9e7ae3"
      },
      "outputs": [
        {
          "output_type": "stream",
          "name": "stdout",
          "text": [
            "10/10 [==============================] - 0s 2ms/step\n"
          ]
        },
        {
          "output_type": "display_data",
          "data": {
            "text/plain": [
              "<Figure size 800x600 with 1 Axes>"
            ],
            "image/png": "[encoded data removed]"
          },
          "metadata": {}
        }
      ],
      "source": [
        "#Se realizan predicciones del modelo y se guardan los valores reales esperados\n",
        "predictions = model.predict(X_test)\n",
        "predicted_labels = np.argmax(predictions, axis=1)\n",
        "true_labels = np.argmax(y_test, axis=1)\n",
        "\n",
        "#Se genera la matriz de confusión\n",
        "confusion = confusion_matrix(true_labels, predicted_labels)\n",
        "\n",
        "#Se muestra por pantalla la matriz de confusión\n",
        "plt.figure(figsize=(8, 6))\n",
        "axis_labels=label_encoder.classes_\n",
        "sns.heatmap(confusion, annot=True, xticklabels=axis_labels, yticklabels=axis_labels, fmt=\"d\", cmap=\"Blues\", cbar=False)\n",
        "plt.xlabel('Predicción')\n",
        "plt.ylabel('Valor Real')\n",
        "plt.title('Matriz de Confusión')\n",
        "plt.show()"
      ]
    },
    {
      "cell_type": "markdown",
      "metadata": {
        "id": "AmJshoT73bG4"
      },
      "source": [
        "#### **K-Fold Cross Validation**"
      ]
    },
    {
      "cell_type": "code",
      "execution_count": null,
      "metadata": {
        "colab": {
          "base_uri": "https://localhost:8080/"
        },
        "id": "c36oZShZ01pp",
        "outputId": "bfcc67cc-67d6-4c50-fd6b-4dd61c2af7c8"
      },
      "outputs": [
        {
          "output_type": "stream",
          "name": "stdout",
          "text": [
            "------------------------------------------------------------------------\n",
            "Entrenando para fold 1 ...\n",
            "Resultados para fold 1: loss de 0.3834196925163269; accuracy de 91.25000238418579%\n",
            "------------------------------------------------------------------------\n",
            "Entrenando para fold 2 ...\n",
            "Resultados para fold 2: loss de 0.36760297417640686; accuracy de 94.0625011920929%\n",
            "------------------------------------------------------------------------\n",
            "Entrenando para fold 3 ...\n",
            "Resultados para fold 3: loss de 0.3811279833316803; accuracy de 90.625%\n",
            "------------------------------------------------------------------------\n",
            "Entrenando para fold 4 ...\n",
            "Resultados para fold 4: loss de 0.39192894101142883; accuracy de 90.9375011920929%\n",
            "------------------------------------------------------------------------\n",
            "Entrenando para fold 5 ...\n",
            "Resultados para fold 5: loss de 0.3076065480709076; accuracy de 94.04388666152954%\n",
            "\n",
            "Loss promedio: 0.3663372278213501\n",
            "Accuracy promedio: 92.18377828598022%\n"
          ]
        }
      ],
      "source": [
        "# Inputs y Targets\n",
        "inputs = np.concatenate((X_train, X_test), axis=0)\n",
        "targets = np.concatenate((y_train, y_test), axis=0)\n",
        "\n",
        "k = 5\n",
        "kfold = KFold(n_splits=k, shuffle=True)\n",
        "\n",
        "acc_per_fold = []\n",
        "loss_per_fold = []\n",
        "\n",
        "# Evaluación de modelo usando K-Fold Cross Validation\n",
        "fold_num = 1\n",
        "for train, test in kfold.split(inputs, targets):\n",
        "\n",
        "  # Definimos la arquitectura usada por el modelo\n",
        "  model = Sequential()\n",
        "  model.add(Dense(units=64, activation='sigmoid', input_shape=(12,)))\n",
        "  model.add(Dense(units=32, activation='sigmoid'))\n",
        "  model.add(Dense(units=3, activation='sigmoid'))\n",
        "\n",
        "  # Compilamos el modelo\n",
        "  model.compile(loss='categorical_crossentropy',\n",
        "                optimizer='adam',\n",
        "                metrics=['accuracy'])\n",
        "\n",
        "  # Imprimimos cada fold\n",
        "  print('------------------------------------------------------------------------')\n",
        "  print(f'Entrenando para fold {fold_num} ...')\n",
        "\n",
        "  # Entrenamos el modelo\n",
        "  history = model.fit(inputs[train], targets[train],\n",
        "              batch_size=32,\n",
        "              epochs=20,\n",
        "              verbose=False)\n",
        "\n",
        "  # Generamos métricas\n",
        "  scores = model.evaluate(inputs[test], targets[test], verbose=0)\n",
        "  print(f'Resultados para fold {fold_num}: {model.metrics_names[0]} de {scores[0]}; {model.metrics_names[1]} de {scores[1]*100}%')\n",
        "  acc_per_fold.append(scores[1] * 100)\n",
        "  loss_per_fold.append(scores[0])\n",
        "\n",
        "  # Siguiente fold\n",
        "  fold_num = fold_num + 1\n",
        "\n",
        "print()\n",
        "print(f'Loss promedio: {sum(loss_per_fold)/len(loss_per_fold)}')\n",
        "print(f'Accuracy promedio: {sum(acc_per_fold)/len(acc_per_fold)}%')\n",
        "\n",
        "# variables de tabla de comparacion\n",
        "loss_clas_promedio_fold_sigmoide = sum(loss_per_fold)/len(loss_per_fold)\n",
        "accuracy_clas_promedio_fold_sigmoide = sum(acc_per_fold)/len(acc_per_fold)"
      ]
    },
    {
      "cell_type": "markdown",
      "metadata": {
        "id": "fF8Im5SAsc4p"
      },
      "source": [
        "### Regresión"
      ]
    },
    {
      "cell_type": "markdown",
      "metadata": {
        "id": "9TyohRm6Oj4w"
      },
      "source": [
        "Para este modelo a diferencia del de clasificación, se realizó un modelo con 1 input layer, 1 hidden layer densa de 50 neuronas que utilizan la función de activación sigmoide y una output layer, la cual no cuenta con una función de activación.\n",
        "\n",
        "La decisión de esta composición es debido a que se quiere evitar el overfitting del modelo, es por eso que se utiliza solo una hidden layer. Mientras que la cantidad de neuronas por capa es debido a que al realizar pruebas el MSE no variaba considerablemente dependiendo de este factor, por lo cual se prefirió por dejarlo lo más simple posible en pro del tiempo de ejecución de pruebas.\n",
        "\n",
        "Finalmente se agrega solamente una neurona en la output layer debido a que se quiere estimar un solo valor.\n",
        "\n",
        "Es importante destacar que el algoritmo optimizador que se utiliza es el gradiente estocástico descendente, con una learning rate de 0.001 y 30 epochs."
      ]
    },
    {
      "cell_type": "code",
      "execution_count": null,
      "metadata": {
        "id": "K-EHgH0KrYi3"
      },
      "outputs": [],
      "source": [
        "# crea una nueva variable 'X_red' que contiene todos los atributos excepto la columna 'quality'\n",
        "X_red = dataset_red.drop('quality', axis=1)\n",
        "#crea otra variable 'X_red' eliminando la columna 'quality_class' de 'X_red\n",
        "X_red = X_red.drop('quality_class', axis=1)\n",
        "# Almacenar los valores de la columna 'quality' del dataset original\n",
        "y_red = dataset_red['quality']\n",
        "# Conjunto de datos en conjuntos de entrenamiento y prueba utilizando la función train_test_split\n",
        "X_train_red, X_test_red, y_train_red, y_test_red = train_test_split(X_red, y_red, test_size=0.3, random_state=42)"
      ]
    },
    {
      "cell_type": "code",
      "execution_count": null,
      "metadata": {
        "colab": {
          "base_uri": "https://localhost:8080/"
        },
        "id": "EqOGHhpLpqYZ",
        "outputId": "3615de05-93b4-4e33-91e5-4bea330119c0"
      },
      "outputs": [
        {
          "output_type": "stream",
          "name": "stdout",
          "text": [
            "Model: \"modelo_sigmoide\"\n",
            "_________________________________________________________________\n",
            " Layer (type)                Output Shape              Param #   \n",
            "=================================================================\n",
            " dense_18 (Dense)            (None, 50)                600       \n",
            "                                                                 \n",
            " dense_19 (Dense)            (None, 1)                 51        \n",
            "                                                                 \n",
            "=================================================================\n",
            "Total params: 651\n",
            "Trainable params: 651\n",
            "Non-trainable params: 0\n",
            "_________________________________________________________________\n"
          ]
        }
      ],
      "source": [
        "# Modelo secuencia \"modelo_sigmoide\"\n",
        "# Compila un modelo secuencial de redes neuronales con una capa de activación sigmoide y una capa de salida lineal\n",
        "# la función de pérdida de error cuadrático medio y el optimizador SGD.\n",
        "modelo_sigmoide = keras.models.Sequential([\n",
        "    keras.layers.Dense(50, activation=\"sigmoid\", input_shape=X_train_red.shape[1:]),\n",
        "    keras.layers.Dense(1)\n",
        "], name=\"modelo_sigmoide\")\n",
        "modelo_sigmoide.compile(loss=\"mean_squared_error\", optimizer=keras.optimizers.SGD(learning_rate=1e-3))\n",
        "modelo_sigmoide.summary()"
      ]
    },
    {
      "cell_type": "code",
      "execution_count": null,
      "metadata": {
        "colab": {
          "base_uri": "https://localhost:8080/"
        },
        "id": "NlcYkxAFr9Os",
        "outputId": "da62c451-3fcd-4fdb-f73f-998d784122ac"
      },
      "outputs": [
        {
          "output_type": "stream",
          "name": "stdout",
          "text": [
            "Epoch 1/30\n",
            "35/35 [==============================] - 0s 1ms/step - loss: 7.4706\n",
            "Epoch 2/30\n",
            "35/35 [==============================] - 0s 2ms/step - loss: 0.7701\n",
            "Epoch 3/30\n",
            "35/35 [==============================] - 0s 1ms/step - loss: 0.6943\n",
            "Epoch 4/30\n",
            "35/35 [==============================] - 0s 1ms/step - loss: 0.6697\n",
            "Epoch 5/30\n",
            "35/35 [==============================] - 0s 1ms/step - loss: 0.6549\n",
            "Epoch 6/30\n",
            "35/35 [==============================] - 0s 1ms/step - loss: 0.6460\n",
            "Epoch 7/30\n",
            "35/35 [==============================] - 0s 2ms/step - loss: 0.6381\n",
            "Epoch 8/30\n",
            "35/35 [==============================] - 0s 1ms/step - loss: 0.6339\n",
            "Epoch 9/30\n",
            "35/35 [==============================] - 0s 1ms/step - loss: 0.6299\n",
            "Epoch 10/30\n",
            "35/35 [==============================] - 0s 1ms/step - loss: 0.6269\n",
            "Epoch 11/30\n",
            "35/35 [==============================] - 0s 2ms/step - loss: 0.6241\n",
            "Epoch 12/30\n",
            "35/35 [==============================] - 0s 2ms/step - loss: 0.6231\n",
            "Epoch 13/30\n",
            "35/35 [==============================] - 0s 2ms/step - loss: 0.6215\n",
            "Epoch 14/30\n",
            "35/35 [==============================] - 0s 1ms/step - loss: 0.6203\n",
            "Epoch 15/30\n",
            "35/35 [==============================] - 0s 2ms/step - loss: 0.6189\n",
            "Epoch 16/30\n",
            "35/35 [==============================] - 0s 1ms/step - loss: 0.6176\n",
            "Epoch 17/30\n",
            "35/35 [==============================] - 0s 2ms/step - loss: 0.6162\n",
            "Epoch 18/30\n",
            "35/35 [==============================] - 0s 1ms/step - loss: 0.6153\n",
            "Epoch 19/30\n",
            "35/35 [==============================] - 0s 2ms/step - loss: 0.6141\n",
            "Epoch 20/30\n",
            "35/35 [==============================] - 0s 1ms/step - loss: 0.6139\n",
            "Epoch 21/30\n",
            "35/35 [==============================] - 0s 2ms/step - loss: 0.6116\n",
            "Epoch 22/30\n",
            "35/35 [==============================] - 0s 2ms/step - loss: 0.6120\n",
            "Epoch 23/30\n",
            "35/35 [==============================] - 0s 1ms/step - loss: 0.6106\n",
            "Epoch 24/30\n",
            "35/35 [==============================] - 0s 1ms/step - loss: 0.6102\n",
            "Epoch 25/30\n",
            "35/35 [==============================] - 0s 2ms/step - loss: 0.6095\n",
            "Epoch 26/30\n",
            "35/35 [==============================] - 0s 2ms/step - loss: 0.6097\n",
            "Epoch 27/30\n",
            "35/35 [==============================] - 0s 1ms/step - loss: 0.6076\n",
            "Epoch 28/30\n",
            "35/35 [==============================] - 0s 1ms/step - loss: 0.6078\n",
            "Epoch 29/30\n",
            "35/35 [==============================] - 0s 2ms/step - loss: 0.6075\n",
            "Epoch 30/30\n",
            "35/35 [==============================] - 0s 2ms/step - loss: 0.6058\n"
          ]
        }
      ],
      "source": [
        "# Entrena el modelo modelo_sigmoide con los datos de entrenamiento durante 30 épocas\n",
        "history = modelo_sigmoide.fit(X_train_red, y_train_red, epochs=30)"
      ]
    },
    {
      "cell_type": "markdown",
      "metadata": {
        "id": "2Z1Lr6ck278p"
      },
      "source": [
        "#### Error cuadrático medio"
      ]
    },
    {
      "cell_type": "code",
      "execution_count": null,
      "metadata": {
        "colab": {
          "base_uri": "https://localhost:8080/"
        },
        "id": "G5XVv5mRs2nU",
        "outputId": "09ef564f-12f1-4020-d175-84612ffb8b45"
      },
      "outputs": [
        {
          "output_type": "stream",
          "name": "stdout",
          "text": [
            "15/15 [==============================] - 0s 2ms/step - loss: 0.5937\n",
            "MSE del modelo sigmoide: 0.5936592221260071\n"
          ]
        }
      ],
      "source": [
        "# evalúa el modelo modelo_sigmoide en los datos de prueba y muestra el MSE resultante.\n",
        "mse_test = modelo_sigmoide.evaluate(X_test_red, y_test_red)\n",
        "\n",
        "print(f\"MSE del modelo sigmoide: {mse_test}\")\n",
        "\n",
        "\n",
        "# variables de tabla de comparacion\n",
        "Mse_reg_sigmoide = mse_test\n"
      ]
    },
    {
      "cell_type": "code",
      "execution_count": null,
      "metadata": {
        "colab": {
          "base_uri": "https://localhost:8080/"
        },
        "id": "WSA3o56pwEOo",
        "outputId": "d9bca589-dda8-447b-b04d-eaecfe9a64a3"
      },
      "outputs": [
        {
          "output_type": "display_data",
          "data": {
            "text/plain": [
              "<Figure size 640x480 with 1 Axes>"
            ],
            "image/png": "[encoded data removed]"
          },
          "metadata": {}
        }
      ],
      "source": [
        "# Gráfico que muestra la evolución de las métricas de entrenamiento a lo largo de las épocas para el modelo entrenado.\n",
        "plt.plot(pd.DataFrame(history.history))\n",
        "plt.title(\"Evolución MSE / Epochs\")\n",
        "plt.xlabel(\"Epochs\")\n",
        "plt.ylabel(\"MSE\")\n",
        "plt.grid(True)\n",
        "plt.gca().set_ylim(0, 1)\n",
        "plt.show()"
      ]
    },
    {
      "cell_type": "markdown",
      "source": [
        "Aquí podemos observar la evolución de la función de pérdida (MSE) a medida que van transcurriendo las iteraciones del algoritmo.\n",
        "\n",
        "En la gráfica se logra visualizar claramente cómo en un corto tiempo disminuye considerablemente esta función, y a partir de la epoch 15 tiende a ralentizarse su progresión, con lo cual se puede suponer que se llegó a un mínimo logrado con la utilización de este modelo."
      ],
      "metadata": {
        "id": "ttkyII2_HkXS"
      }
    },
    {
      "cell_type": "markdown",
      "metadata": {
        "id": "Ma3fGtepQ1rl"
      },
      "source": [
        "#### **K-Fold Cross Validation**"
      ]
    },
    {
      "cell_type": "code",
      "execution_count": null,
      "metadata": {
        "colab": {
          "base_uri": "https://localhost:8080/"
        },
        "id": "Nlp70ku2Q8vk",
        "outputId": "70d2f574-bc04-40f1-9192-702c72f6d2c2"
      },
      "outputs": [
        {
          "output_type": "stream",
          "name": "stdout",
          "text": [
            "------------------------------------------------------------------------\n",
            "Entrenando para fold 1 ...\n",
            "Resultados para fold 1: loss de 0.6089386343955994\n",
            "------------------------------------------------------------------------\n",
            "Entrenando para fold 2 ...\n",
            "Resultados para fold 2: loss de 0.6264740228652954\n",
            "------------------------------------------------------------------------\n",
            "Entrenando para fold 3 ...\n",
            "Resultados para fold 3: loss de 0.600333571434021\n",
            "------------------------------------------------------------------------\n",
            "Entrenando para fold 4 ...\n",
            "Resultados para fold 4: loss de 0.6095608472824097\n",
            "------------------------------------------------------------------------\n",
            "Entrenando para fold 5 ...\n",
            "Resultados para fold 5: loss de 0.6621623039245605\n",
            "\n",
            "MSE promedio: 0.6214938759803772\n"
          ]
        }
      ],
      "source": [
        "# Inputs y Targets\n",
        "inputs = np.concatenate((X_train_red, X_test_red), axis=0)\n",
        "targets = np.concatenate((y_train_red, y_test_red), axis=0)\n",
        "\n",
        "k = 5\n",
        "kfold = KFold(n_splits=k, shuffle=True)\n",
        "\n",
        "acc_per_fold = []\n",
        "loss_per_fold = []\n",
        "\n",
        "# Evaluación de modelo usando K-Fold Cross Validation\n",
        "fold_num = 1\n",
        "for train, test in kfold.split(inputs, targets):\n",
        "\n",
        "  # Definimos la arquitectura usada por el modelo\n",
        "  modelo_sigmoide = keras.models.Sequential([\n",
        "  keras.layers.Dense(30, activation=\"sigmoid\", input_shape=X_train_red.shape[1:]),\n",
        "  keras.layers.Dense(1)\n",
        "  ], name=\"modelo_sigmoide\")\n",
        "\n",
        "  # Compilamos el modelo\n",
        "  modelo_sigmoide.compile(loss=\"mean_squared_error\", optimizer=keras.optimizers.SGD(learning_rate=1e-3), metrics=['accuracy'])\n",
        "\n",
        "  # Imprimimos cada fold\n",
        "  print('------------------------------------------------------------------------')\n",
        "  print(f'Entrenando para fold {fold_num} ...')\n",
        "\n",
        "  # Entrenamos el modelo\n",
        "  history = modelo_sigmoide.fit(inputs[train], targets[train],\n",
        "              epochs=30,\n",
        "              verbose=False)\n",
        "\n",
        "  # Generamos métricas\n",
        "  scores = modelo_sigmoide.evaluate(inputs[test], targets[test], verbose=0)\n",
        "  print(f'Resultados para fold {fold_num}: {modelo_sigmoide.metrics_names[0]} de {scores[0]}')\n",
        "  loss_per_fold.append(scores[0])\n",
        "\n",
        "  # Siguiente fold\n",
        "  fold_num = fold_num + 1\n",
        "\n",
        "print()\n",
        "print(f'MSE promedio: {sum(loss_per_fold)/len(loss_per_fold)}')\n",
        "\n",
        "# variables de tabla de comparacion\n",
        "Mse_promedio_flod_sigmoide = sum(loss_per_fold)/len(loss_per_fold)\n",
        "\n"
      ]
    },
    {
      "cell_type": "markdown",
      "metadata": {
        "id": "mr1nVEafYdKW"
      },
      "source": [
        "#### **Predicciones realizadas por el modelo**"
      ]
    },
    {
      "cell_type": "markdown",
      "source": [
        "Para visualizar con mayor detalle el funcionamiento del modelo, se ilustrarán una serie de valores de entrada, sus valores de salida reales y las predicciones realizadas por el modelo.\n",
        "\n",
        "Se seleccionaron los últimos 5 elementos de los datos de testing debido a que se observó que eran bastante heterogéneos en sus valores $y$ esperados, con lo cual se podría visualizar si los modelos realizan una buena estimación para cada valor."
      ],
      "metadata": {
        "id": "3thq0VwAI5l0"
      }
    },
    {
      "cell_type": "code",
      "execution_count": null,
      "metadata": {
        "colab": {
          "base_uri": "https://localhost:8080/"
        },
        "id": "vI35_wSYu-xG",
        "outputId": "767278de-053f-4993-837e-f0b3cf050274"
      },
      "outputs": [
        {
          "output_type": "execute_result",
          "data": {
            "text/plain": [
              "      fixed acidity  volatile acidity  citric acid  residual sugar  chlorides  \\\n",
              "1468            7.3              0.48         0.32             2.1      0.062   \n",
              "495            10.7              0.35         0.53             2.6      0.070   \n",
              "1325            6.7              0.46         0.24             1.7      0.077   \n",
              "514            10.5              0.51         0.64             2.4      0.107   \n",
              "576             9.9              0.50         0.24             2.3      0.103   \n",
              "\n",
              "      free sulfur dioxide  total sulfur dioxide  density    pH  sulphates  \\\n",
              "1468                 31.0                  54.0  0.99728  3.30       0.65   \n",
              "495                   5.0                  16.0  0.99720  3.15       0.65   \n",
              "1325                 18.0                  34.0  0.99480  3.39       0.60   \n",
              "514                   6.0                  15.0  0.99730  3.09       0.66   \n",
              "576                   6.0                  14.0  0.99780  3.34       0.52   \n",
              "\n",
              "      alcohol  \n",
              "1468     10.0  \n",
              "495      11.0  \n",
              "1325     10.6  \n",
              "514      11.8  \n",
              "576      10.0  "
            ],
            "text/html": [
              "\n",
              "  <div id=\"df-d821751b-1c29-4ec6-97cf-a81bd1a2de2a\">\n",
              "    <div class=\"colab-df-container\">\n",
              "      <div>\n",
              "<style scoped>\n",
              "    .dataframe tbody tr th:only-of-type {\n",
              "        vertical-align: middle;\n",
              "    }\n",
              "\n",
              "    .dataframe tbody tr th {\n",
              "        vertical-align: top;\n",
              "    }\n",
              "\n",
              "    .dataframe thead th {\n",
              "        text-align: right;\n",
              "    }\n",
              "</style>\n",
              "<table border=\"1\" class=\"dataframe\">\n",
              "  <thead>\n",
              "    <tr style=\"text-align: right;\">\n",
              "      <th></th>\n",
              "      <th>fixed acidity</th>\n",
              "      <th>volatile acidity</th>\n",
              "      <th>citric acid</th>\n",
              "      <th>residual sugar</th>\n",
              "      <th>chlorides</th>\n",
              "      <th>free sulfur dioxide</th>\n",
              "      <th>total sulfur dioxide</th>\n",
              "      <th>density</th>\n",
              "      <th>pH</th>\n",
              "      <th>sulphates</th>\n",
              "      <th>alcohol</th>\n",
              "    </tr>\n",
              "  </thead>\n",
              "  <tbody>\n",
              "    <tr>\n",
              "      <th>1468</th>\n",
              "      <td>7.3</td>\n",
              "      <td>0.48</td>\n",
              "      <td>0.32</td>\n",
              "      <td>2.1</td>\n",
              "      <td>0.062</td>\n",
              "      <td>31.0</td>\n",
              "      <td>54.0</td>\n",
              "      <td>0.99728</td>\n",
              "      <td>3.30</td>\n",
              "      <td>0.65</td>\n",
              "      <td>10.0</td>\n",
              "    </tr>\n",
              "    <tr>\n",
              "      <th>495</th>\n",
              "      <td>10.7</td>\n",
              "      <td>0.35</td>\n",
              "      <td>0.53</td>\n",
              "      <td>2.6</td>\n",
              "      <td>0.070</td>\n",
              "      <td>5.0</td>\n",
              "      <td>16.0</td>\n",
              "      <td>0.99720</td>\n",
              "      <td>3.15</td>\n",
              "      <td>0.65</td>\n",
              "      <td>11.0</td>\n",
              "    </tr>\n",
              "    <tr>\n",
              "      <th>1325</th>\n",
              "      <td>6.7</td>\n",
              "      <td>0.46</td>\n",
              "      <td>0.24</td>\n",
              "      <td>1.7</td>\n",
              "      <td>0.077</td>\n",
              "      <td>18.0</td>\n",
              "      <td>34.0</td>\n",
              "      <td>0.99480</td>\n",
              "      <td>3.39</td>\n",
              "      <td>0.60</td>\n",
              "      <td>10.6</td>\n",
              "    </tr>\n",
              "    <tr>\n",
              "      <th>514</th>\n",
              "      <td>10.5</td>\n",
              "      <td>0.51</td>\n",
              "      <td>0.64</td>\n",
              "      <td>2.4</td>\n",
              "      <td>0.107</td>\n",
              "      <td>6.0</td>\n",
              "      <td>15.0</td>\n",
              "      <td>0.99730</td>\n",
              "      <td>3.09</td>\n",
              "      <td>0.66</td>\n",
              "      <td>11.8</td>\n",
              "    </tr>\n",
              "    <tr>\n",
              "      <th>576</th>\n",
              "      <td>9.9</td>\n",
              "      <td>0.50</td>\n",
              "      <td>0.24</td>\n",
              "      <td>2.3</td>\n",
              "      <td>0.103</td>\n",
              "      <td>6.0</td>\n",
              "      <td>14.0</td>\n",
              "      <td>0.99780</td>\n",
              "      <td>3.34</td>\n",
              "      <td>0.52</td>\n",
              "      <td>10.0</td>\n",
              "    </tr>\n",
              "  </tbody>\n",
              "</table>\n",
              "</div>\n",
              "      <button class=\"colab-df-convert\" onclick=\"convertToInteractive('df-d821751b-1c29-4ec6-97cf-a81bd1a2de2a')\"\n",
              "              title=\"Convert this dataframe to an interactive table.\"\n",
              "              style=\"display:none;\">\n",
              "        \n",
              "  <svg xmlns=\"http://www.w3.org/2000/svg\" height=\"24px\"viewBox=\"0 0 24 24\"\n",
              "       width=\"24px\">\n",
              "    <path d=\"M0 0h24v24H0V0z\" fill=\"none\"/>\n",
              "    <path d=\"M18.56 5.44l.94 2.06.94-2.06 2.06-.94-2.06-.94-.94-2.06-.94 2.06-2.06.94zm-11 1L8.5 8.5l.94-2.06 2.06-.94-2.06-.94L8.5 2.5l-.94 2.06-2.06.94zm10 10l.94 2.06.94-2.06 2.06-.94-2.06-.94-.94-2.06-.94 2.06-2.06.94z\"/><path d=\"M17.41 7.96l-1.37-1.37c-.4-.4-.92-.59-1.43-.59-.52 0-1.04.2-1.43.59L10.3 9.45l-7.72 7.72c-.78.78-.78 2.05 0 2.83L4 21.41c.39.39.9.59 1.41.59.51 0 1.02-.2 1.41-.59l7.78-7.78 2.81-2.81c.8-.78.8-2.07 0-2.86zM5.41 20L4 18.59l7.72-7.72 1.47 1.35L5.41 20z\"/>\n",
              "  </svg>\n",
              "      </button>\n",
              "      \n",
              "  <style>\n",
              "    .colab-df-container {\n",
              "      display:flex;\n",
              "      flex-wrap:wrap;\n",
              "      gap: 12px;\n",
              "    }\n",
              "\n",
              "    .colab-df-convert {\n",
              "      background-color: #E8F0FE;\n",
              "      border: none;\n",
              "      border-radius: 50%;\n",
              "      cursor: pointer;\n",
              "      display: none;\n",
              "      fill: #1967D2;\n",
              "      height: 32px;\n",
              "      padding: 0 0 0 0;\n",
              "      width: 32px;\n",
              "    }\n",
              "\n",
              "    .colab-df-convert:hover {\n",
              "      background-color: #E2EBFA;\n",
              "      box-shadow: 0px 1px 2px rgba(60, 64, 67, 0.3), 0px 1px 3px 1px rgba(60, 64, 67, 0.15);\n",
              "      fill: #174EA6;\n",
              "    }\n",
              "\n",
              "    [theme=dark] .colab-df-convert {\n",
              "      background-color: #3B4455;\n",
              "      fill: #D2E3FC;\n",
              "    }\n",
              "\n",
              "    [theme=dark] .colab-df-convert:hover {\n",
              "      background-color: #434B5C;\n",
              "      box-shadow: 0px 1px 3px 1px rgba(0, 0, 0, 0.15);\n",
              "      filter: drop-shadow(0px 1px 2px rgba(0, 0, 0, 0.3));\n",
              "      fill: #FFFFFF;\n",
              "    }\n",
              "  </style>\n",
              "\n",
              "      <script>\n",
              "        const buttonEl =\n",
              "          document.querySelector('#df-d821751b-1c29-4ec6-97cf-a81bd1a2de2a button.colab-df-convert');\n",
              "        buttonEl.style.display =\n",
              "          google.colab.kernel.accessAllowed ? 'block' : 'none';\n",
              "\n",
              "        async function convertToInteractive(key) {\n",
              "          const element = document.querySelector('#df-d821751b-1c29-4ec6-97cf-a81bd1a2de2a');\n",
              "          const dataTable =\n",
              "            await google.colab.kernel.invokeFunction('convertToInteractive',\n",
              "                                                     [key], {});\n",
              "          if (!dataTable) return;\n",
              "\n",
              "          const docLinkHtml = 'Like what you see? Visit the ' +\n",
              "            '<a target=\"_blank\" href=https://colab.research.google.com/notebooks/data_table.ipynb>data table notebook</a>'\n",
              "            + ' to learn more about interactive tables.';\n",
              "          element.innerHTML = '';\n",
              "          dataTable['output_type'] = 'display_data';\n",
              "          await google.colab.output.renderOutput(dataTable, element);\n",
              "          const docLink = document.createElement('div');\n",
              "          docLink.innerHTML = docLinkHtml;\n",
              "          element.appendChild(docLink);\n",
              "        }\n",
              "      </script>\n",
              "    </div>\n",
              "  </div>\n",
              "  "
            ]
          },
          "metadata": {},
          "execution_count": 16
        }
      ],
      "source": [
        "# Conjunto de datos que contiene las características de prueba de \"X_test_red\"\n",
        "X_test_red[475:481]"
      ]
    },
    {
      "cell_type": "code",
      "execution_count": null,
      "metadata": {
        "colab": {
          "base_uri": "https://localhost:8080/"
        },
        "id": "QHnGgDpRvBwX",
        "outputId": "375072de-410d-404f-d901-bf66091c671f"
      },
      "outputs": [
        {
          "output_type": "execute_result",
          "data": {
            "text/plain": [
              "1468    7\n",
              "495     8\n",
              "1325    6\n",
              "514     7\n",
              "576     4\n",
              "Name: quality, dtype: int64"
            ]
          },
          "metadata": {},
          "execution_count": 17
        }
      ],
      "source": [
        "# Conjunto de valores objetivo que corresponden a los datos de prueba.\n",
        "y_test_red[475:481]"
      ]
    },
    {
      "cell_type": "code",
      "execution_count": null,
      "metadata": {
        "colab": {
          "base_uri": "https://localhost:8080/"
        },
        "id": "TwE9ozumtBuh",
        "outputId": "9510409f-535a-4ab8-9ae7-19909f00718e"
      },
      "outputs": [
        {
          "output_type": "stream",
          "name": "stdout",
          "text": [
            "1/1 [==============================] - 0s 52ms/step\n"
          ]
        },
        {
          "output_type": "execute_result",
          "data": {
            "text/plain": [
              "array([[5.6385484],\n",
              "       [5.821412 ],\n",
              "       [5.74978  ],\n",
              "       [5.827519 ],\n",
              "       [5.781397 ]], dtype=float32)"
            ]
          },
          "metadata": {},
          "execution_count": 18
        }
      ],
      "source": [
        "# Se realiza predicciones utilizando el modelo \"modelo_sigmoide\" en el subconjunto de datos de prueba X_new\n",
        "X_new = X_test_red[475:481]\n",
        "y_pred = modelo_sigmoide.predict(X_new)\n",
        "y_pred"
      ]
    },
    {
      "cell_type": "markdown",
      "metadata": {
        "id": "Y-M2T4PTq6lc"
      },
      "source": [
        "## Clasificación y regresión utilizando función tangente hiperbólica"
      ]
    },
    {
      "cell_type": "markdown",
      "metadata": {
        "id": "ArzR8ecGskxK"
      },
      "source": [
        "### Clasificación"
      ]
    },
    {
      "cell_type": "markdown",
      "metadata": {
        "id": "OepXZZTlq6le"
      },
      "source": [
        "Creamos un modelo de clasificación basado en redes neuronales utilizando la función $\\tanh$ como función de activación. La arquitectura del modelo consiste en una capa de entrada, una capa oculta densa con 64 neuronas, otra con 32  y una capa de salida con 3 neuronas correspondientes a cada clase."
      ]
    },
    {
      "cell_type": "code",
      "execution_count": null,
      "metadata": {
        "colab": {
          "base_uri": "https://localhost:8080/"
        },
        "id": "v_n8UtLgq6le",
        "outputId": "7f2b9b7a-04b0-409e-8ece-120396e0b9dc"
      },
      "outputs": [
        {
          "output_type": "stream",
          "name": "stdout",
          "text": [
            "Epoch 1/20\n",
            "40/40 [==============================] - 1s 7ms/step - loss: 4.0420 - accuracy: 0.0414 - val_loss: 4.8864 - val_accuracy: 0.0437\n",
            "Epoch 2/20\n",
            "40/40 [==============================] - 0s 3ms/step - loss: 4.1352 - accuracy: 0.0438 - val_loss: 3.5290 - val_accuracy: 0.0344\n",
            "Epoch 3/20\n",
            "40/40 [==============================] - 0s 3ms/step - loss: 2.4097 - accuracy: 0.0407 - val_loss: 0.5549 - val_accuracy: 0.0344\n",
            "Epoch 4/20\n",
            "40/40 [==============================] - 0s 3ms/step - loss: 0.6559 - accuracy: 0.0407 - val_loss: 0.5542 - val_accuracy: 0.0344\n",
            "Epoch 5/20\n",
            "40/40 [==============================] - 0s 3ms/step - loss: 0.6554 - accuracy: 0.0407 - val_loss: 0.5541 - val_accuracy: 0.0344\n",
            "Epoch 6/20\n",
            "40/40 [==============================] - 0s 3ms/step - loss: 0.6553 - accuracy: 0.0407 - val_loss: 0.5541 - val_accuracy: 0.0344\n",
            "Epoch 7/20\n",
            "40/40 [==============================] - 0s 3ms/step - loss: 0.6553 - accuracy: 0.0407 - val_loss: 0.5541 - val_accuracy: 0.0344\n",
            "Epoch 8/20\n",
            "40/40 [==============================] - 0s 3ms/step - loss: 0.6553 - accuracy: 0.0407 - val_loss: 0.5541 - val_accuracy: 0.0344\n",
            "Epoch 9/20\n",
            "40/40 [==============================] - 0s 3ms/step - loss: 0.6553 - accuracy: 0.0407 - val_loss: 0.5541 - val_accuracy: 0.0344\n",
            "Epoch 10/20\n",
            "40/40 [==============================] - 0s 3ms/step - loss: 0.6553 - accuracy: 0.0407 - val_loss: 0.5541 - val_accuracy: 0.0344\n",
            "Epoch 11/20\n",
            "40/40 [==============================] - 0s 3ms/step - loss: 0.6553 - accuracy: 0.0407 - val_loss: 0.5541 - val_accuracy: 0.0344\n",
            "Epoch 12/20\n",
            "40/40 [==============================] - 0s 3ms/step - loss: 0.6553 - accuracy: 0.0407 - val_loss: 0.5541 - val_accuracy: 0.0344\n",
            "Epoch 13/20\n",
            "40/40 [==============================] - 0s 3ms/step - loss: 0.6553 - accuracy: 0.0407 - val_loss: 0.5541 - val_accuracy: 0.0344\n",
            "Epoch 14/20\n",
            "40/40 [==============================] - 0s 3ms/step - loss: 0.6553 - accuracy: 0.0407 - val_loss: 0.5541 - val_accuracy: 0.0344\n",
            "Epoch 15/20\n",
            "40/40 [==============================] - 0s 3ms/step - loss: 0.6553 - accuracy: 0.0407 - val_loss: 0.5541 - val_accuracy: 0.0344\n",
            "Epoch 16/20\n",
            "40/40 [==============================] - 0s 3ms/step - loss: 0.6553 - accuracy: 0.0407 - val_loss: 0.5541 - val_accuracy: 0.0344\n",
            "Epoch 17/20\n",
            "40/40 [==============================] - 0s 3ms/step - loss: 0.6553 - accuracy: 0.0407 - val_loss: 0.5541 - val_accuracy: 0.0344\n",
            "Epoch 18/20\n",
            "40/40 [==============================] - 0s 4ms/step - loss: 0.6553 - accuracy: 0.0407 - val_loss: 0.5541 - val_accuracy: 0.0344\n",
            "Epoch 19/20\n",
            "40/40 [==============================] - 0s 3ms/step - loss: 0.6553 - accuracy: 0.0407 - val_loss: 0.5541 - val_accuracy: 0.0344\n",
            "Epoch 20/20\n",
            "40/40 [==============================] - 0s 3ms/step - loss: 0.6553 - accuracy: 0.0407 - val_loss: 0.5541 - val_accuracy: 0.0344\n",
            "10/10 [==============================] - 0s 2ms/step - loss: 0.5541 - accuracy: 0.0344\n",
            "Test loss: 0.554059624671936\n",
            "Test accuracy: 0.03437500074505806\n"
          ]
        }
      ],
      "source": [
        "# Crea el dataset 'X_dataset_red' eliminando la columna 'quality_class' de 'dataset_red'\n",
        "X_dataset_red = dataset_red.drop('quality_class', axis=1)\n",
        "\n",
        "# Almacena las etiquetas 'quality_class' del dataset original\n",
        "y = dataset_red['quality_class']\n",
        "\n",
        "# Encode\n",
        "label_encoder = LabelEncoder()\n",
        "y = label_encoder.fit_transform(y)\n",
        "y = keras.utils.to_categorical(y)\n",
        "\n",
        "# Dividir los datos en sets de entrenamiento y de testing\n",
        "X_train, X_test, y_train, y_test = train_test_split(X_dataset_red, y, test_size=0.2, random_state=42)\n",
        "\n",
        "# Creamos el modelo\n",
        "model = Sequential()\n",
        "\n",
        "# Capa de entrada\n",
        "model.add(Dense(units=64, activation='tanh', input_shape=(12,)))\n",
        "\n",
        "# Capa ocultas\n",
        "model.add(Dense(units=32, activation='tanh'))\n",
        "\n",
        "# Capa de salida\n",
        "num_classes = len(label_encoder.classes_)\n",
        "model.add(Dense(units=num_classes, activation='tanh'))\n",
        "\n",
        "# Compilamos el modelo\n",
        "model.compile(loss='categorical_crossentropy', optimizer='adam', metrics=['accuracy'])\n",
        "\n",
        "# Entrenamos el modelo con 20 épocas\n",
        "model.fit(X_train, y_train, batch_size=32, epochs=20, validation_data=(X_test, y_test))\n",
        "\n",
        "# Evaluamos el modelo\n",
        "loss, accuracy = model.evaluate(X_test, y_test)\n",
        "print('Test loss:', loss)\n",
        "print('Test accuracy:', accuracy)\n",
        "\n",
        "# variables de tabla de comparacion\n",
        "loss_clas_tanH = loss\n",
        "accuracy_clas_tanH = accuracy"
      ]
    },
    {
      "cell_type": "markdown",
      "metadata": {
        "id": "s0cyZAI4q6lf"
      },
      "source": [
        "#### **Matriz de Confusión**"
      ]
    },
    {
      "cell_type": "code",
      "execution_count": null,
      "metadata": {
        "colab": {
          "base_uri": "https://localhost:8080/"
        },
        "id": "0nk-JzXZq6lf",
        "outputId": "b078f332-aa1c-41f8-a5ef-04c803d48ce8"
      },
      "outputs": [
        {
          "output_type": "stream",
          "name": "stdout",
          "text": [
            "10/10 [==============================] - 0s 1ms/step\n"
          ]
        },
        {
          "output_type": "display_data",
          "data": {
            "text/plain": [
              "<Figure size 800x600 with 1 Axes>"
            ],
            "image/png": "[encoded data removed]"
          },
          "metadata": {}
        }
      ],
      "source": [
        "predictions = model.predict(X_test)\n",
        "predicted_labels = np.argmax(predictions, axis=1)\n",
        "true_labels = np.argmax(y_test, axis=1)\n",
        "\n",
        "confusion = confusion_matrix(true_labels, predicted_labels)\n",
        "\n",
        "plt.figure(figsize=(8, 6))\n",
        "axis_labels=label_encoder.classes_\n",
        "sns.heatmap(confusion, annot=True, xticklabels=axis_labels, yticklabels=axis_labels, fmt=\"d\", cmap=\"Blues\", cbar=False)\n",
        "plt.xlabel('Predicción')\n",
        "plt.ylabel('Valor Real')\n",
        "plt.title('Matriz de Confusión')\n",
        "plt.show()"
      ]
    },
    {
      "cell_type": "markdown",
      "metadata": {
        "id": "kQ9SuKaaq6lh"
      },
      "source": [
        "#### **K-Fold Cross Validation**"
      ]
    },
    {
      "cell_type": "code",
      "execution_count": null,
      "metadata": {
        "colab": {
          "base_uri": "https://localhost:8080/"
        },
        "id": "FC3jPNvBq6lh",
        "outputId": "d98b38d1-4276-49b8-e406-8bebb4a0d63a"
      },
      "outputs": [
        {
          "output_type": "stream",
          "name": "stdout",
          "text": [
            "------------------------------------------------------------------------\n",
            "Entrenando para fold 1 ...\n",
            "Resultados para fold 1: loss de 1.01162588596344; accuracy de 38.12499940395355%\n",
            "------------------------------------------------------------------------\n",
            "Entrenando para fold 2 ...\n",
            "Resultados para fold 2: loss de 0.7051666975021362; accuracy de 40.937501192092896%\n",
            "------------------------------------------------------------------------\n",
            "Entrenando para fold 3 ...\n",
            "Resultados para fold 3: loss de 0.6044286489486694; accuracy de 55.31250238418579%\n",
            "------------------------------------------------------------------------\n",
            "Entrenando para fold 4 ...\n",
            "Resultados para fold 4: loss de 0.6547977328300476; accuracy de 44.062501192092896%\n",
            "------------------------------------------------------------------------\n",
            "Entrenando para fold 5 ...\n",
            "Resultados para fold 5: loss de 1.5663354396820068; accuracy de 5.329153686761856%\n",
            "\n",
            "Loss promedio: 0.90847088098526\n",
            "Accuracy promedio: 36.7533315718174%\n"
          ]
        }
      ],
      "source": [
        "# Inputs y Targets\n",
        "inputs = np.concatenate((X_train, X_test), axis=0)\n",
        "targets = np.concatenate((y_train, y_test), axis=0)\n",
        "\n",
        "k = 5\n",
        "kfold = KFold(n_splits=k, shuffle=True)\n",
        "\n",
        "acc_per_fold = []\n",
        "loss_per_fold = []\n",
        "\n",
        "# Evaluación de modelo usando K-Fold Cross Validation\n",
        "fold_num = 1\n",
        "for train, test in kfold.split(inputs, targets):\n",
        "\n",
        "  # Definimos la arquitectura usada por el modelo\n",
        "  model = Sequential()\n",
        "  model.add(Dense(units=64, activation='tanh', input_shape=(12,)))\n",
        "  model.add(Dense(units=32, activation='tanh'))\n",
        "  model.add(Dense(units=3, activation='tanh'))\n",
        "\n",
        "  # Compilamos el modelo\n",
        "  model.compile(loss='categorical_crossentropy',\n",
        "                optimizer='adam',\n",
        "                metrics=['accuracy'])\n",
        "\n",
        "  # Imprimimos cada fold\n",
        "  print('------------------------------------------------------------------------')\n",
        "  print(f'Entrenando para fold {fold_num} ...')\n",
        "\n",
        "  # Entrenamos el modelo\n",
        "  history = model.fit(inputs[train], targets[train],\n",
        "              batch_size=32,\n",
        "              epochs=20,\n",
        "              verbose=False)\n",
        "\n",
        "  # Generamos métricas\n",
        "  scores = model.evaluate(inputs[test], targets[test], verbose=0)\n",
        "  print(f'Resultados para fold {fold_num}: {model.metrics_names[0]} de {scores[0]}; {model.metrics_names[1]} de {scores[1]*100}%')\n",
        "  acc_per_fold.append(scores[1] * 100)\n",
        "  loss_per_fold.append(scores[0])\n",
        "\n",
        "  # Siguiente fold\n",
        "  fold_num = fold_num + 1\n",
        "\n",
        "print()\n",
        "print(f'Loss promedio: {sum(loss_per_fold)/len(loss_per_fold)}')\n",
        "print(f'Accuracy promedio: {sum(acc_per_fold)/len(acc_per_fold)}%')\n",
        "\n",
        "# variables de tabla de comparacion\n",
        "loss_clas_promedio_fold_tanH = sum(loss_per_fold)/len(loss_per_fold)\n",
        "accuracy_clas_promedio_fold_tanH = sum(acc_per_fold)/len(acc_per_fold)"
      ]
    },
    {
      "cell_type": "markdown",
      "metadata": {
        "id": "ylrXkmz6q6li"
      },
      "source": [
        "Para esta métrica, se realiza un escalado de los valores para luego poder obtener un promedio significativo del accuracy medido por el método de cross-validation. Es importante señalar que a diferencia de lo obtenido en la matriz de confusión, en esta métrica se observa un rendimiento regular con tendencia a positivo."
      ]
    },
    {
      "cell_type": "markdown",
      "metadata": {
        "id": "VRBN6PPJstKt"
      },
      "source": [
        "### Regresión"
      ]
    },
    {
      "cell_type": "markdown",
      "metadata": {
        "id": "ossUvmeai48U"
      },
      "source": [
        "Para el caso de regresión se utiliza exactamente el mismo modelo para mantener la integridad del experimento. Solamente se cambia el parámetro de función de activación para en este caso utilizar la función de tangente hiperbólica."
      ]
    },
    {
      "cell_type": "code",
      "execution_count": null,
      "metadata": {
        "colab": {
          "base_uri": "https://localhost:8080/"
        },
        "id": "6UQ574KmzW57",
        "outputId": "537da6f4-8ad6-417a-a6da-376e1678a4e3"
      },
      "outputs": [
        {
          "output_type": "stream",
          "name": "stdout",
          "text": [
            "Model: \"modelo_tangente\"\n",
            "_________________________________________________________________\n",
            " Layer (type)                Output Shape              Param #   \n",
            "=================================================================\n",
            " dense_48 (Dense)            (None, 50)                600       \n",
            "                                                                 \n",
            " dense_49 (Dense)            (None, 1)                 51        \n",
            "                                                                 \n",
            "=================================================================\n",
            "Total params: 651\n",
            "Trainable params: 651\n",
            "Non-trainable params: 0\n",
            "_________________________________________________________________\n"
          ]
        }
      ],
      "source": [
        "# modelo secuencial \"modelo_tanh\"\n",
        "# compila un modelo secuencial de redes neuronales con una capa de activación tangente hiperbólica y una capa de salida lineal\n",
        "# la función de pérdida de error cuadrático medio y el optimizador SGD.\n",
        "modelo_tanh = keras.models.Sequential([\n",
        "    keras.layers.Dense(50, activation=\"tanh\", input_shape=X_train_red.shape[1:]),\n",
        "    keras.layers.Dense(1)\n",
        "], name=\"modelo_tangente\")\n",
        "modelo_tanh.compile(loss=\"mean_squared_error\", optimizer=keras.optimizers.SGD(learning_rate=1e-3))\n",
        "modelo_tanh.summary()"
      ]
    },
    {
      "cell_type": "code",
      "execution_count": null,
      "metadata": {
        "colab": {
          "base_uri": "https://localhost:8080/"
        },
        "id": "eafUCWQCzW6B",
        "outputId": "4fe0b674-ee76-460e-faaf-772092806360"
      },
      "outputs": [
        {
          "output_type": "stream",
          "name": "stdout",
          "text": [
            "Epoch 1/30\n",
            "35/35 [==============================] - 0s 2ms/step - loss: 2.5393\n",
            "Epoch 2/30\n",
            "35/35 [==============================] - 0s 1ms/step - loss: 0.7518\n",
            "Epoch 3/30\n",
            "35/35 [==============================] - 0s 1ms/step - loss: 0.6814\n",
            "Epoch 4/30\n",
            "35/35 [==============================] - 0s 2ms/step - loss: 0.6515\n",
            "Epoch 5/30\n",
            "35/35 [==============================] - 0s 1ms/step - loss: 0.6353\n",
            "Epoch 6/30\n",
            "35/35 [==============================] - 0s 2ms/step - loss: 0.6253\n",
            "Epoch 7/30\n",
            "35/35 [==============================] - 0s 2ms/step - loss: 0.6183\n",
            "Epoch 8/30\n",
            "35/35 [==============================] - 0s 2ms/step - loss: 0.6124\n",
            "Epoch 9/30\n",
            "35/35 [==============================] - 0s 1ms/step - loss: 0.6092\n",
            "Epoch 10/30\n",
            "35/35 [==============================] - 0s 2ms/step - loss: 0.6053\n",
            "Epoch 11/30\n",
            "35/35 [==============================] - 0s 1ms/step - loss: 0.6046\n",
            "Epoch 12/30\n",
            "35/35 [==============================] - 0s 1ms/step - loss: 0.6013\n",
            "Epoch 13/30\n",
            "35/35 [==============================] - 0s 1ms/step - loss: 0.5995\n",
            "Epoch 14/30\n",
            "35/35 [==============================] - 0s 2ms/step - loss: 0.5993\n",
            "Epoch 15/30\n",
            "35/35 [==============================] - 0s 1ms/step - loss: 0.5996\n",
            "Epoch 16/30\n",
            "35/35 [==============================] - 0s 2ms/step - loss: 0.5979\n",
            "Epoch 17/30\n",
            "35/35 [==============================] - 0s 2ms/step - loss: 0.5962\n",
            "Epoch 18/30\n",
            "35/35 [==============================] - 0s 2ms/step - loss: 0.5957\n",
            "Epoch 19/30\n",
            "35/35 [==============================] - 0s 1ms/step - loss: 0.5954\n",
            "Epoch 20/30\n",
            "35/35 [==============================] - 0s 2ms/step - loss: 0.5952\n",
            "Epoch 21/30\n",
            "35/35 [==============================] - 0s 1ms/step - loss: 0.5943\n",
            "Epoch 22/30\n",
            "35/35 [==============================] - 0s 1ms/step - loss: 0.5937\n",
            "Epoch 23/30\n",
            "35/35 [==============================] - 0s 1ms/step - loss: 0.5928\n",
            "Epoch 24/30\n",
            "35/35 [==============================] - 0s 2ms/step - loss: 0.5939\n",
            "Epoch 25/30\n",
            "35/35 [==============================] - 0s 1ms/step - loss: 0.5925\n",
            "Epoch 26/30\n",
            "35/35 [==============================] - 0s 1ms/step - loss: 0.5916\n",
            "Epoch 27/30\n",
            "35/35 [==============================] - 0s 2ms/step - loss: 0.5918\n",
            "Epoch 28/30\n",
            "35/35 [==============================] - 0s 1ms/step - loss: 0.5911\n",
            "Epoch 29/30\n",
            "35/35 [==============================] - 0s 1ms/step - loss: 0.5896\n",
            "Epoch 30/30\n",
            "35/35 [==============================] - 0s 2ms/step - loss: 0.5901\n"
          ]
        }
      ],
      "source": [
        "# Entrena el modelo modelo_tanh con los datos de entrenamiento durante 30 épocas\n",
        "history = modelo_tanh.fit(X_train_red, y_train_red, epochs=30)"
      ]
    },
    {
      "cell_type": "markdown",
      "metadata": {
        "id": "mp57BJ9cz58j"
      },
      "source": [
        "#### **Error cuadrático medio**"
      ]
    },
    {
      "cell_type": "code",
      "execution_count": null,
      "metadata": {
        "id": "8wE9vBb0zW6C",
        "colab": {
          "base_uri": "https://localhost:8080/"
        },
        "outputId": "e855c0c1-863d-481b-9a7e-004b1cd128fa"
      },
      "outputs": [
        {
          "output_type": "stream",
          "name": "stdout",
          "text": [
            "15/15 [==============================] - 0s 2ms/step - loss: 0.5897\n",
            "MSE del modelo tangente hiperbólica: 0.5897215604782104\n"
          ]
        }
      ],
      "source": [
        "# evalúa el modelo modelo_tanh en los datos de prueba y muestra el MSE resultante.\n",
        "mse_test = modelo_tanh.evaluate(X_test_red, y_test_red)\n",
        "print(f\"MSE del modelo tangente hiperbólica: {mse_test}\")\n",
        "\n",
        "# variables de tabla de comparacion\n",
        "Mse_reg_sigmoide_tanH = mse_test"
      ]
    },
    {
      "cell_type": "code",
      "execution_count": null,
      "metadata": {
        "id": "TR7KwkHfzW6C",
        "colab": {
          "base_uri": "https://localhost:8080/"
        },
        "outputId": "7565bdd6-246e-420c-a1a6-7c6a3d184e56"
      },
      "outputs": [
        {
          "output_type": "display_data",
          "data": {
            "text/plain": [
              "<Figure size 640x480 with 1 Axes>"
            ],
            "image/png": "[encoded data removed]"
          },
          "metadata": {}
        }
      ],
      "source": [
        "# Gráfico que muestra la evolución de las métricas de entrenamiento a lo largo de las épocas para el modelo entrenado.\n",
        "plt.plot(pd.DataFrame(history.history))\n",
        "plt.title(\"Evolución MSE / Epochs\")\n",
        "plt.xlabel(\"Epochs\")\n",
        "plt.ylabel(\"MSE\")\n",
        "plt.grid(True)\n",
        "plt.gca().set_ylim(0, 1)\n",
        "plt.show()"
      ]
    },
    {
      "cell_type": "markdown",
      "metadata": {
        "id": "B8VTWmeyZ4qu"
      },
      "source": [
        "#### **K-Fold Cross Validation**"
      ]
    },
    {
      "cell_type": "code",
      "execution_count": null,
      "metadata": {
        "colab": {
          "base_uri": "https://localhost:8080/"
        },
        "id": "ZpWV0cAmZ4qu",
        "outputId": "40f87656-c30a-43e1-c4bb-a4229a9f360c"
      },
      "outputs": [
        {
          "output_type": "stream",
          "name": "stdout",
          "text": [
            "------------------------------------------------------------------------\n",
            "Entrenando para fold 1 ...\n",
            "Resultados para fold 1: loss de 0.6650692224502563\n",
            "------------------------------------------------------------------------\n",
            "Entrenando para fold 2 ...\n",
            "Resultados para fold 2: loss de 0.6543375253677368\n",
            "------------------------------------------------------------------------\n",
            "Entrenando para fold 3 ...\n",
            "Resultados para fold 3: loss de 0.6579592227935791\n",
            "------------------------------------------------------------------------\n",
            "Entrenando para fold 4 ...\n",
            "Resultados para fold 4: loss de 0.5199742317199707\n",
            "------------------------------------------------------------------------\n",
            "Entrenando para fold 5 ...\n",
            "Resultados para fold 5: loss de 0.5054137706756592\n",
            "\n",
            "MSE promedio: 0.6005507946014405\n"
          ]
        }
      ],
      "source": [
        "# Inputs y Targets\n",
        "inputs = np.concatenate((X_train_red, X_test_red), axis=0)\n",
        "targets = np.concatenate((y_train_red, y_test_red), axis=0)\n",
        "\n",
        "k = 5\n",
        "kfold = KFold(n_splits=k, shuffle=True)\n",
        "\n",
        "acc_per_fold = []\n",
        "loss_per_fold = []\n",
        "\n",
        "# Evaluación de modelo usando K-Fold Cross Validation\n",
        "fold_num = 1\n",
        "for train, test in kfold.split(inputs, targets):\n",
        "\n",
        "  modelo_tanh = keras.models.Sequential([\n",
        "  keras.layers.Dense(50, activation=\"tanh\", input_shape=X_train_red.shape[1:]),\n",
        "  keras.layers.Dense(1)\n",
        "  ], name=\"modelo_tangente\")\n",
        "\n",
        "  # Compilamos el modelo\n",
        "  modelo_tanh.compile(loss=\"mean_squared_error\", optimizer=keras.optimizers.SGD(learning_rate=1e-3), metrics=['accuracy'])\n",
        "\n",
        "  # Imprimimos cada fold\n",
        "  print('------------------------------------------------------------------------')\n",
        "  print(f'Entrenando para fold {fold_num} ...')\n",
        "\n",
        "  # Entrenamos el modelo\n",
        "  history = modelo_tanh.fit(inputs[train], targets[train],\n",
        "              epochs=30,\n",
        "              verbose=False)\n",
        "\n",
        "  # Generamos métricas\n",
        "  scores = modelo_tanh.evaluate(inputs[test], targets[test], verbose=0)\n",
        "  print(f'Resultados para fold {fold_num}: {modelo_tanh.metrics_names[0]} de {scores[0]}')\n",
        "  loss_per_fold.append(scores[0])\n",
        "\n",
        "  # Siguiente fold\n",
        "  fold_num = fold_num + 1\n",
        "\n",
        "print()\n",
        "print(f'MSE promedio: {sum(loss_per_fold)/len(loss_per_fold)}')\n",
        "\n",
        "# variables de tabla de comparacion\n",
        "Mse_promedio_flod_tanH = sum(loss_per_fold)/len(loss_per_fold)"
      ]
    },
    {
      "cell_type": "markdown",
      "metadata": {
        "id": "FfQY1purZYdq"
      },
      "source": [
        "#### **Predicciones realizadas por el modelo**"
      ]
    },
    {
      "cell_type": "code",
      "execution_count": null,
      "metadata": {
        "colab": {
          "base_uri": "https://localhost:8080/",
          "height": 267
        },
        "id": "gxXE5nR7zW6C",
        "outputId": "64a1bffd-4c4a-4371-e1c3-7c0f69655647"
      },
      "outputs": [
        {
          "output_type": "execute_result",
          "data": {
            "text/plain": [
              "      fixed acidity  volatile acidity  citric acid  residual sugar  chlorides  \\\n",
              "1468            7.3              0.48         0.32             2.1      0.062   \n",
              "495            10.7              0.35         0.53             2.6      0.070   \n",
              "1325            6.7              0.46         0.24             1.7      0.077   \n",
              "514            10.5              0.51         0.64             2.4      0.107   \n",
              "576             9.9              0.50         0.24             2.3      0.103   \n",
              "\n",
              "      free sulfur dioxide  total sulfur dioxide  density    pH  sulphates  \\\n",
              "1468                 31.0                  54.0  0.99728  3.30       0.65   \n",
              "495                   5.0                  16.0  0.99720  3.15       0.65   \n",
              "1325                 18.0                  34.0  0.99480  3.39       0.60   \n",
              "514                   6.0                  15.0  0.99730  3.09       0.66   \n",
              "576                   6.0                  14.0  0.99780  3.34       0.52   \n",
              "\n",
              "      alcohol  \n",
              "1468     10.0  \n",
              "495      11.0  \n",
              "1325     10.6  \n",
              "514      11.8  \n",
              "576      10.0  "
            ],
            "text/html": [
              "\n",
              "  <div id=\"df-a69f022e-547b-4e3c-b3a6-2e517684cf80\">\n",
              "    <div class=\"colab-df-container\">\n",
              "      <div>\n",
              "<style scoped>\n",
              "    .dataframe tbody tr th:only-of-type {\n",
              "        vertical-align: middle;\n",
              "    }\n",
              "\n",
              "    .dataframe tbody tr th {\n",
              "        vertical-align: top;\n",
              "    }\n",
              "\n",
              "    .dataframe thead th {\n",
              "        text-align: right;\n",
              "    }\n",
              "</style>\n",
              "<table border=\"1\" class=\"dataframe\">\n",
              "  <thead>\n",
              "    <tr style=\"text-align: right;\">\n",
              "      <th></th>\n",
              "      <th>fixed acidity</th>\n",
              "      <th>volatile acidity</th>\n",
              "      <th>citric acid</th>\n",
              "      <th>residual sugar</th>\n",
              "      <th>chlorides</th>\n",
              "      <th>free sulfur dioxide</th>\n",
              "      <th>total sulfur dioxide</th>\n",
              "      <th>density</th>\n",
              "      <th>pH</th>\n",
              "      <th>sulphates</th>\n",
              "      <th>alcohol</th>\n",
              "    </tr>\n",
              "  </thead>\n",
              "  <tbody>\n",
              "    <tr>\n",
              "      <th>1468</th>\n",
              "      <td>7.3</td>\n",
              "      <td>0.48</td>\n",
              "      <td>0.32</td>\n",
              "      <td>2.1</td>\n",
              "      <td>0.062</td>\n",
              "      <td>31.0</td>\n",
              "      <td>54.0</td>\n",
              "      <td>0.99728</td>\n",
              "      <td>3.30</td>\n",
              "      <td>0.65</td>\n",
              "      <td>10.0</td>\n",
              "    </tr>\n",
              "    <tr>\n",
              "      <th>495</th>\n",
              "      <td>10.7</td>\n",
              "      <td>0.35</td>\n",
              "      <td>0.53</td>\n",
              "      <td>2.6</td>\n",
              "      <td>0.070</td>\n",
              "      <td>5.0</td>\n",
              "      <td>16.0</td>\n",
              "      <td>0.99720</td>\n",
              "      <td>3.15</td>\n",
              "      <td>0.65</td>\n",
              "      <td>11.0</td>\n",
              "    </tr>\n",
              "    <tr>\n",
              "      <th>1325</th>\n",
              "      <td>6.7</td>\n",
              "      <td>0.46</td>\n",
              "      <td>0.24</td>\n",
              "      <td>1.7</td>\n",
              "      <td>0.077</td>\n",
              "      <td>18.0</td>\n",
              "      <td>34.0</td>\n",
              "      <td>0.99480</td>\n",
              "      <td>3.39</td>\n",
              "      <td>0.60</td>\n",
              "      <td>10.6</td>\n",
              "    </tr>\n",
              "    <tr>\n",
              "      <th>514</th>\n",
              "      <td>10.5</td>\n",
              "      <td>0.51</td>\n",
              "      <td>0.64</td>\n",
              "      <td>2.4</td>\n",
              "      <td>0.107</td>\n",
              "      <td>6.0</td>\n",
              "      <td>15.0</td>\n",
              "      <td>0.99730</td>\n",
              "      <td>3.09</td>\n",
              "      <td>0.66</td>\n",
              "      <td>11.8</td>\n",
              "    </tr>\n",
              "    <tr>\n",
              "      <th>576</th>\n",
              "      <td>9.9</td>\n",
              "      <td>0.50</td>\n",
              "      <td>0.24</td>\n",
              "      <td>2.3</td>\n",
              "      <td>0.103</td>\n",
              "      <td>6.0</td>\n",
              "      <td>14.0</td>\n",
              "      <td>0.99780</td>\n",
              "      <td>3.34</td>\n",
              "      <td>0.52</td>\n",
              "      <td>10.0</td>\n",
              "    </tr>\n",
              "  </tbody>\n",
              "</table>\n",
              "</div>\n",
              "      <button class=\"colab-df-convert\" onclick=\"convertToInteractive('df-a69f022e-547b-4e3c-b3a6-2e517684cf80')\"\n",
              "              title=\"Convert this dataframe to an interactive table.\"\n",
              "              style=\"display:none;\">\n",
              "        \n",
              "  <svg xmlns=\"http://www.w3.org/2000/svg\" height=\"24px\"viewBox=\"0 0 24 24\"\n",
              "       width=\"24px\">\n",
              "    <path d=\"M0 0h24v24H0V0z\" fill=\"none\"/>\n",
              "    <path d=\"M18.56 5.44l.94 2.06.94-2.06 2.06-.94-2.06-.94-.94-2.06-.94 2.06-2.06.94zm-11 1L8.5 8.5l.94-2.06 2.06-.94-2.06-.94L8.5 2.5l-.94 2.06-2.06.94zm10 10l.94 2.06.94-2.06 2.06-.94-2.06-.94-.94-2.06-.94 2.06-2.06.94z\"/><path d=\"M17.41 7.96l-1.37-1.37c-.4-.4-.92-.59-1.43-.59-.52 0-1.04.2-1.43.59L10.3 9.45l-7.72 7.72c-.78.78-.78 2.05 0 2.83L4 21.41c.39.39.9.59 1.41.59.51 0 1.02-.2 1.41-.59l7.78-7.78 2.81-2.81c.8-.78.8-2.07 0-2.86zM5.41 20L4 18.59l7.72-7.72 1.47 1.35L5.41 20z\"/>\n",
              "  </svg>\n",
              "      </button>\n",
              "      \n",
              "  <style>\n",
              "    .colab-df-container {\n",
              "      display:flex;\n",
              "      flex-wrap:wrap;\n",
              "      gap: 12px;\n",
              "    }\n",
              "\n",
              "    .colab-df-convert {\n",
              "      background-color: #E8F0FE;\n",
              "      border: none;\n",
              "      border-radius: 50%;\n",
              "      cursor: pointer;\n",
              "      display: none;\n",
              "      fill: #1967D2;\n",
              "      height: 32px;\n",
              "      padding: 0 0 0 0;\n",
              "      width: 32px;\n",
              "    }\n",
              "\n",
              "    .colab-df-convert:hover {\n",
              "      background-color: #E2EBFA;\n",
              "      box-shadow: 0px 1px 2px rgba(60, 64, 67, 0.3), 0px 1px 3px 1px rgba(60, 64, 67, 0.15);\n",
              "      fill: #174EA6;\n",
              "    }\n",
              "\n",
              "    [theme=dark] .colab-df-convert {\n",
              "      background-color: #3B4455;\n",
              "      fill: #D2E3FC;\n",
              "    }\n",
              "\n",
              "    [theme=dark] .colab-df-convert:hover {\n",
              "      background-color: #434B5C;\n",
              "      box-shadow: 0px 1px 3px 1px rgba(0, 0, 0, 0.15);\n",
              "      filter: drop-shadow(0px 1px 2px rgba(0, 0, 0, 0.3));\n",
              "      fill: #FFFFFF;\n",
              "    }\n",
              "  </style>\n",
              "\n",
              "      <script>\n",
              "        const buttonEl =\n",
              "          document.querySelector('#df-a69f022e-547b-4e3c-b3a6-2e517684cf80 button.colab-df-convert');\n",
              "        buttonEl.style.display =\n",
              "          google.colab.kernel.accessAllowed ? 'block' : 'none';\n",
              "\n",
              "        async function convertToInteractive(key) {\n",
              "          const element = document.querySelector('#df-a69f022e-547b-4e3c-b3a6-2e517684cf80');\n",
              "          const dataTable =\n",
              "            await google.colab.kernel.invokeFunction('convertToInteractive',\n",
              "                                                     [key], {});\n",
              "          if (!dataTable) return;\n",
              "\n",
              "          const docLinkHtml = 'Like what you see? Visit the ' +\n",
              "            '<a target=\"_blank\" href=https://colab.research.google.com/notebooks/data_table.ipynb>data table notebook</a>'\n",
              "            + ' to learn more about interactive tables.';\n",
              "          element.innerHTML = '';\n",
              "          dataTable['output_type'] = 'display_data';\n",
              "          await google.colab.output.renderOutput(dataTable, element);\n",
              "          const docLink = document.createElement('div');\n",
              "          docLink.innerHTML = docLinkHtml;\n",
              "          element.appendChild(docLink);\n",
              "        }\n",
              "      </script>\n",
              "    </div>\n",
              "  </div>\n",
              "  "
            ]
          },
          "metadata": {},
          "execution_count": 27
        }
      ],
      "source": [
        "# Conjunto de datos que contiene las características de prueba de \"X_test_red\"\n",
        "X_test_red[475:481]"
      ]
    },
    {
      "cell_type": "code",
      "execution_count": null,
      "metadata": {
        "colab": {
          "base_uri": "https://localhost:8080/"
        },
        "id": "f0LAdrzQzW6C",
        "outputId": "d3f859cc-07ed-4612-9b05-153a2b73d67c"
      },
      "outputs": [
        {
          "output_type": "execute_result",
          "data": {
            "text/plain": [
              "1468    7\n",
              "495     8\n",
              "1325    6\n",
              "514     7\n",
              "576     4\n",
              "Name: quality, dtype: int64"
            ]
          },
          "metadata": {},
          "execution_count": 28
        }
      ],
      "source": [
        "# Conjunto de valores objetivo que corresponden a los datos de prueba.\n",
        "y_test_red[475:481]"
      ]
    },
    {
      "cell_type": "code",
      "execution_count": null,
      "metadata": {
        "colab": {
          "base_uri": "https://localhost:8080/"
        },
        "id": "rqUjbh7qzW6C",
        "outputId": "34316008-af4e-4992-c98e-5052c53c745d"
      },
      "outputs": [
        {
          "output_type": "stream",
          "name": "stdout",
          "text": [
            "1/1 [==============================] - 0s 56ms/step\n"
          ]
        },
        {
          "output_type": "execute_result",
          "data": {
            "text/plain": [
              "array([[5.6511497],\n",
              "       [5.7674665],\n",
              "       [5.7807627],\n",
              "       [5.883397 ],\n",
              "       [5.8610854]], dtype=float32)"
            ]
          },
          "metadata": {},
          "execution_count": 29
        }
      ],
      "source": [
        "# Se realiza predicciones utilizando el modelo \"modelo_sigmoide\" en el subconjunto de datos de prueba X_new\n",
        "X_new = X_test_red[475:481]\n",
        "y_pred = modelo_tanh.predict(X_new)\n",
        "y_pred"
      ]
    },
    {
      "cell_type": "markdown",
      "metadata": {
        "id": "0Q0cvRK_ZUrK"
      },
      "source": [
        "## Tabla Comparación entre funciones"
      ]
    },
    {
      "cell_type": "markdown",
      "metadata": {
        "id": "TZvpuAjdZzzE"
      },
      "source": [
        "#### **Clasificacion sigmoide vs tangente hiperbólica**"
      ]
    },
    {
      "cell_type": "code",
      "execution_count": null,
      "metadata": {
        "colab": {
          "base_uri": "https://localhost:8080/"
        },
        "id": "pK3stAAlZS15",
        "outputId": "6b905482-a757-46e1-bef2-e1a6542dbb41"
      },
      "outputs": [
        {
          "output_type": "stream",
          "name": "stdout",
          "text": [
            "                 Metricas   Sigmoide  Tangente_Hiperbolica\n",
            "0                    Loss   0.294854              0.554060\n",
            "1                Accuracy   0.937500              0.034375\n",
            "2      Loss_Promedio_Fold   0.366337              0.908471\n",
            "3  Accuracy_Promedio_Fold  92.183778             36.753332\n"
          ]
        }
      ],
      "source": [
        "# muestra los resultados en una forma tabular para su visualización\n",
        "\n",
        "# Creando un diccionario de datos \"clasificacion\"\n",
        "data_clasificacion = {'Metricas': ['Loss', 'Accuracy', 'Loss_Promedio_Fold', 'Accuracy_Promedio_Fold'],\n",
        "        'Sigmoide': [loss_clas_sigmoide, accuracy_clas_sigmoide, loss_clas_promedio_fold_sigmoide, accuracy_clas_promedio_fold_sigmoide],\n",
        "        'Tangente_Hiperbolica': [loss_clas_tanH, accuracy_clas_tanH, loss_clas_promedio_fold_tanH, accuracy_clas_promedio_fold_tanH]}\n",
        "\n",
        "# Creando un DataFrame desde el diccionario\n",
        "df = pd.DataFrame(data_clasificacion)\n",
        "\n",
        "# Visualizando la tabla\n",
        "print(df)"
      ]
    },
    {
      "cell_type": "markdown",
      "source": [
        "Con respecto a la clasificación, se observa una clara ventaja del modelo implementado con la función de activación sigmoide, tanto en las métricas \"tradicionales\", como en k-fold cross validation, ya que si bien no se observa tanta diferencia con respecto a la función de pérdida, observando el accuracy se puede notar un claro mejor desempeño para el modelo que utiliza la función sigmoide.\n",
        "\n",
        "Esto se condice con lo observado al comparar ambas matrices de confusión. Mientras un modelo predice satisfactoriamente las clases *average* y *high quality*, pero presenta fallos en la clase *low quality*. El otro se comporta prácticamente como un clasificador \"dummy\", clasificando a todas las entradas como clase 2. Lo cual deriva en un muy pobre rendimiento de accuracy comparado a la función sigmoide."
      ],
      "metadata": {
        "id": "tSFoOgPRyTiT"
      }
    },
    {
      "cell_type": "markdown",
      "metadata": {
        "id": "TSUeB8prbAWM"
      },
      "source": [
        "#### **Regresion sigmoide vs tangente hiperbólica**\n",
        "\n"
      ]
    },
    {
      "cell_type": "code",
      "execution_count": null,
      "metadata": {
        "colab": {
          "base_uri": "https://localhost:8080/"
        },
        "id": "b15F6r-8buhB",
        "outputId": "88b9b4c1-abde-4b2f-a40d-f817b5d9f58f"
      },
      "outputs": [
        {
          "output_type": "stream",
          "name": "stdout",
          "text": [
            "            Metricas  Sigmoide  Tangente_Hiperbolica\n",
            "0                MSE  0.593659              0.589722\n",
            "1  MSE_Promedio_Fold  0.621494              0.600551\n"
          ]
        }
      ],
      "source": [
        "# Creando un diccionario de datos\n",
        "data_regresion = {'Metricas': ['MSE', 'MSE_Promedio_Fold'],\n",
        "        'Sigmoide': [Mse_reg_sigmoide, Mse_promedio_flod_sigmoide],\n",
        "        'Tangente_Hiperbolica': [Mse_reg_sigmoide_tanH, Mse_promedio_flod_tanH]}\n",
        "\n",
        "# Creando un DataFrame desde el diccionario\n",
        "df = pd.DataFrame(data_regresion)\n",
        "\n",
        "# Visualizando la tabla\n",
        "print(df)"
      ]
    },
    {
      "cell_type": "markdown",
      "metadata": {
        "id": "kw50tsd0dMI5"
      },
      "source": [
        "Luego con respecto a la regresión realizada por ambos modelos, se pueden observar resultados muy parecidos en ambas, con una muy leve ventaja de parte de la función sigmoide en la métrica tradicional, y por su parte un pequeño mejor desepeño para la función tanh en la validación k-fold cross validation.\n",
        "\n",
        "Este desempeño se condice con las predicciones mostradas en las secciones anteriores, se observa una clara generalización de ambos modelos, los cuales tienden a predecir números de calidad de entre 5 y 6, que serían los valores de \"media\", esto ayuda en una gran cantidad de predicciones, sin embargo para calificaciones mayores, la predicción se aleja mucho de una salida medianamente correcta con respecto al valor real esperado."
      ]
    },
    {
      "cell_type": "markdown",
      "metadata": {
        "id": "J1f9ezy9rtZF"
      },
      "source": [
        "# Dataset White"
      ]
    },
    {
      "cell_type": "code",
      "execution_count": null,
      "metadata": {
        "colab": {
          "base_uri": "https://localhost:8080/",
          "height": 267
        },
        "id": "dgJGz-At3bB-",
        "outputId": "c4b1e85a-9587-4af0-98d4-f168e9b29e10"
      },
      "outputs": [
        {
          "output_type": "execute_result",
          "data": {
            "text/plain": [
              "   fixed acidity  volatile acidity  citric acid  residual sugar  chlorides  \\\n",
              "0            7.0              0.27         0.36            20.7      0.045   \n",
              "1            6.3              0.30         0.34             1.6      0.049   \n",
              "2            8.1              0.28         0.40             6.9      0.050   \n",
              "3            7.2              0.23         0.32             8.5      0.058   \n",
              "4            7.2              0.23         0.32             8.5      0.058   \n",
              "\n",
              "   free sulfur dioxide  total sulfur dioxide  density    pH  sulphates  \\\n",
              "0                 45.0                 170.0   1.0010  3.00       0.45   \n",
              "1                 14.0                 132.0   0.9940  3.30       0.49   \n",
              "2                 30.0                  97.0   0.9951  3.26       0.44   \n",
              "3                 47.0                 186.0   0.9956  3.19       0.40   \n",
              "4                 47.0                 186.0   0.9956  3.19       0.40   \n",
              "\n",
              "   alcohol  quality  \n",
              "0      8.8        6  \n",
              "1      9.5        6  \n",
              "2     10.1        6  \n",
              "3      9.9        6  \n",
              "4      9.9        6  "
            ],
            "text/html": [
              "\n",
              "  <div id=\"df-89070f4c-f72b-4cb7-8293-2e6bd4f0c61a\">\n",
              "    <div class=\"colab-df-container\">\n",
              "      <div>\n",
              "<style scoped>\n",
              "    .dataframe tbody tr th:only-of-type {\n",
              "        vertical-align: middle;\n",
              "    }\n",
              "\n",
              "    .dataframe tbody tr th {\n",
              "        vertical-align: top;\n",
              "    }\n",
              "\n",
              "    .dataframe thead th {\n",
              "        text-align: right;\n",
              "    }\n",
              "</style>\n",
              "<table border=\"1\" class=\"dataframe\">\n",
              "  <thead>\n",
              "    <tr style=\"text-align: right;\">\n",
              "      <th></th>\n",
              "      <th>fixed acidity</th>\n",
              "      <th>volatile acidity</th>\n",
              "      <th>citric acid</th>\n",
              "      <th>residual sugar</th>\n",
              "      <th>chlorides</th>\n",
              "      <th>free sulfur dioxide</th>\n",
              "      <th>total sulfur dioxide</th>\n",
              "      <th>density</th>\n",
              "      <th>pH</th>\n",
              "      <th>sulphates</th>\n",
              "      <th>alcohol</th>\n",
              "      <th>quality</th>\n",
              "    </tr>\n",
              "  </thead>\n",
              "  <tbody>\n",
              "    <tr>\n",
              "      <th>0</th>\n",
              "      <td>7.0</td>\n",
              "      <td>0.27</td>\n",
              "      <td>0.36</td>\n",
              "      <td>20.7</td>\n",
              "      <td>0.045</td>\n",
              "      <td>45.0</td>\n",
              "      <td>170.0</td>\n",
              "      <td>1.0010</td>\n",
              "      <td>3.00</td>\n",
              "      <td>0.45</td>\n",
              "      <td>8.8</td>\n",
              "      <td>6</td>\n",
              "    </tr>\n",
              "    <tr>\n",
              "      <th>1</th>\n",
              "      <td>6.3</td>\n",
              "      <td>0.30</td>\n",
              "      <td>0.34</td>\n",
              "      <td>1.6</td>\n",
              "      <td>0.049</td>\n",
              "      <td>14.0</td>\n",
              "      <td>132.0</td>\n",
              "      <td>0.9940</td>\n",
              "      <td>3.30</td>\n",
              "      <td>0.49</td>\n",
              "      <td>9.5</td>\n",
              "      <td>6</td>\n",
              "    </tr>\n",
              "    <tr>\n",
              "      <th>2</th>\n",
              "      <td>8.1</td>\n",
              "      <td>0.28</td>\n",
              "      <td>0.40</td>\n",
              "      <td>6.9</td>\n",
              "      <td>0.050</td>\n",
              "      <td>30.0</td>\n",
              "      <td>97.0</td>\n",
              "      <td>0.9951</td>\n",
              "      <td>3.26</td>\n",
              "      <td>0.44</td>\n",
              "      <td>10.1</td>\n",
              "      <td>6</td>\n",
              "    </tr>\n",
              "    <tr>\n",
              "      <th>3</th>\n",
              "      <td>7.2</td>\n",
              "      <td>0.23</td>\n",
              "      <td>0.32</td>\n",
              "      <td>8.5</td>\n",
              "      <td>0.058</td>\n",
              "      <td>47.0</td>\n",
              "      <td>186.0</td>\n",
              "      <td>0.9956</td>\n",
              "      <td>3.19</td>\n",
              "      <td>0.40</td>\n",
              "      <td>9.9</td>\n",
              "      <td>6</td>\n",
              "    </tr>\n",
              "    <tr>\n",
              "      <th>4</th>\n",
              "      <td>7.2</td>\n",
              "      <td>0.23</td>\n",
              "      <td>0.32</td>\n",
              "      <td>8.5</td>\n",
              "      <td>0.058</td>\n",
              "      <td>47.0</td>\n",
              "      <td>186.0</td>\n",
              "      <td>0.9956</td>\n",
              "      <td>3.19</td>\n",
              "      <td>0.40</td>\n",
              "      <td>9.9</td>\n",
              "      <td>6</td>\n",
              "    </tr>\n",
              "  </tbody>\n",
              "</table>\n",
              "</div>\n",
              "      <button class=\"colab-df-convert\" onclick=\"convertToInteractive('df-89070f4c-f72b-4cb7-8293-2e6bd4f0c61a')\"\n",
              "              title=\"Convert this dataframe to an interactive table.\"\n",
              "              style=\"display:none;\">\n",
              "        \n",
              "  <svg xmlns=\"http://www.w3.org/2000/svg\" height=\"24px\"viewBox=\"0 0 24 24\"\n",
              "       width=\"24px\">\n",
              "    <path d=\"M0 0h24v24H0V0z\" fill=\"none\"/>\n",
              "    <path d=\"M18.56 5.44l.94 2.06.94-2.06 2.06-.94-2.06-.94-.94-2.06-.94 2.06-2.06.94zm-11 1L8.5 8.5l.94-2.06 2.06-.94-2.06-.94L8.5 2.5l-.94 2.06-2.06.94zm10 10l.94 2.06.94-2.06 2.06-.94-2.06-.94-.94-2.06-.94 2.06-2.06.94z\"/><path d=\"M17.41 7.96l-1.37-1.37c-.4-.4-.92-.59-1.43-.59-.52 0-1.04.2-1.43.59L10.3 9.45l-7.72 7.72c-.78.78-.78 2.05 0 2.83L4 21.41c.39.39.9.59 1.41.59.51 0 1.02-.2 1.41-.59l7.78-7.78 2.81-2.81c.8-.78.8-2.07 0-2.86zM5.41 20L4 18.59l7.72-7.72 1.47 1.35L5.41 20z\"/>\n",
              "  </svg>\n",
              "      </button>\n",
              "      \n",
              "  <style>\n",
              "    .colab-df-container {\n",
              "      display:flex;\n",
              "      flex-wrap:wrap;\n",
              "      gap: 12px;\n",
              "    }\n",
              "\n",
              "    .colab-df-convert {\n",
              "      background-color: #E8F0FE;\n",
              "      border: none;\n",
              "      border-radius: 50%;\n",
              "      cursor: pointer;\n",
              "      display: none;\n",
              "      fill: #1967D2;\n",
              "      height: 32px;\n",
              "      padding: 0 0 0 0;\n",
              "      width: 32px;\n",
              "    }\n",
              "\n",
              "    .colab-df-convert:hover {\n",
              "      background-color: #E2EBFA;\n",
              "      box-shadow: 0px 1px 2px rgba(60, 64, 67, 0.3), 0px 1px 3px 1px rgba(60, 64, 67, 0.15);\n",
              "      fill: #174EA6;\n",
              "    }\n",
              "\n",
              "    [theme=dark] .colab-df-convert {\n",
              "      background-color: #3B4455;\n",
              "      fill: #D2E3FC;\n",
              "    }\n",
              "\n",
              "    [theme=dark] .colab-df-convert:hover {\n",
              "      background-color: #434B5C;\n",
              "      box-shadow: 0px 1px 3px 1px rgba(0, 0, 0, 0.15);\n",
              "      filter: drop-shadow(0px 1px 2px rgba(0, 0, 0, 0.3));\n",
              "      fill: #FFFFFF;\n",
              "    }\n",
              "  </style>\n",
              "\n",
              "      <script>\n",
              "        const buttonEl =\n",
              "          document.querySelector('#df-89070f4c-f72b-4cb7-8293-2e6bd4f0c61a button.colab-df-convert');\n",
              "        buttonEl.style.display =\n",
              "          google.colab.kernel.accessAllowed ? 'block' : 'none';\n",
              "\n",
              "        async function convertToInteractive(key) {\n",
              "          const element = document.querySelector('#df-89070f4c-f72b-4cb7-8293-2e6bd4f0c61a');\n",
              "          const dataTable =\n",
              "            await google.colab.kernel.invokeFunction('convertToInteractive',\n",
              "                                                     [key], {});\n",
              "          if (!dataTable) return;\n",
              "\n",
              "          const docLinkHtml = 'Like what you see? Visit the ' +\n",
              "            '<a target=\"_blank\" href=https://colab.research.google.com/notebooks/data_table.ipynb>data table notebook</a>'\n",
              "            + ' to learn more about interactive tables.';\n",
              "          element.innerHTML = '';\n",
              "          dataTable['output_type'] = 'display_data';\n",
              "          await google.colab.output.renderOutput(dataTable, element);\n",
              "          const docLink = document.createElement('div');\n",
              "          docLink.innerHTML = docLinkHtml;\n",
              "          element.appendChild(docLink);\n",
              "        }\n",
              "      </script>\n",
              "    </div>\n",
              "  </div>\n",
              "  "
            ]
          },
          "metadata": {},
          "execution_count": 32
        }
      ],
      "source": [
        "# Muestra las primeras filas\n",
        "dataset_white.head()"
      ]
    },
    {
      "cell_type": "markdown",
      "metadata": {
        "id": "8ooDRkCs3bCE"
      },
      "source": [
        "### Label de clase\n",
        "Se agrega la etiqueta `quality_class` que va a calificar cada vino en base al atributo `quality` en `LowQuality`, `Average` o `HighQuality`"
      ]
    },
    {
      "cell_type": "code",
      "execution_count": null,
      "metadata": {
        "id": "KbUjHPCi3bCE"
      },
      "outputs": [],
      "source": [
        "#extrae la columna 'quality' del dataset 'dataset_white'.\n",
        "columnaQuality = dataset_white['quality']\n",
        "\n",
        "# se aplica una función para asignar etiquetas de clasificación:\n",
        "#'lowquality' si el valor es menor que 5\n",
        "#'average' si es igual a 5\n",
        "#'highquality' en cualquier otro caso.\n",
        "columnaQuality = columnaQuality.apply(lambda x: 'LowQuality' if x < 5 else 'Average' if x == 5 else 'HighQuality')\n",
        "\n",
        "# inserta una nueva columna llamada 'quality_class' en la posición 12 del dataset 'dataset_white'\n",
        "dataset_white.insert(12, 'quality_class',np.array(columnaQuality))"
      ]
    },
    {
      "cell_type": "code",
      "execution_count": null,
      "metadata": {
        "colab": {
          "base_uri": "https://localhost:8080/",
          "height": 267
        },
        "id": "DT0X281N3bCE",
        "outputId": "8f6d83d8-e236-433d-ad54-966bae7a9c06"
      },
      "outputs": [
        {
          "output_type": "execute_result",
          "data": {
            "text/plain": [
              "   fixed acidity  volatile acidity  citric acid  residual sugar  chlorides  \\\n",
              "0            7.0              0.27         0.36            20.7      0.045   \n",
              "1            6.3              0.30         0.34             1.6      0.049   \n",
              "2            8.1              0.28         0.40             6.9      0.050   \n",
              "3            7.2              0.23         0.32             8.5      0.058   \n",
              "4            7.2              0.23         0.32             8.5      0.058   \n",
              "\n",
              "   free sulfur dioxide  total sulfur dioxide  density    pH  sulphates  \\\n",
              "0                 45.0                 170.0   1.0010  3.00       0.45   \n",
              "1                 14.0                 132.0   0.9940  3.30       0.49   \n",
              "2                 30.0                  97.0   0.9951  3.26       0.44   \n",
              "3                 47.0                 186.0   0.9956  3.19       0.40   \n",
              "4                 47.0                 186.0   0.9956  3.19       0.40   \n",
              "\n",
              "   alcohol  quality quality_class  \n",
              "0      8.8        6   HighQuality  \n",
              "1      9.5        6   HighQuality  \n",
              "2     10.1        6   HighQuality  \n",
              "3      9.9        6   HighQuality  \n",
              "4      9.9        6   HighQuality  "
            ],
            "text/html": [
              "\n",
              "  <div id=\"df-32a75225-f7fe-4a07-9a4f-d3d23cb6feb7\">\n",
              "    <div class=\"colab-df-container\">\n",
              "      <div>\n",
              "<style scoped>\n",
              "    .dataframe tbody tr th:only-of-type {\n",
              "        vertical-align: middle;\n",
              "    }\n",
              "\n",
              "    .dataframe tbody tr th {\n",
              "        vertical-align: top;\n",
              "    }\n",
              "\n",
              "    .dataframe thead th {\n",
              "        text-align: right;\n",
              "    }\n",
              "</style>\n",
              "<table border=\"1\" class=\"dataframe\">\n",
              "  <thead>\n",
              "    <tr style=\"text-align: right;\">\n",
              "      <th></th>\n",
              "      <th>fixed acidity</th>\n",
              "      <th>volatile acidity</th>\n",
              "      <th>citric acid</th>\n",
              "      <th>residual sugar</th>\n",
              "      <th>chlorides</th>\n",
              "      <th>free sulfur dioxide</th>\n",
              "      <th>total sulfur dioxide</th>\n",
              "      <th>density</th>\n",
              "      <th>pH</th>\n",
              "      <th>sulphates</th>\n",
              "      <th>alcohol</th>\n",
              "      <th>quality</th>\n",
              "      <th>quality_class</th>\n",
              "    </tr>\n",
              "  </thead>\n",
              "  <tbody>\n",
              "    <tr>\n",
              "      <th>0</th>\n",
              "      <td>7.0</td>\n",
              "      <td>0.27</td>\n",
              "      <td>0.36</td>\n",
              "      <td>20.7</td>\n",
              "      <td>0.045</td>\n",
              "      <td>45.0</td>\n",
              "      <td>170.0</td>\n",
              "      <td>1.0010</td>\n",
              "      <td>3.00</td>\n",
              "      <td>0.45</td>\n",
              "      <td>8.8</td>\n",
              "      <td>6</td>\n",
              "      <td>HighQuality</td>\n",
              "    </tr>\n",
              "    <tr>\n",
              "      <th>1</th>\n",
              "      <td>6.3</td>\n",
              "      <td>0.30</td>\n",
              "      <td>0.34</td>\n",
              "      <td>1.6</td>\n",
              "      <td>0.049</td>\n",
              "      <td>14.0</td>\n",
              "      <td>132.0</td>\n",
              "      <td>0.9940</td>\n",
              "      <td>3.30</td>\n",
              "      <td>0.49</td>\n",
              "      <td>9.5</td>\n",
              "      <td>6</td>\n",
              "      <td>HighQuality</td>\n",
              "    </tr>\n",
              "    <tr>\n",
              "      <th>2</th>\n",
              "      <td>8.1</td>\n",
              "      <td>0.28</td>\n",
              "      <td>0.40</td>\n",
              "      <td>6.9</td>\n",
              "      <td>0.050</td>\n",
              "      <td>30.0</td>\n",
              "      <td>97.0</td>\n",
              "      <td>0.9951</td>\n",
              "      <td>3.26</td>\n",
              "      <td>0.44</td>\n",
              "      <td>10.1</td>\n",
              "      <td>6</td>\n",
              "      <td>HighQuality</td>\n",
              "    </tr>\n",
              "    <tr>\n",
              "      <th>3</th>\n",
              "      <td>7.2</td>\n",
              "      <td>0.23</td>\n",
              "      <td>0.32</td>\n",
              "      <td>8.5</td>\n",
              "      <td>0.058</td>\n",
              "      <td>47.0</td>\n",
              "      <td>186.0</td>\n",
              "      <td>0.9956</td>\n",
              "      <td>3.19</td>\n",
              "      <td>0.40</td>\n",
              "      <td>9.9</td>\n",
              "      <td>6</td>\n",
              "      <td>HighQuality</td>\n",
              "    </tr>\n",
              "    <tr>\n",
              "      <th>4</th>\n",
              "      <td>7.2</td>\n",
              "      <td>0.23</td>\n",
              "      <td>0.32</td>\n",
              "      <td>8.5</td>\n",
              "      <td>0.058</td>\n",
              "      <td>47.0</td>\n",
              "      <td>186.0</td>\n",
              "      <td>0.9956</td>\n",
              "      <td>3.19</td>\n",
              "      <td>0.40</td>\n",
              "      <td>9.9</td>\n",
              "      <td>6</td>\n",
              "      <td>HighQuality</td>\n",
              "    </tr>\n",
              "  </tbody>\n",
              "</table>\n",
              "</div>\n",
              "      <button class=\"colab-df-convert\" onclick=\"convertToInteractive('df-32a75225-f7fe-4a07-9a4f-d3d23cb6feb7')\"\n",
              "              title=\"Convert this dataframe to an interactive table.\"\n",
              "              style=\"display:none;\">\n",
              "        \n",
              "  <svg xmlns=\"http://www.w3.org/2000/svg\" height=\"24px\"viewBox=\"0 0 24 24\"\n",
              "       width=\"24px\">\n",
              "    <path d=\"M0 0h24v24H0V0z\" fill=\"none\"/>\n",
              "    <path d=\"M18.56 5.44l.94 2.06.94-2.06 2.06-.94-2.06-.94-.94-2.06-.94 2.06-2.06.94zm-11 1L8.5 8.5l.94-2.06 2.06-.94-2.06-.94L8.5 2.5l-.94 2.06-2.06.94zm10 10l.94 2.06.94-2.06 2.06-.94-2.06-.94-.94-2.06-.94 2.06-2.06.94z\"/><path d=\"M17.41 7.96l-1.37-1.37c-.4-.4-.92-.59-1.43-.59-.52 0-1.04.2-1.43.59L10.3 9.45l-7.72 7.72c-.78.78-.78 2.05 0 2.83L4 21.41c.39.39.9.59 1.41.59.51 0 1.02-.2 1.41-.59l7.78-7.78 2.81-2.81c.8-.78.8-2.07 0-2.86zM5.41 20L4 18.59l7.72-7.72 1.47 1.35L5.41 20z\"/>\n",
              "  </svg>\n",
              "      </button>\n",
              "      \n",
              "  <style>\n",
              "    .colab-df-container {\n",
              "      display:flex;\n",
              "      flex-wrap:wrap;\n",
              "      gap: 12px;\n",
              "    }\n",
              "\n",
              "    .colab-df-convert {\n",
              "      background-color: #E8F0FE;\n",
              "      border: none;\n",
              "      border-radius: 50%;\n",
              "      cursor: pointer;\n",
              "      display: none;\n",
              "      fill: #1967D2;\n",
              "      height: 32px;\n",
              "      padding: 0 0 0 0;\n",
              "      width: 32px;\n",
              "    }\n",
              "\n",
              "    .colab-df-convert:hover {\n",
              "      background-color: #E2EBFA;\n",
              "      box-shadow: 0px 1px 2px rgba(60, 64, 67, 0.3), 0px 1px 3px 1px rgba(60, 64, 67, 0.15);\n",
              "      fill: #174EA6;\n",
              "    }\n",
              "\n",
              "    [theme=dark] .colab-df-convert {\n",
              "      background-color: #3B4455;\n",
              "      fill: #D2E3FC;\n",
              "    }\n",
              "\n",
              "    [theme=dark] .colab-df-convert:hover {\n",
              "      background-color: #434B5C;\n",
              "      box-shadow: 0px 1px 3px 1px rgba(0, 0, 0, 0.15);\n",
              "      filter: drop-shadow(0px 1px 2px rgba(0, 0, 0, 0.3));\n",
              "      fill: #FFFFFF;\n",
              "    }\n",
              "  </style>\n",
              "\n",
              "      <script>\n",
              "        const buttonEl =\n",
              "          document.querySelector('#df-32a75225-f7fe-4a07-9a4f-d3d23cb6feb7 button.colab-df-convert');\n",
              "        buttonEl.style.display =\n",
              "          google.colab.kernel.accessAllowed ? 'block' : 'none';\n",
              "\n",
              "        async function convertToInteractive(key) {\n",
              "          const element = document.querySelector('#df-32a75225-f7fe-4a07-9a4f-d3d23cb6feb7');\n",
              "          const dataTable =\n",
              "            await google.colab.kernel.invokeFunction('convertToInteractive',\n",
              "                                                     [key], {});\n",
              "          if (!dataTable) return;\n",
              "\n",
              "          const docLinkHtml = 'Like what you see? Visit the ' +\n",
              "            '<a target=\"_blank\" href=https://colab.research.google.com/notebooks/data_table.ipynb>data table notebook</a>'\n",
              "            + ' to learn more about interactive tables.';\n",
              "          element.innerHTML = '';\n",
              "          dataTable['output_type'] = 'display_data';\n",
              "          await google.colab.output.renderOutput(dataTable, element);\n",
              "          const docLink = document.createElement('div');\n",
              "          docLink.innerHTML = docLinkHtml;\n",
              "          element.appendChild(docLink);\n",
              "        }\n",
              "      </script>\n",
              "    </div>\n",
              "  </div>\n",
              "  "
            ]
          },
          "metadata": {},
          "execution_count": 34
        }
      ],
      "source": [
        "# muestra las primeras filas y la nueva columna \"quality_class\"\n",
        "dataset_white.head()"
      ]
    },
    {
      "cell_type": "markdown",
      "metadata": {
        "id": "zTxLv6S8J95i"
      },
      "source": [
        "## Clasificación y regresión utilizando función sigmoidea"
      ]
    },
    {
      "cell_type": "markdown",
      "metadata": {
        "id": "8PFBsQTWsyZ2"
      },
      "source": [
        "### Clasificación"
      ]
    },
    {
      "cell_type": "markdown",
      "metadata": {
        "id": "EL126lb8JYfn"
      },
      "source": [
        "Creamos un modelo de clasificación basado en redes neuronales, utilizando la función sigmoide como función de activación. La arquitectura del modelo consiste en una capa de entrada, una capa oculta densa con 64 neuronas, otra con 32 neuronas y una capa de salida con 3 neuronas correspondientes a cada clase."
      ]
    },
    {
      "cell_type": "code",
      "execution_count": null,
      "metadata": {
        "colab": {
          "base_uri": "https://localhost:8080/"
        },
        "id": "-x-NF-gyKRak",
        "outputId": "a5973f5a-3072-4bc5-c93c-016fb1b05f7e"
      },
      "outputs": [
        {
          "output_type": "stream",
          "name": "stdout",
          "text": [
            "Epoch 1/20\n",
            "123/123 [==============================] - 1s 4ms/step - loss: 0.8066 - accuracy: 0.6197 - val_loss: 0.7123 - val_accuracy: 0.6724\n",
            "Epoch 2/20\n",
            "123/123 [==============================] - 0s 3ms/step - loss: 0.7156 - accuracy: 0.6633 - val_loss: 0.6849 - val_accuracy: 0.6724\n",
            "Epoch 3/20\n",
            "123/123 [==============================] - 0s 3ms/step - loss: 0.6912 - accuracy: 0.6723 - val_loss: 0.6632 - val_accuracy: 0.6888\n",
            "Epoch 4/20\n",
            "123/123 [==============================] - 0s 3ms/step - loss: 0.6643 - accuracy: 0.6848 - val_loss: 0.6419 - val_accuracy: 0.6878\n",
            "Epoch 5/20\n",
            "123/123 [==============================] - 0s 3ms/step - loss: 0.6270 - accuracy: 0.7136 - val_loss: 0.6136 - val_accuracy: 0.7327\n",
            "Epoch 6/20\n",
            "123/123 [==============================] - 0s 3ms/step - loss: 0.5830 - accuracy: 0.7443 - val_loss: 0.5440 - val_accuracy: 0.7724\n",
            "Epoch 7/20\n",
            "123/123 [==============================] - 0s 3ms/step - loss: 0.5211 - accuracy: 0.7884 - val_loss: 0.4840 - val_accuracy: 0.7888\n",
            "Epoch 8/20\n",
            "123/123 [==============================] - 0s 3ms/step - loss: 0.4557 - accuracy: 0.8218 - val_loss: 0.4190 - val_accuracy: 0.8112\n",
            "Epoch 9/20\n",
            "123/123 [==============================] - 0s 2ms/step - loss: 0.3846 - accuracy: 0.8716 - val_loss: 0.3359 - val_accuracy: 0.9173\n",
            "Epoch 10/20\n",
            "123/123 [==============================] - 0s 3ms/step - loss: 0.3188 - accuracy: 0.9061 - val_loss: 0.2862 - val_accuracy: 0.9224\n",
            "Epoch 11/20\n",
            "123/123 [==============================] - 0s 2ms/step - loss: 0.2712 - accuracy: 0.9222 - val_loss: 0.2556 - val_accuracy: 0.9112\n",
            "Epoch 12/20\n",
            "123/123 [==============================] - 0s 3ms/step - loss: 0.2298 - accuracy: 0.9329 - val_loss: 0.2040 - val_accuracy: 0.9520\n",
            "Epoch 13/20\n",
            "123/123 [==============================] - 1s 4ms/step - loss: 0.1902 - accuracy: 0.9479 - val_loss: 0.1931 - val_accuracy: 0.9367\n",
            "Epoch 14/20\n",
            "123/123 [==============================] - 0s 3ms/step - loss: 0.1646 - accuracy: 0.9546 - val_loss: 0.1487 - val_accuracy: 0.9643\n",
            "Epoch 15/20\n",
            "123/123 [==============================] - 0s 3ms/step - loss: 0.1364 - accuracy: 0.9686 - val_loss: 0.1199 - val_accuracy: 0.9745\n",
            "Epoch 16/20\n",
            "123/123 [==============================] - 0s 3ms/step - loss: 0.1141 - accuracy: 0.9735 - val_loss: 0.1049 - val_accuracy: 0.9796\n",
            "Epoch 17/20\n",
            "123/123 [==============================] - 0s 3ms/step - loss: 0.0974 - accuracy: 0.9814 - val_loss: 0.1005 - val_accuracy: 0.9786\n",
            "Epoch 18/20\n",
            "123/123 [==============================] - 0s 3ms/step - loss: 0.0830 - accuracy: 0.9870 - val_loss: 0.0889 - val_accuracy: 0.9786\n",
            "Epoch 19/20\n",
            "123/123 [==============================] - 0s 3ms/step - loss: 0.0737 - accuracy: 0.9908 - val_loss: 0.0675 - val_accuracy: 0.9980\n",
            "Epoch 20/20\n",
            "123/123 [==============================] - 0s 2ms/step - loss: 0.0614 - accuracy: 0.9934 - val_loss: 0.0609 - val_accuracy: 0.9980\n",
            "31/31 [==============================] - 0s 1ms/step - loss: 0.0609 - accuracy: 0.9980\n",
            "Test loss: 0.06086732819676399\n",
            "Test accuracy: 0.9979591965675354\n"
          ]
        }
      ],
      "source": [
        "# Crea el dataset 'X_dataset_white' eliminando la columna 'quality_class' de 'dataset_white'\n",
        "X_dataset_white = dataset_white.drop('quality_class', axis=1)\n",
        "\n",
        "# Almacena las etiquetas 'quality_class' del dataset original\n",
        "y = dataset_white['quality_class']\n",
        "\n",
        "# Encode\n",
        "label_encoder = LabelEncoder()\n",
        "y = label_encoder.fit_transform(y)\n",
        "y = keras.utils.to_categorical(y)\n",
        "\n",
        "# Dividir los datos en sets de entrenamiento y de testing\n",
        "X_train, X_test, y_train, y_test = train_test_split(X_dataset_white, y, test_size=0.2, random_state=42)\n",
        "\n",
        "# Creamos el modelo\n",
        "model = Sequential()\n",
        "\n",
        "# Capa de entrada densa de 64 neuronas\n",
        "model.add(Dense(units=64, activation='sigmoid', input_shape=(12,)))\n",
        "\n",
        "# Capa oculta densa de 32 unidades\n",
        "model.add(Dense(units=32, activation='sigmoid'))\n",
        "\n",
        "# Capa de salida con 3 neuronas\n",
        "num_classes = len(label_encoder.classes_)\n",
        "model.add(Dense(units=num_classes, activation='sigmoid'))\n",
        "\n",
        "# Compilamos el modelo\n",
        "model.compile(loss='categorical_crossentropy', optimizer='adam', metrics=['accuracy'])\n",
        "\n",
        "# Entrenamos el modelo con 20 épocas\n",
        "model.fit(X_train, y_train, batch_size=32, epochs=20, validation_data=(X_test, y_test))\n",
        "\n",
        "# Evaluamos el modelo\n",
        "loss, accuracy = model.evaluate(X_test, y_test)\n",
        "print('Test loss:', loss)\n",
        "print('Test accuracy:', accuracy)\n",
        "\n",
        "# variables de tabla de comparacion\n",
        "loss_clas_sigmoide = loss\n",
        "accuracy_clas_sigmoide = accuracy\n"
      ]
    },
    {
      "cell_type": "markdown",
      "metadata": {
        "id": "GsyLr5rNSFp2"
      },
      "source": [
        "#### **Matriz de Confusión**"
      ]
    },
    {
      "cell_type": "code",
      "execution_count": null,
      "metadata": {
        "colab": {
          "base_uri": "https://localhost:8080/"
        },
        "id": "pdcIy8pkK4Ln",
        "outputId": "ca8298c5-8a0f-4080-fdcc-5bcede7c588c"
      },
      "outputs": [
        {
          "output_type": "stream",
          "name": "stdout",
          "text": [
            "31/31 [==============================] - 0s 2ms/step\n"
          ]
        },
        {
          "output_type": "display_data",
          "data": {
            "text/plain": [
              "<Figure size 800x600 with 1 Axes>"
            ],
            "image/png": "[encoded data removed]"
          },
          "metadata": {}
        }
      ],
      "source": [
        "predictions = model.predict(X_test)\n",
        "predicted_labels = np.argmax(predictions, axis=1)\n",
        "true_labels = np.argmax(y_test, axis=1)\n",
        "\n",
        "confusion = confusion_matrix(true_labels, predicted_labels)\n",
        "\n",
        "plt.figure(figsize=(8, 6))\n",
        "axis_labels=label_encoder.classes_\n",
        "sns.heatmap(confusion, annot=True, xticklabels=axis_labels, yticklabels=axis_labels, fmt=\"d\", cmap=\"Blues\", cbar=False)\n",
        "plt.xlabel('Predicción')\n",
        "plt.ylabel('Valor Real')\n",
        "plt.title('Matriz de Confusión')\n",
        "plt.show()"
      ]
    },
    {
      "cell_type": "markdown",
      "metadata": {
        "id": "KQ-bcFBkMtmZ"
      },
      "source": [
        "#### **K-Fold Cross Validation**"
      ]
    },
    {
      "cell_type": "code",
      "execution_count": null,
      "metadata": {
        "colab": {
          "base_uri": "https://localhost:8080/"
        },
        "id": "ug6MMlG-MtmZ",
        "outputId": "249a3b40-7f20-4cae-d7bc-798b13d6d343"
      },
      "outputs": [
        {
          "output_type": "stream",
          "name": "stdout",
          "text": [
            "------------------------------------------------------------------------\n",
            "Entrenando para fold 1 ...\n",
            "Resultados para fold 1: loss de 0.05635302513837814; accuracy de 99.69387650489807%\n",
            "------------------------------------------------------------------------\n",
            "Entrenando para fold 2 ...\n",
            "Resultados para fold 2: loss de 0.06607942283153534; accuracy de 99.79591965675354%\n",
            "------------------------------------------------------------------------\n",
            "Entrenando para fold 3 ...\n",
            "Resultados para fold 3: loss de 0.07192368060350418; accuracy de 98.97959232330322%\n",
            "------------------------------------------------------------------------\n",
            "Entrenando para fold 4 ...\n",
            "Resultados para fold 4: loss de 0.048713818192481995; accuracy de 99.48927760124207%\n",
            "------------------------------------------------------------------------\n",
            "Entrenando para fold 5 ...\n",
            "Resultados para fold 5: loss de 0.08284159749746323; accuracy de 99.48927760124207%\n",
            "\n",
            "Loss promedio: 0.06518230885267258\n",
            "Accuracy promedio: 99.4895887374878%\n"
          ]
        }
      ],
      "source": [
        "# Inputs y Targets\n",
        "inputs = np.concatenate((X_train, X_test), axis=0)\n",
        "targets = np.concatenate((y_train, y_test), axis=0)\n",
        "\n",
        "k = 5\n",
        "kfold = KFold(n_splits=k, shuffle=True)\n",
        "\n",
        "acc_per_fold = []\n",
        "loss_per_fold = []\n",
        "\n",
        "# Evaluación de modelo usando K-Fold Cross Validation\n",
        "fold_num = 1\n",
        "for train, test in kfold.split(inputs, targets):\n",
        "\n",
        "  # Definimos la arquitectura usada por el modelo\n",
        "  model = Sequential()\n",
        "  model.add(Dense(units=64, activation='sigmoid', input_shape=(12,)))\n",
        "  model.add(Dense(units=32, activation='sigmoid'))\n",
        "  model.add(Dense(units=3, activation='sigmoid'))\n",
        "\n",
        "  # Compilamos el modelo\n",
        "  model.compile(loss='categorical_crossentropy',\n",
        "                optimizer='adam',\n",
        "                metrics=['accuracy'])\n",
        "\n",
        "  # Imprimimos cada fold\n",
        "  print('------------------------------------------------------------------------')\n",
        "  print(f'Entrenando para fold {fold_num} ...')\n",
        "\n",
        "  # Entrenamos el modelo\n",
        "  history = model.fit(inputs[train], targets[train],\n",
        "              batch_size=32,\n",
        "              epochs=20,\n",
        "              verbose=False)\n",
        "\n",
        "  # Generamos métricas\n",
        "  scores = model.evaluate(inputs[test], targets[test], verbose=0)\n",
        "  print(f'Resultados para fold {fold_num}: {model.metrics_names[0]} de {scores[0]}; {model.metrics_names[1]} de {scores[1]*100}%')\n",
        "  acc_per_fold.append(scores[1] * 100)\n",
        "  loss_per_fold.append(scores[0])\n",
        "\n",
        "  # Siguiente fold\n",
        "  fold_num = fold_num + 1\n",
        "\n",
        "print()\n",
        "print(f'Loss promedio: {sum(loss_per_fold)/len(loss_per_fold)}')\n",
        "print(f'Accuracy promedio: {sum(acc_per_fold)/len(acc_per_fold)}%')\n",
        "\n",
        "# variables de tabla de comparacion\n",
        "loss_clas_promedio_fold_sigmoide = sum(loss_per_fold)/len(loss_per_fold)\n",
        "accuracy_clas_promedio_fold_sigmoide = sum(acc_per_fold)/len(acc_per_fold)"
      ]
    },
    {
      "cell_type": "markdown",
      "metadata": {
        "id": "yXoWTRBg5ZHe"
      },
      "source": [
        "### Regresión"
      ]
    },
    {
      "cell_type": "markdown",
      "metadata": {
        "id": "NT0E5XD8gSTS"
      },
      "source": [
        "Para este segundo dataframe, se utilizó practicamente el mismo modelo de la sección anterior, solamente se aumentó la cantidad de neuronas en la hidden layer de 50 a 70.\n",
        "\n",
        "Lo anterior debido a que se observó que con 50 neuronas los resultados eran muy distantes al modelo anterior, con el aumento se obtienen métricas relativamente parecidas. Esto se podría atribuir al aumento en la cantidad de datos del dataframe."
      ]
    },
    {
      "cell_type": "code",
      "execution_count": null,
      "metadata": {
        "id": "uhT3x0sb5ZHk"
      },
      "outputs": [],
      "source": [
        "# crea una nueva variable 'X_white' que contiene todos los atributos excepto la columna 'quality'\n",
        "X_white = dataset_white.drop('quality', axis=1)\n",
        "#crea otra variable 'X_white' eliminando la columna 'quality_class' de 'X_white'\n",
        "X_white = X_white.drop('quality_class', axis=1)\n",
        "# Almacenar los valores de la columna 'quality' del dataset original\n",
        "y_white = dataset_white['quality']\n",
        "# Conjunto de datos en conjuntos de entrenamiento y prueba utilizando la función train_test_split\n",
        "X_train_white, X_test_white, y_train_white, y_test_white = train_test_split(X_white, y_white, test_size=0.3, random_state=42)"
      ]
    },
    {
      "cell_type": "code",
      "execution_count": null,
      "metadata": {
        "colab": {
          "base_uri": "https://localhost:8080/"
        },
        "id": "aduEXOwr5ZHk",
        "outputId": "4b14f492-2f92-4922-a63b-aeb1a8250e59"
      },
      "outputs": [
        {
          "output_type": "stream",
          "name": "stdout",
          "text": [
            "Model: \"modelo_sigmoide\"\n",
            "_________________________________________________________________\n",
            " Layer (type)                Output Shape              Param #   \n",
            "=================================================================\n",
            " dense_78 (Dense)            (None, 70)                840       \n",
            "                                                                 \n",
            " dense_79 (Dense)            (None, 1)                 71        \n",
            "                                                                 \n",
            "=================================================================\n",
            "Total params: 911\n",
            "Trainable params: 911\n",
            "Non-trainable params: 0\n",
            "_________________________________________________________________\n"
          ]
        }
      ],
      "source": [
        "# Modelo secuencia \"modelo_sigmoide\"\n",
        "# Compila un modelo secuencial de redes neuronales con una capa de activación sigmoide y una capa de salida lineal\n",
        "# la función de pérdida de error cuadrático medio y el optimizador SGD.\n",
        "modelo_sigmoide = keras.models.Sequential([\n",
        "    keras.layers.Dense(70, activation=\"sigmoid\", input_shape=X_train_white.shape[1:]),\n",
        "    keras.layers.Dense(1)\n",
        "], name=\"modelo_sigmoide\")\n",
        "modelo_sigmoide.compile(loss=\"mean_squared_error\", optimizer=keras.optimizers.SGD(learning_rate=1e-3))\n",
        "modelo_sigmoide.summary()"
      ]
    },
    {
      "cell_type": "code",
      "execution_count": null,
      "metadata": {
        "colab": {
          "base_uri": "https://localhost:8080/"
        },
        "id": "lI9iMkLa5ZHl",
        "outputId": "69edfb60-bf15-4bb5-f61e-af396b882de7"
      },
      "outputs": [
        {
          "output_type": "stream",
          "name": "stdout",
          "text": [
            "Epoch 1/30\n",
            "108/108 [==============================] - 1s 2ms/step - loss: 2.7757\n",
            "Epoch 2/30\n",
            "108/108 [==============================] - 0s 2ms/step - loss: 0.7607\n",
            "Epoch 3/30\n",
            "108/108 [==============================] - 0s 2ms/step - loss: 0.7502\n",
            "Epoch 4/30\n",
            "108/108 [==============================] - 0s 2ms/step - loss: 0.7435\n",
            "Epoch 5/30\n",
            "108/108 [==============================] - 0s 2ms/step - loss: 0.7419\n",
            "Epoch 6/30\n",
            "108/108 [==============================] - 0s 2ms/step - loss: 0.7378\n",
            "Epoch 7/30\n",
            "108/108 [==============================] - 0s 2ms/step - loss: 0.7373\n",
            "Epoch 8/30\n",
            "108/108 [==============================] - 0s 1ms/step - loss: 0.7343\n",
            "Epoch 9/30\n",
            "108/108 [==============================] - 0s 2ms/step - loss: 0.7280\n",
            "Epoch 10/30\n",
            "108/108 [==============================] - 0s 2ms/step - loss: 0.7232\n",
            "Epoch 11/30\n",
            "108/108 [==============================] - 0s 2ms/step - loss: 0.7228\n",
            "Epoch 12/30\n",
            "108/108 [==============================] - 0s 2ms/step - loss: 0.7216\n",
            "Epoch 13/30\n",
            "108/108 [==============================] - 0s 2ms/step - loss: 0.7192\n",
            "Epoch 14/30\n",
            "108/108 [==============================] - 0s 2ms/step - loss: 0.7173\n",
            "Epoch 15/30\n",
            "108/108 [==============================] - 0s 2ms/step - loss: 0.7147\n",
            "Epoch 16/30\n",
            "108/108 [==============================] - 0s 2ms/step - loss: 0.7130\n",
            "Epoch 17/30\n",
            "108/108 [==============================] - 0s 2ms/step - loss: 0.7144\n",
            "Epoch 18/30\n",
            "108/108 [==============================] - 0s 2ms/step - loss: 0.7106\n",
            "Epoch 19/30\n",
            "108/108 [==============================] - 0s 2ms/step - loss: 0.7078\n",
            "Epoch 20/30\n",
            "108/108 [==============================] - 0s 2ms/step - loss: 0.7067\n",
            "Epoch 21/30\n",
            "108/108 [==============================] - 0s 2ms/step - loss: 0.7037\n",
            "Epoch 22/30\n",
            "108/108 [==============================] - 0s 2ms/step - loss: 0.6981\n",
            "Epoch 23/30\n",
            "108/108 [==============================] - 0s 2ms/step - loss: 0.6946\n",
            "Epoch 24/30\n",
            "108/108 [==============================] - 0s 2ms/step - loss: 0.6975\n",
            "Epoch 25/30\n",
            "108/108 [==============================] - 0s 3ms/step - loss: 0.6923\n",
            "Epoch 26/30\n",
            "108/108 [==============================] - 0s 2ms/step - loss: 0.6923\n",
            "Epoch 27/30\n",
            "108/108 [==============================] - 0s 2ms/step - loss: 0.6879\n",
            "Epoch 28/30\n",
            "108/108 [==============================] - 0s 2ms/step - loss: 0.6879\n",
            "Epoch 29/30\n",
            "108/108 [==============================] - 0s 2ms/step - loss: 0.6815\n",
            "Epoch 30/30\n",
            "108/108 [==============================] - 0s 2ms/step - loss: 0.6839\n"
          ]
        }
      ],
      "source": [
        "# Entrena el modelo modelo_sigmoide con los datos de entrenamiento durante 20 épocas\n",
        "history = modelo_sigmoide.fit(X_train_white, y_train_white, epochs=30)"
      ]
    },
    {
      "cell_type": "markdown",
      "metadata": {
        "id": "4fhyM3a15ZHl"
      },
      "source": [
        "#### **Error cuadrático medio**"
      ]
    },
    {
      "cell_type": "code",
      "execution_count": null,
      "metadata": {
        "colab": {
          "base_uri": "https://localhost:8080/"
        },
        "id": "ywzdDu_b5ZHl",
        "outputId": "e81b82ad-d9f0-437b-8adf-5c7f190aa8b3"
      },
      "outputs": [
        {
          "output_type": "stream",
          "name": "stdout",
          "text": [
            "46/46 [==============================] - 0s 1ms/step - loss: 0.7018\n",
            "MSE del modelo sigmoide: 0.7017697095870972\n"
          ]
        }
      ],
      "source": [
        "# evalúa el modelo modelo_sigmoide en los datos de prueba y muestra el MSE resultante.\n",
        "mse_test = modelo_sigmoide.evaluate(X_test_white, y_test_white)\n",
        "\n",
        "print(f\"MSE del modelo sigmoide: {mse_test}\")\n",
        "\n",
        "# variables de tabla de comparacion\n",
        "Mse_reg_sigmoide = mse_test"
      ]
    },
    {
      "cell_type": "code",
      "execution_count": null,
      "metadata": {
        "colab": {
          "base_uri": "https://localhost:8080/"
        },
        "id": "xiuZo3DY5ZHl",
        "outputId": "7add87a8-b6e2-4b9c-8f81-d5963a6f597c"
      },
      "outputs": [
        {
          "output_type": "display_data",
          "data": {
            "text/plain": [
              "<Figure size 640x480 with 1 Axes>"
            ],
            "image/png": "[encoded data removed]"
          },
          "metadata": {}
        }
      ],
      "source": [
        "# Gráfico que muestra la evolución de las métricas de entrenamiento a lo largo de las épocas para el modelo entrenado.\n",
        "plt.plot(pd.DataFrame(history.history))\n",
        "plt.title(\"Evolución MSE / Epochs\")\n",
        "plt.xlabel(\"Epochs\")\n",
        "plt.ylabel(\"MSE\")\n",
        "plt.grid(True)\n",
        "plt.gca().set_ylim(0, 1)\n",
        "plt.show()"
      ]
    },
    {
      "cell_type": "markdown",
      "source": [
        "A diferencia del dataset anterior el cual era más pequeño, se observa cómo en este el algoritmo llega a su mínimo de función de pérdida en un punto considerablemente más alto."
      ],
      "metadata": {
        "id": "7RAA432KKu6W"
      }
    },
    {
      "cell_type": "markdown",
      "metadata": {
        "id": "DxUDS7RtdrOe"
      },
      "source": [
        "#### **K-Fold Cross Validation**"
      ]
    },
    {
      "cell_type": "code",
      "execution_count": null,
      "metadata": {
        "colab": {
          "base_uri": "https://localhost:8080/"
        },
        "id": "xiZjfKHkdui4",
        "outputId": "84b956a3-80ea-40bd-ed06-443f7072f5cd"
      },
      "outputs": [
        {
          "output_type": "stream",
          "name": "stdout",
          "text": [
            "------------------------------------------------------------------------\n",
            "Entrenando para fold 1 ...\n",
            "Resultados para fold 1: loss de 0.630146861076355\n",
            "------------------------------------------------------------------------\n",
            "Entrenando para fold 2 ...\n",
            "Resultados para fold 2: loss de 0.6800608038902283\n",
            "------------------------------------------------------------------------\n",
            "Entrenando para fold 3 ...\n",
            "Resultados para fold 3: loss de 0.7758554220199585\n",
            "------------------------------------------------------------------------\n",
            "Entrenando para fold 4 ...\n",
            "Resultados para fold 4: loss de 0.6641197204589844\n",
            "------------------------------------------------------------------------\n",
            "Entrenando para fold 5 ...\n",
            "Resultados para fold 5: loss de 0.6632206439971924\n",
            "\n",
            "MSE promedio: 0.6826806902885437\n"
          ]
        }
      ],
      "source": [
        "# Inputs y Targets\n",
        "inputs = np.concatenate((X_train_white, X_test_white), axis=0)\n",
        "targets = np.concatenate((y_train_white, y_test_white), axis=0)\n",
        "\n",
        "k = 5\n",
        "kfold = KFold(n_splits=k, shuffle=True)\n",
        "\n",
        "acc_per_fold = []\n",
        "loss_per_fold = []\n",
        "\n",
        "# Evaluación de modelo usando K-Fold Cross Validation\n",
        "fold_num = 1\n",
        "for train, test in kfold.split(inputs, targets):\n",
        "\n",
        "  # Definimos la arquitectura usada por el modelo\n",
        "  modelo_sigmoide = keras.models.Sequential([\n",
        "  keras.layers.Dense(70, activation=\"sigmoid\", input_shape=X_train_white.shape[1:]),\n",
        "  keras.layers.Dense(1)\n",
        "  ], name=\"modelo_sigmoide\")\n",
        "\n",
        "  # Compilamos el modelo\n",
        "  modelo_sigmoide.compile(loss=\"mean_squared_error\", optimizer=keras.optimizers.SGD(learning_rate=1e-3), metrics=['accuracy'])\n",
        "\n",
        "  # Imprimimos cada fold\n",
        "  print('------------------------------------------------------------------------')\n",
        "  print(f'Entrenando para fold {fold_num} ...')\n",
        "\n",
        "  # Entrenamos el modelo\n",
        "  history = modelo_sigmoide.fit(inputs[train], targets[train],\n",
        "              epochs=30,\n",
        "              verbose=False)\n",
        "\n",
        "  # Generamos métricas\n",
        "  scores = modelo_sigmoide.evaluate(inputs[test], targets[test], verbose=0)\n",
        "  print(f'Resultados para fold {fold_num}: {modelo_sigmoide.metrics_names[0]} de {scores[0]}')\n",
        "  loss_per_fold.append(scores[0])\n",
        "\n",
        "  # Siguiente fold\n",
        "  fold_num = fold_num + 1\n",
        "\n",
        "print()\n",
        "print(f'MSE promedio: {sum(loss_per_fold)/len(loss_per_fold)}')\n",
        "\n",
        "# variables de tabla de comparacion\n",
        "Mse_promedio_flod_sigmoide = sum(loss_per_fold)/len(loss_per_fold)"
      ]
    },
    {
      "cell_type": "markdown",
      "metadata": {
        "id": "HZLXKOjDe8KL"
      },
      "source": [
        "#### **Predicciones realizadas por el modelo**"
      ]
    },
    {
      "cell_type": "code",
      "execution_count": null,
      "metadata": {
        "colab": {
          "base_uri": "https://localhost:8080/"
        },
        "id": "-LTrAx2i5ZHl",
        "outputId": "239ff18b-5bda-4925-88da-dff0ba08a363"
      },
      "outputs": [
        {
          "output_type": "execute_result",
          "data": {
            "text/plain": [
              "      fixed acidity  volatile acidity  citric acid  residual sugar  chlorides  \\\n",
              "4656            6.0              0.29         0.41            10.8      0.048   \n",
              "3659            5.4              0.53         0.16             2.7      0.036   \n",
              "907             7.1              0.25         0.39             2.1      0.036   \n",
              "4352            7.3              0.28         0.35             1.6      0.054   \n",
              "3271            6.5              0.32         0.34             5.7      0.044   \n",
              "\n",
              "      free sulfur dioxide  total sulfur dioxide  density    pH  sulphates  \\\n",
              "4656                 55.0                 149.0  0.99370  3.09       0.59   \n",
              "3659                 34.0                 128.0  0.98856  3.20       0.53   \n",
              "907                  30.0                 124.0  0.99080  3.28       0.43   \n",
              "4352                 31.0                 148.0  0.99178  3.18       0.47   \n",
              "3271                 27.0                  91.0  0.99184  3.28       0.60   \n",
              "\n",
              "        alcohol  \n",
              "4656  10.966667  \n",
              "3659  13.200000  \n",
              "907   12.200000  \n",
              "4352  10.700000  \n",
              "3271  12.000000  "
            ],
            "text/html": [
              "\n",
              "  <div id=\"df-43dcc22a-160b-4f28-a91b-873579bd5a96\">\n",
              "    <div class=\"colab-df-container\">\n",
              "      <div>\n",
              "<style scoped>\n",
              "    .dataframe tbody tr th:only-of-type {\n",
              "        vertical-align: middle;\n",
              "    }\n",
              "\n",
              "    .dataframe tbody tr th {\n",
              "        vertical-align: top;\n",
              "    }\n",
              "\n",
              "    .dataframe thead th {\n",
              "        text-align: right;\n",
              "    }\n",
              "</style>\n",
              "<table border=\"1\" class=\"dataframe\">\n",
              "  <thead>\n",
              "    <tr style=\"text-align: right;\">\n",
              "      <th></th>\n",
              "      <th>fixed acidity</th>\n",
              "      <th>volatile acidity</th>\n",
              "      <th>citric acid</th>\n",
              "      <th>residual sugar</th>\n",
              "      <th>chlorides</th>\n",
              "      <th>free sulfur dioxide</th>\n",
              "      <th>total sulfur dioxide</th>\n",
              "      <th>density</th>\n",
              "      <th>pH</th>\n",
              "      <th>sulphates</th>\n",
              "      <th>alcohol</th>\n",
              "    </tr>\n",
              "  </thead>\n",
              "  <tbody>\n",
              "    <tr>\n",
              "      <th>4656</th>\n",
              "      <td>6.0</td>\n",
              "      <td>0.29</td>\n",
              "      <td>0.41</td>\n",
              "      <td>10.8</td>\n",
              "      <td>0.048</td>\n",
              "      <td>55.0</td>\n",
              "      <td>149.0</td>\n",
              "      <td>0.99370</td>\n",
              "      <td>3.09</td>\n",
              "      <td>0.59</td>\n",
              "      <td>10.966667</td>\n",
              "    </tr>\n",
              "    <tr>\n",
              "      <th>3659</th>\n",
              "      <td>5.4</td>\n",
              "      <td>0.53</td>\n",
              "      <td>0.16</td>\n",
              "      <td>2.7</td>\n",
              "      <td>0.036</td>\n",
              "      <td>34.0</td>\n",
              "      <td>128.0</td>\n",
              "      <td>0.98856</td>\n",
              "      <td>3.20</td>\n",
              "      <td>0.53</td>\n",
              "      <td>13.200000</td>\n",
              "    </tr>\n",
              "    <tr>\n",
              "      <th>907</th>\n",
              "      <td>7.1</td>\n",
              "      <td>0.25</td>\n",
              "      <td>0.39</td>\n",
              "      <td>2.1</td>\n",
              "      <td>0.036</td>\n",
              "      <td>30.0</td>\n",
              "      <td>124.0</td>\n",
              "      <td>0.99080</td>\n",
              "      <td>3.28</td>\n",
              "      <td>0.43</td>\n",
              "      <td>12.200000</td>\n",
              "    </tr>\n",
              "    <tr>\n",
              "      <th>4352</th>\n",
              "      <td>7.3</td>\n",
              "      <td>0.28</td>\n",
              "      <td>0.35</td>\n",
              "      <td>1.6</td>\n",
              "      <td>0.054</td>\n",
              "      <td>31.0</td>\n",
              "      <td>148.0</td>\n",
              "      <td>0.99178</td>\n",
              "      <td>3.18</td>\n",
              "      <td>0.47</td>\n",
              "      <td>10.700000</td>\n",
              "    </tr>\n",
              "    <tr>\n",
              "      <th>3271</th>\n",
              "      <td>6.5</td>\n",
              "      <td>0.32</td>\n",
              "      <td>0.34</td>\n",
              "      <td>5.7</td>\n",
              "      <td>0.044</td>\n",
              "      <td>27.0</td>\n",
              "      <td>91.0</td>\n",
              "      <td>0.99184</td>\n",
              "      <td>3.28</td>\n",
              "      <td>0.60</td>\n",
              "      <td>12.000000</td>\n",
              "    </tr>\n",
              "  </tbody>\n",
              "</table>\n",
              "</div>\n",
              "      <button class=\"colab-df-convert\" onclick=\"convertToInteractive('df-43dcc22a-160b-4f28-a91b-873579bd5a96')\"\n",
              "              title=\"Convert this dataframe to an interactive table.\"\n",
              "              style=\"display:none;\">\n",
              "        \n",
              "  <svg xmlns=\"http://www.w3.org/2000/svg\" height=\"24px\"viewBox=\"0 0 24 24\"\n",
              "       width=\"24px\">\n",
              "    <path d=\"M0 0h24v24H0V0z\" fill=\"none\"/>\n",
              "    <path d=\"M18.56 5.44l.94 2.06.94-2.06 2.06-.94-2.06-.94-.94-2.06-.94 2.06-2.06.94zm-11 1L8.5 8.5l.94-2.06 2.06-.94-2.06-.94L8.5 2.5l-.94 2.06-2.06.94zm10 10l.94 2.06.94-2.06 2.06-.94-2.06-.94-.94-2.06-.94 2.06-2.06.94z\"/><path d=\"M17.41 7.96l-1.37-1.37c-.4-.4-.92-.59-1.43-.59-.52 0-1.04.2-1.43.59L10.3 9.45l-7.72 7.72c-.78.78-.78 2.05 0 2.83L4 21.41c.39.39.9.59 1.41.59.51 0 1.02-.2 1.41-.59l7.78-7.78 2.81-2.81c.8-.78.8-2.07 0-2.86zM5.41 20L4 18.59l7.72-7.72 1.47 1.35L5.41 20z\"/>\n",
              "  </svg>\n",
              "      </button>\n",
              "      \n",
              "  <style>\n",
              "    .colab-df-container {\n",
              "      display:flex;\n",
              "      flex-wrap:wrap;\n",
              "      gap: 12px;\n",
              "    }\n",
              "\n",
              "    .colab-df-convert {\n",
              "      background-color: #E8F0FE;\n",
              "      border: none;\n",
              "      border-radius: 50%;\n",
              "      cursor: pointer;\n",
              "      display: none;\n",
              "      fill: #1967D2;\n",
              "      height: 32px;\n",
              "      padding: 0 0 0 0;\n",
              "      width: 32px;\n",
              "    }\n",
              "\n",
              "    .colab-df-convert:hover {\n",
              "      background-color: #E2EBFA;\n",
              "      box-shadow: 0px 1px 2px rgba(60, 64, 67, 0.3), 0px 1px 3px 1px rgba(60, 64, 67, 0.15);\n",
              "      fill: #174EA6;\n",
              "    }\n",
              "\n",
              "    [theme=dark] .colab-df-convert {\n",
              "      background-color: #3B4455;\n",
              "      fill: #D2E3FC;\n",
              "    }\n",
              "\n",
              "    [theme=dark] .colab-df-convert:hover {\n",
              "      background-color: #434B5C;\n",
              "      box-shadow: 0px 1px 3px 1px rgba(0, 0, 0, 0.15);\n",
              "      filter: drop-shadow(0px 1px 2px rgba(0, 0, 0, 0.3));\n",
              "      fill: #FFFFFF;\n",
              "    }\n",
              "  </style>\n",
              "\n",
              "      <script>\n",
              "        const buttonEl =\n",
              "          document.querySelector('#df-43dcc22a-160b-4f28-a91b-873579bd5a96 button.colab-df-convert');\n",
              "        buttonEl.style.display =\n",
              "          google.colab.kernel.accessAllowed ? 'block' : 'none';\n",
              "\n",
              "        async function convertToInteractive(key) {\n",
              "          const element = document.querySelector('#df-43dcc22a-160b-4f28-a91b-873579bd5a96');\n",
              "          const dataTable =\n",
              "            await google.colab.kernel.invokeFunction('convertToInteractive',\n",
              "                                                     [key], {});\n",
              "          if (!dataTable) return;\n",
              "\n",
              "          const docLinkHtml = 'Like what you see? Visit the ' +\n",
              "            '<a target=\"_blank\" href=https://colab.research.google.com/notebooks/data_table.ipynb>data table notebook</a>'\n",
              "            + ' to learn more about interactive tables.';\n",
              "          element.innerHTML = '';\n",
              "          dataTable['output_type'] = 'display_data';\n",
              "          await google.colab.output.renderOutput(dataTable, element);\n",
              "          const docLink = document.createElement('div');\n",
              "          docLink.innerHTML = docLinkHtml;\n",
              "          element.appendChild(docLink);\n",
              "        }\n",
              "      </script>\n",
              "    </div>\n",
              "  </div>\n",
              "  "
            ]
          },
          "metadata": {},
          "execution_count": 44
        }
      ],
      "source": [
        "# Conjunto de datos que contiene las características de prueba de \"X_test_white\"\n",
        "X_test_white[0:5]"
      ]
    },
    {
      "cell_type": "code",
      "execution_count": null,
      "metadata": {
        "colab": {
          "base_uri": "https://localhost:8080/"
        },
        "id": "jMCebVMu5ZHl",
        "outputId": "49356a86-2e44-4d75-92c3-5bad444104a4"
      },
      "outputs": [
        {
          "output_type": "execute_result",
          "data": {
            "text/plain": [
              "4656    7\n",
              "3659    8\n",
              "907     8\n",
              "4352    5\n",
              "3271    7\n",
              "Name: quality, dtype: int64"
            ]
          },
          "metadata": {},
          "execution_count": 45
        }
      ],
      "source": [
        "# Conjunto de valores objetivo que corresponden a los datos de prueba.\n",
        "y_test_white[0:5]"
      ]
    },
    {
      "cell_type": "code",
      "execution_count": null,
      "metadata": {
        "colab": {
          "base_uri": "https://localhost:8080/"
        },
        "id": "An1m9pb85ZHm",
        "outputId": "444700c3-13a6-4afc-9eac-a59a917b2e5e"
      },
      "outputs": [
        {
          "output_type": "stream",
          "name": "stdout",
          "text": [
            "1/1 [==============================] - 0s 77ms/step\n"
          ]
        },
        {
          "output_type": "execute_result",
          "data": {
            "text/plain": [
              "array([[6.0871487],\n",
              "       [6.347174 ],\n",
              "       [6.247281 ],\n",
              "       [5.9619217],\n",
              "       [6.335271 ]], dtype=float32)"
            ]
          },
          "metadata": {},
          "execution_count": 46
        }
      ],
      "source": [
        "# Se realiza predicciones utilizando el modelo \"modelo_sigmoide\" en el subconjunto de datos de prueba X_new\n",
        "X_new = X_test_white[0:5]\n",
        "y_pred = modelo_sigmoide.predict(X_new)\n",
        "y_pred"
      ]
    },
    {
      "cell_type": "markdown",
      "metadata": {
        "id": "hChvO2oKrFAl"
      },
      "source": [
        "## Clasificación y regresión utilizando función tangente hiperbólica"
      ]
    },
    {
      "cell_type": "markdown",
      "metadata": {
        "id": "aMgQ2w4stGRC"
      },
      "source": [
        "### Clasificación"
      ]
    },
    {
      "cell_type": "markdown",
      "metadata": {
        "id": "oiPGkUB6rFA2"
      },
      "source": [
        "Creamos un modelo de clasificación basado en redes neuronales utilizando la función $\\tanh$ como función de activación. La arquitectura del modelo consiste en una capa de entrada, una capa oculta densa con 64 neuronas, otra con 32 neuronas y una capa de salida con 3 neuronas correspondientes a cada clase."
      ]
    },
    {
      "cell_type": "code",
      "execution_count": null,
      "metadata": {
        "colab": {
          "base_uri": "https://localhost:8080/"
        },
        "id": "anO3LSkArFA2",
        "outputId": "124b67b0-1b20-47b5-f94f-cdf7581e409d"
      },
      "outputs": [
        {
          "output_type": "stream",
          "name": "stdout",
          "text": [
            "Epoch 1/20\n",
            "123/123 [==============================] - 1s 4ms/step - loss: 3.0464 - accuracy: 0.3321 - val_loss: 4.7922 - val_accuracy: 0.2969\n",
            "Epoch 2/20\n",
            "123/123 [==============================] - 0s 3ms/step - loss: 4.7993 - accuracy: 0.2976 - val_loss: 4.7868 - val_accuracy: 0.2969\n",
            "Epoch 3/20\n",
            "123/123 [==============================] - 0s 3ms/step - loss: 4.7970 - accuracy: 0.2976 - val_loss: 4.7861 - val_accuracy: 0.2969\n",
            "Epoch 4/20\n",
            "123/123 [==============================] - 0s 2ms/step - loss: 4.7968 - accuracy: 0.2976 - val_loss: 4.7861 - val_accuracy: 0.2969\n",
            "Epoch 5/20\n",
            "123/123 [==============================] - 0s 3ms/step - loss: 4.7968 - accuracy: 0.2976 - val_loss: 4.7861 - val_accuracy: 0.2969\n",
            "Epoch 6/20\n",
            "123/123 [==============================] - 0s 3ms/step - loss: 4.7968 - accuracy: 0.2976 - val_loss: 4.7861 - val_accuracy: 0.2969\n",
            "Epoch 7/20\n",
            "123/123 [==============================] - 0s 3ms/step - loss: 4.7968 - accuracy: 0.2976 - val_loss: 4.7861 - val_accuracy: 0.2969\n",
            "Epoch 8/20\n",
            "123/123 [==============================] - 0s 3ms/step - loss: 4.7968 - accuracy: 0.2976 - val_loss: 4.7861 - val_accuracy: 0.2969\n",
            "Epoch 9/20\n",
            "123/123 [==============================] - 1s 5ms/step - loss: 4.7968 - accuracy: 0.2976 - val_loss: 4.7861 - val_accuracy: 0.2969\n",
            "Epoch 10/20\n",
            "123/123 [==============================] - 1s 7ms/step - loss: 4.7968 - accuracy: 0.2976 - val_loss: 4.7861 - val_accuracy: 0.2969\n",
            "Epoch 11/20\n",
            "123/123 [==============================] - 0s 3ms/step - loss: 4.7968 - accuracy: 0.2976 - val_loss: 4.7861 - val_accuracy: 0.2969\n",
            "Epoch 12/20\n",
            "123/123 [==============================] - 0s 3ms/step - loss: 4.7968 - accuracy: 0.2976 - val_loss: 4.7861 - val_accuracy: 0.2969\n",
            "Epoch 13/20\n",
            "123/123 [==============================] - 0s 2ms/step - loss: 4.7968 - accuracy: 0.2976 - val_loss: 4.7861 - val_accuracy: 0.2969\n",
            "Epoch 14/20\n",
            "123/123 [==============================] - 0s 3ms/step - loss: 4.7968 - accuracy: 0.2976 - val_loss: 4.7861 - val_accuracy: 0.2969\n",
            "Epoch 15/20\n",
            "123/123 [==============================] - 0s 3ms/step - loss: 4.7968 - accuracy: 0.2976 - val_loss: 4.7861 - val_accuracy: 0.2969\n",
            "Epoch 16/20\n",
            "123/123 [==============================] - 0s 2ms/step - loss: 4.7968 - accuracy: 0.2976 - val_loss: 4.7861 - val_accuracy: 0.2969\n",
            "Epoch 17/20\n",
            "123/123 [==============================] - 0s 2ms/step - loss: 4.7968 - accuracy: 0.2976 - val_loss: 4.7861 - val_accuracy: 0.2969\n",
            "Epoch 18/20\n",
            "123/123 [==============================] - 0s 3ms/step - loss: 4.7968 - accuracy: 0.2976 - val_loss: 4.7861 - val_accuracy: 0.2969\n",
            "Epoch 19/20\n",
            "123/123 [==============================] - 0s 3ms/step - loss: 4.7968 - accuracy: 0.2976 - val_loss: 4.7861 - val_accuracy: 0.2969\n",
            "Epoch 20/20\n",
            "123/123 [==============================] - 0s 2ms/step - loss: 4.7968 - accuracy: 0.2976 - val_loss: 4.7861 - val_accuracy: 0.2969\n",
            "31/31 [==============================] - 0s 1ms/step - loss: 4.7861 - accuracy: 0.2969\n",
            "Test loss: 4.786091327667236\n",
            "Test accuracy: 0.29693877696990967\n"
          ]
        }
      ],
      "source": [
        "# Crea el dataset 'X_dataset_white' eliminando la columna 'quality_class' de 'dataset_white'\n",
        "X_dataset_white = dataset_white.drop('quality_class', axis=1)\n",
        "\n",
        "# Almacena las etiquetas 'quality_class' del dataset original\n",
        "y = dataset_white['quality_class']\n",
        "\n",
        "# Encode\n",
        "label_encoder = LabelEncoder()\n",
        "y = label_encoder.fit_transform(y)\n",
        "y = keras.utils.to_categorical(y)\n",
        "\n",
        "# Dividir los datos en sets de entrenamiento y de testing\n",
        "X_train, X_test, y_train, y_test = train_test_split(X_dataset_white, y, test_size=0.2, random_state=42)\n",
        "\n",
        "# Creamos el modelo\n",
        "model = Sequential()\n",
        "\n",
        "# Capa de entrada\n",
        "model.add(Dense(units=64, activation='tanh', input_shape=(12,)))\n",
        "\n",
        "# Capa oculta\n",
        "model.add(Dense(units=32, activation='tanh'))\n",
        "\n",
        "# Capa de salida\n",
        "num_classes = len(label_encoder.classes_)\n",
        "model.add(Dense(units=num_classes, activation='tanh'))\n",
        "\n",
        "# Compilamos el modelo\n",
        "model.compile(loss='categorical_crossentropy', optimizer='adam', metrics=['accuracy'])\n",
        "\n",
        "# Entrenamos el modelo con 20 épocas\n",
        "model.fit(X_train, y_train, batch_size=32, epochs=20, validation_data=(X_test, y_test))\n",
        "\n",
        "# Evaluamos el modelo\n",
        "loss, accuracy = model.evaluate(X_test, y_test)\n",
        "print('Test loss:', loss)\n",
        "print('Test accuracy:', accuracy)\n",
        "\n",
        "# variables de tabla de comparacion\n",
        "loss_clas_tanH = loss\n",
        "accuracy_clas_tanH = accuracy"
      ]
    },
    {
      "cell_type": "markdown",
      "metadata": {
        "id": "GU8jGsHDrFA3"
      },
      "source": [
        "#### **Matriz de Confusión**"
      ]
    },
    {
      "cell_type": "code",
      "execution_count": null,
      "metadata": {
        "colab": {
          "base_uri": "https://localhost:8080/"
        },
        "id": "lm2BnGrwrFA3",
        "outputId": "25145959-945d-488a-cc8f-a0ebb453efb9"
      },
      "outputs": [
        {
          "output_type": "stream",
          "name": "stdout",
          "text": [
            "31/31 [==============================] - 0s 1ms/step\n"
          ]
        },
        {
          "output_type": "display_data",
          "data": {
            "text/plain": [
              "<Figure size 800x600 with 1 Axes>"
            ],
            "image/png": "[encoded data removed]"
          },
          "metadata": {}
        }
      ],
      "source": [
        "predictions = model.predict(X_test)\n",
        "predicted_labels = np.argmax(predictions, axis=1)\n",
        "true_labels = np.argmax(y_test, axis=1)\n",
        "\n",
        "confusion = confusion_matrix(true_labels, predicted_labels)\n",
        "\n",
        "plt.figure(figsize=(8, 6))\n",
        "axis_labels=label_encoder.classes_\n",
        "sns.heatmap(confusion, annot=True, xticklabels=axis_labels, yticklabels=axis_labels, fmt=\"d\", cmap=\"Blues\", cbar=False)\n",
        "plt.xlabel('Predicción')\n",
        "plt.ylabel('Valor Real')\n",
        "plt.title('Matriz de Confusión')\n",
        "plt.show()"
      ]
    },
    {
      "cell_type": "markdown",
      "metadata": {
        "id": "XZE57g7irFA4"
      },
      "source": [
        "#### **K-Fold Cross Validation**"
      ]
    },
    {
      "cell_type": "code",
      "execution_count": null,
      "metadata": {
        "colab": {
          "base_uri": "https://localhost:8080/"
        },
        "id": "S0RSzO6TrFA4",
        "outputId": "1504ffb2-6a04-41f3-c4d5-a4203ef81052"
      },
      "outputs": [
        {
          "output_type": "stream",
          "name": "stdout",
          "text": [
            "------------------------------------------------------------------------\n",
            "Entrenando para fold 1 ...\n",
            "Resultados para fold 1: loss de 0.6085407733917236; accuracy de 67.85714030265808%\n",
            "------------------------------------------------------------------------\n",
            "Entrenando para fold 2 ...\n",
            "Resultados para fold 2: loss de 4.884769439697266; accuracy de 35.61224341392517%\n",
            "------------------------------------------------------------------------\n",
            "Entrenando para fold 3 ...\n",
            "Resultados para fold 3: loss de 10.953726768493652; accuracy de 66.53061509132385%\n",
            "------------------------------------------------------------------------\n",
            "Entrenando para fold 4 ...\n",
            "Resultados para fold 4: loss de 0.4774516224861145; accuracy de 66.90500378608704%\n",
            "------------------------------------------------------------------------\n",
            "Entrenando para fold 5 ...\n",
            "Resultados para fold 5: loss de 0.6420897841453552; accuracy de 3.575076535344124%\n",
            "\n",
            "Loss promedio: 3.5133156776428223\n",
            "Accuracy promedio: 48.09601582586765%\n"
          ]
        }
      ],
      "source": [
        "# Inputs y Targets\n",
        "inputs = np.concatenate((X_train, X_test), axis=0)\n",
        "targets = np.concatenate((y_train, y_test), axis=0)\n",
        "\n",
        "k = 5\n",
        "kfold = KFold(n_splits=k, shuffle=True)\n",
        "\n",
        "acc_per_fold = []\n",
        "loss_per_fold = []\n",
        "\n",
        "# Evaluación de modelo usando K-Fold Cross Validation\n",
        "fold_num = 1\n",
        "for train, test in kfold.split(inputs, targets):\n",
        "\n",
        "  # Definimos la arquitectura usada por el modelo\n",
        "  model = Sequential()\n",
        "  model.add(Dense(units=64, activation='tanh', input_shape=(12,)))\n",
        "  model.add(Dense(units=32, activation='tanh'))\n",
        "  model.add(Dense(units=3, activation='tanh'))\n",
        "\n",
        "  # Compilamos el modelo\n",
        "  model.compile(loss='categorical_crossentropy',\n",
        "                optimizer='adam',\n",
        "                metrics=['accuracy'])\n",
        "\n",
        "  # Imprimimos cada fold\n",
        "  print('------------------------------------------------------------------------')\n",
        "  print(f'Entrenando para fold {fold_num} ...')\n",
        "\n",
        "  # Entrenamos el modelo\n",
        "  history = model.fit(inputs[train], targets[train],\n",
        "              batch_size=32,\n",
        "              epochs=20,\n",
        "              verbose=False)\n",
        "\n",
        "  # Generamos métricas\n",
        "  scores = model.evaluate(inputs[test], targets[test], verbose=0)\n",
        "  print(f'Resultados para fold {fold_num}: {model.metrics_names[0]} de {scores[0]}; {model.metrics_names[1]} de {scores[1]*100}%')\n",
        "  acc_per_fold.append(scores[1] * 100)\n",
        "  loss_per_fold.append(scores[0])\n",
        "\n",
        "  # Siguiente fold\n",
        "  fold_num = fold_num + 1\n",
        "\n",
        "print()\n",
        "print(f'Loss promedio: {sum(loss_per_fold)/len(loss_per_fold)}')\n",
        "print(f'Accuracy promedio: {sum(acc_per_fold)/len(acc_per_fold)}%')\n",
        "\n",
        "# variables de tabla de comparacion\n",
        "loss_clas_promedio_fold_tanH = sum(loss_per_fold)/len(loss_per_fold)\n",
        "accuracy_clas_promedio_fold_tanH = sum(acc_per_fold)/len(acc_per_fold)"
      ]
    },
    {
      "cell_type": "markdown",
      "metadata": {
        "id": "XUM4VOZ_rFA5"
      },
      "source": [
        "Para esta métrica, se realiza un escalado de los valores para luego poder obtener un promedio significativo del accuracy medido por el método de cross-validation. Es importante señalar que a diferencia de lo obtenido en la matriz de confusión, en esta métrica se observa un rendimiento regular en la medición de loss, sin embargo en accuracy parece tener aún peor rendimiento que con la medida de testing inicialmente utilizada."
      ]
    },
    {
      "cell_type": "markdown",
      "metadata": {
        "id": "wzhcua0ptNnk"
      },
      "source": [
        "### Regresión"
      ]
    },
    {
      "cell_type": "markdown",
      "metadata": {
        "id": "bj-GITN8jdht"
      },
      "source": [
        "Para este caso se repite la arquitectura del modelo, solo se cambia la función de activación"
      ]
    },
    {
      "cell_type": "code",
      "execution_count": null,
      "metadata": {
        "colab": {
          "base_uri": "https://localhost:8080/"
        },
        "id": "Liw7oKortPlm",
        "outputId": "1ace319a-4a78-45fb-e478-9c5296d49853"
      },
      "outputs": [
        {
          "output_type": "stream",
          "name": "stdout",
          "text": [
            "Model: \"modelo_tangente\"\n",
            "_________________________________________________________________\n",
            " Layer (type)                Output Shape              Param #   \n",
            "=================================================================\n",
            " dense_108 (Dense)           (None, 70)                840       \n",
            "                                                                 \n",
            " dense_109 (Dense)           (None, 1)                 71        \n",
            "                                                                 \n",
            "=================================================================\n",
            "Total params: 911\n",
            "Trainable params: 911\n",
            "Non-trainable params: 0\n",
            "_________________________________________________________________\n"
          ]
        }
      ],
      "source": [
        "# modelo secuencial \"modelo_tanh\"\n",
        "# compila un modelo secuencial de redes neuronales con una capa de activación tangente hiperbólica y una capa de salida lineal\n",
        "# la función de pérdida de error cuadrático medio y el optimizador SGD.\n",
        "modelo_tanh = keras.models.Sequential([\n",
        "    keras.layers.Dense(70, activation=\"tanh\", input_shape=X_train_red.shape[1:]),\n",
        "    keras.layers.Dense(1)\n",
        "], name=\"modelo_tangente\")\n",
        "modelo_tanh.compile(loss=\"mean_squared_error\", optimizer=keras.optimizers.SGD(learning_rate=1e-3))\n",
        "modelo_tanh.summary()"
      ]
    },
    {
      "cell_type": "code",
      "execution_count": null,
      "metadata": {
        "colab": {
          "base_uri": "https://localhost:8080/"
        },
        "id": "fQ1Qnfjpnfou",
        "outputId": "d1ce73ca-0d00-497c-efdb-aeb3bc46615f"
      },
      "outputs": [
        {
          "output_type": "stream",
          "name": "stdout",
          "text": [
            "Epoch 1/30\n",
            "108/108 [==============================] - 0s 2ms/step - loss: 1.0877\n",
            "Epoch 2/30\n",
            "108/108 [==============================] - 0s 2ms/step - loss: 0.7654\n",
            "Epoch 3/30\n",
            "108/108 [==============================] - 0s 1ms/step - loss: 0.7416\n",
            "Epoch 4/30\n",
            "108/108 [==============================] - 0s 1ms/step - loss: 0.7433\n",
            "Epoch 5/30\n",
            "108/108 [==============================] - 0s 2ms/step - loss: 0.7631\n",
            "Epoch 6/30\n",
            "108/108 [==============================] - 0s 2ms/step - loss: 0.7558\n",
            "Epoch 7/30\n",
            "108/108 [==============================] - 0s 2ms/step - loss: 0.7454\n",
            "Epoch 8/30\n",
            "108/108 [==============================] - 0s 2ms/step - loss: 0.7268\n",
            "Epoch 9/30\n",
            "108/108 [==============================] - 0s 1ms/step - loss: 0.7245\n",
            "Epoch 10/30\n",
            "108/108 [==============================] - 0s 2ms/step - loss: 0.7189\n",
            "Epoch 11/30\n",
            "108/108 [==============================] - 0s 2ms/step - loss: 0.7208\n",
            "Epoch 12/30\n",
            "108/108 [==============================] - 0s 2ms/step - loss: 0.7183\n",
            "Epoch 13/30\n",
            "108/108 [==============================] - 0s 2ms/step - loss: 0.7164\n",
            "Epoch 14/30\n",
            "108/108 [==============================] - 0s 2ms/step - loss: 0.7077\n",
            "Epoch 15/30\n",
            "108/108 [==============================] - 0s 2ms/step - loss: 0.7115\n",
            "Epoch 16/30\n",
            "108/108 [==============================] - 0s 2ms/step - loss: 0.7037\n",
            "Epoch 17/30\n",
            "108/108 [==============================] - 0s 2ms/step - loss: 0.6982\n",
            "Epoch 18/30\n",
            "108/108 [==============================] - 0s 2ms/step - loss: 0.7135\n",
            "Epoch 19/30\n",
            "108/108 [==============================] - 0s 2ms/step - loss: 0.7019\n",
            "Epoch 20/30\n",
            "108/108 [==============================] - 0s 2ms/step - loss: 0.7085\n",
            "Epoch 21/30\n",
            "108/108 [==============================] - 0s 2ms/step - loss: 0.6928\n",
            "Epoch 22/30\n",
            "108/108 [==============================] - 0s 2ms/step - loss: 0.7008\n",
            "Epoch 23/30\n",
            "108/108 [==============================] - 0s 2ms/step - loss: 0.7303\n",
            "Epoch 24/30\n",
            "108/108 [==============================] - 0s 2ms/step - loss: 0.7089\n",
            "Epoch 25/30\n",
            "108/108 [==============================] - 0s 1ms/step - loss: 0.7121\n",
            "Epoch 26/30\n",
            "108/108 [==============================] - 0s 2ms/step - loss: 0.7031\n",
            "Epoch 27/30\n",
            "108/108 [==============================] - 0s 1ms/step - loss: 0.7032\n",
            "Epoch 28/30\n",
            "108/108 [==============================] - 0s 2ms/step - loss: 0.7072\n",
            "Epoch 29/30\n",
            "108/108 [==============================] - 0s 2ms/step - loss: 0.7106\n",
            "Epoch 30/30\n",
            "108/108 [==============================] - 0s 1ms/step - loss: 0.7100\n"
          ]
        }
      ],
      "source": [
        "# Entrena el modelo modelo_tanh con los datos de entrenamiento durante 20 épocas\n",
        "history = modelo_tanh.fit(X_train_white, y_train_white, epochs=30)"
      ]
    },
    {
      "cell_type": "markdown",
      "metadata": {
        "id": "S-EA-DBlnj1R"
      },
      "source": [
        "#### **Error cuadrático medio**"
      ]
    },
    {
      "cell_type": "code",
      "execution_count": null,
      "metadata": {
        "colab": {
          "base_uri": "https://localhost:8080/"
        },
        "id": "a5ko6O0RnvGB",
        "outputId": "619e4b3d-927b-472a-8151-3f3484254f60"
      },
      "outputs": [
        {
          "output_type": "stream",
          "name": "stdout",
          "text": [
            "46/46 [==============================] - 0s 1ms/step - loss: 0.7172\n",
            "MSE del modelo tangente hiperbólica: 0.7171996831893921\n"
          ]
        }
      ],
      "source": [
        "# evalúa el modelo modelo_tanh en los datos de prueba y muestra el MSE resultante.\n",
        "mse_test = modelo_tanh.evaluate(X_test_white, y_test_white)\n",
        "print(f\"MSE del modelo tangente hiperbólica: {mse_test}\")\n",
        "\n",
        "# variables de tabla de comparacion\n",
        "Mse_reg_sigmoide_tanH = mse_test\n"
      ]
    },
    {
      "cell_type": "code",
      "execution_count": null,
      "metadata": {
        "colab": {
          "base_uri": "https://localhost:8080/",
          "height": 472
        },
        "id": "Xxy8_636n0_E",
        "outputId": "aa501a3c-ff38-4a83-a654-c3c84e95edaa"
      },
      "outputs": [
        {
          "output_type": "display_data",
          "data": {
            "text/plain": [
              "<Figure size 640x480 with 1 Axes>"
            ],
            "image/png": "[encoded data removed]"
          },
          "metadata": {}
        }
      ],
      "source": [
        "# Gráfico que muestra la evolución de las métricas de entrenamiento a lo largo de las épocas para el modelo entrenado.\n",
        "plt.plot(pd.DataFrame(history.history))\n",
        "plt.title(\"Evolución MSE / Epochs\")\n",
        "plt.xlabel(\"Epochs\")\n",
        "plt.ylabel(\"MSE\")\n",
        "plt.grid(True)\n",
        "plt.gca().set_ylim(0, 1)\n",
        "plt.show()"
      ]
    },
    {
      "cell_type": "markdown",
      "source": [
        "Comparando con el gráfico anterior, se observa que el mínimo encontrado es prácticamente en el mismo valor, sin embargo la línea correspondiente a este segundo modelo presenta fluctuaciones considerablemente mayores, sin llegar a una línea \"recta\", como ocurría con el MSE anterior."
      ],
      "metadata": {
        "id": "Z8f85xA5Loyx"
      }
    },
    {
      "cell_type": "markdown",
      "metadata": {
        "id": "ftpfnVKthRW3"
      },
      "source": [
        "#### **K-Fold Cross Validation**"
      ]
    },
    {
      "cell_type": "code",
      "execution_count": null,
      "metadata": {
        "colab": {
          "base_uri": "https://localhost:8080/"
        },
        "id": "VHUMfTqwhV5i",
        "outputId": "0def7b6a-f0d6-4726-f771-785c8d7260c0"
      },
      "outputs": [
        {
          "output_type": "stream",
          "name": "stdout",
          "text": [
            "------------------------------------------------------------------------\n",
            "Entrenando para fold 1 ...\n",
            "Resultados para fold 1: loss de 0.6195148229598999\n",
            "------------------------------------------------------------------------\n",
            "Entrenando para fold 2 ...\n",
            "Resultados para fold 2: loss de 0.6680569052696228\n",
            "------------------------------------------------------------------------\n",
            "Entrenando para fold 3 ...\n",
            "Resultados para fold 3: loss de 0.7750471830368042\n",
            "------------------------------------------------------------------------\n",
            "Entrenando para fold 4 ...\n",
            "Resultados para fold 4: loss de 0.7038190960884094\n",
            "------------------------------------------------------------------------\n",
            "Entrenando para fold 5 ...\n",
            "Resultados para fold 5: loss de 0.7371153235435486\n",
            "\n",
            "MSE promedio: 0.7007106661796569\n"
          ]
        }
      ],
      "source": [
        "# Inputs y Targets\n",
        "inputs = np.concatenate((X_train_white, X_test_white), axis=0)\n",
        "targets = np.concatenate((y_train_white, y_test_white), axis=0)\n",
        "\n",
        "k = 5\n",
        "kfold = KFold(n_splits=k, shuffle=True)\n",
        "\n",
        "acc_per_fold = []\n",
        "loss_per_fold = []\n",
        "\n",
        "# Evaluación de modelo usando K-Fold Cross Validation\n",
        "fold_num = 1\n",
        "for train, test in kfold.split(inputs, targets):\n",
        "\n",
        "  # Definimos la arquitectura usada por el modelo\n",
        "  modelo_tanh = keras.models.Sequential([\n",
        "  keras.layers.Dense(70, activation=\"tanh\", input_shape=X_train_red.shape[1:]),\n",
        "  keras.layers.Dense(1)\n",
        "  ], name=\"modelo_tangente\")\n",
        "\n",
        "  # Compilamos el modelo\n",
        "  modelo_tanh.compile(loss=\"mean_squared_error\", optimizer=keras.optimizers.SGD(learning_rate=1e-3), metrics=['accuracy'])\n",
        "\n",
        "  # Imprimimos cada fold\n",
        "  print('------------------------------------------------------------------------')\n",
        "  print(f'Entrenando para fold {fold_num} ...')\n",
        "\n",
        "  # Entrenamos el modelo\n",
        "  history = modelo_tanh.fit(inputs[train], targets[train],\n",
        "              epochs=30,\n",
        "              verbose=False)\n",
        "\n",
        "  # Generamos métricas\n",
        "  scores = modelo_tanh.evaluate(inputs[test], targets[test], verbose=0)\n",
        "  print(f'Resultados para fold {fold_num}: {modelo_tanh.metrics_names[0]} de {scores[0]}')\n",
        "  loss_per_fold.append(scores[0])\n",
        "\n",
        "  # Siguiente fold\n",
        "  fold_num = fold_num + 1\n",
        "\n",
        "print()\n",
        "print(f'MSE promedio: {sum(loss_per_fold)/len(loss_per_fold)}')\n",
        "\n",
        "# variables de tabla de comparacion\n",
        "Mse_promedio_flod_tanH = sum(loss_per_fold)/len(loss_per_fold)"
      ]
    },
    {
      "cell_type": "markdown",
      "metadata": {
        "id": "bhF_AJf0fwYN"
      },
      "source": [
        "#### **Predicciones realizadas por el modelo**"
      ]
    },
    {
      "cell_type": "code",
      "execution_count": null,
      "metadata": {
        "colab": {
          "base_uri": "https://localhost:8080/"
        },
        "id": "JqM-1LBjn4GS",
        "outputId": "c929c005-fde5-41f0-f0cf-59aee4d71816"
      },
      "outputs": [
        {
          "output_type": "execute_result",
          "data": {
            "text/plain": [
              "      fixed acidity  volatile acidity  citric acid  residual sugar  chlorides  \\\n",
              "4656            6.0              0.29         0.41            10.8      0.048   \n",
              "3659            5.4              0.53         0.16             2.7      0.036   \n",
              "907             7.1              0.25         0.39             2.1      0.036   \n",
              "4352            7.3              0.28         0.35             1.6      0.054   \n",
              "3271            6.5              0.32         0.34             5.7      0.044   \n",
              "\n",
              "      free sulfur dioxide  total sulfur dioxide  density    pH  sulphates  \\\n",
              "4656                 55.0                 149.0  0.99370  3.09       0.59   \n",
              "3659                 34.0                 128.0  0.98856  3.20       0.53   \n",
              "907                  30.0                 124.0  0.99080  3.28       0.43   \n",
              "4352                 31.0                 148.0  0.99178  3.18       0.47   \n",
              "3271                 27.0                  91.0  0.99184  3.28       0.60   \n",
              "\n",
              "        alcohol  \n",
              "4656  10.966667  \n",
              "3659  13.200000  \n",
              "907   12.200000  \n",
              "4352  10.700000  \n",
              "3271  12.000000  "
            ],
            "text/html": [
              "\n",
              "  <div id=\"df-2cfec2c9-2aa6-43f2-b3b6-ac94ec1e7a1d\">\n",
              "    <div class=\"colab-df-container\">\n",
              "      <div>\n",
              "<style scoped>\n",
              "    .dataframe tbody tr th:only-of-type {\n",
              "        vertical-align: middle;\n",
              "    }\n",
              "\n",
              "    .dataframe tbody tr th {\n",
              "        vertical-align: top;\n",
              "    }\n",
              "\n",
              "    .dataframe thead th {\n",
              "        text-align: right;\n",
              "    }\n",
              "</style>\n",
              "<table border=\"1\" class=\"dataframe\">\n",
              "  <thead>\n",
              "    <tr style=\"text-align: right;\">\n",
              "      <th></th>\n",
              "      <th>fixed acidity</th>\n",
              "      <th>volatile acidity</th>\n",
              "      <th>citric acid</th>\n",
              "      <th>residual sugar</th>\n",
              "      <th>chlorides</th>\n",
              "      <th>free sulfur dioxide</th>\n",
              "      <th>total sulfur dioxide</th>\n",
              "      <th>density</th>\n",
              "      <th>pH</th>\n",
              "      <th>sulphates</th>\n",
              "      <th>alcohol</th>\n",
              "    </tr>\n",
              "  </thead>\n",
              "  <tbody>\n",
              "    <tr>\n",
              "      <th>4656</th>\n",
              "      <td>6.0</td>\n",
              "      <td>0.29</td>\n",
              "      <td>0.41</td>\n",
              "      <td>10.8</td>\n",
              "      <td>0.048</td>\n",
              "      <td>55.0</td>\n",
              "      <td>149.0</td>\n",
              "      <td>0.99370</td>\n",
              "      <td>3.09</td>\n",
              "      <td>0.59</td>\n",
              "      <td>10.966667</td>\n",
              "    </tr>\n",
              "    <tr>\n",
              "      <th>3659</th>\n",
              "      <td>5.4</td>\n",
              "      <td>0.53</td>\n",
              "      <td>0.16</td>\n",
              "      <td>2.7</td>\n",
              "      <td>0.036</td>\n",
              "      <td>34.0</td>\n",
              "      <td>128.0</td>\n",
              "      <td>0.98856</td>\n",
              "      <td>3.20</td>\n",
              "      <td>0.53</td>\n",
              "      <td>13.200000</td>\n",
              "    </tr>\n",
              "    <tr>\n",
              "      <th>907</th>\n",
              "      <td>7.1</td>\n",
              "      <td>0.25</td>\n",
              "      <td>0.39</td>\n",
              "      <td>2.1</td>\n",
              "      <td>0.036</td>\n",
              "      <td>30.0</td>\n",
              "      <td>124.0</td>\n",
              "      <td>0.99080</td>\n",
              "      <td>3.28</td>\n",
              "      <td>0.43</td>\n",
              "      <td>12.200000</td>\n",
              "    </tr>\n",
              "    <tr>\n",
              "      <th>4352</th>\n",
              "      <td>7.3</td>\n",
              "      <td>0.28</td>\n",
              "      <td>0.35</td>\n",
              "      <td>1.6</td>\n",
              "      <td>0.054</td>\n",
              "      <td>31.0</td>\n",
              "      <td>148.0</td>\n",
              "      <td>0.99178</td>\n",
              "      <td>3.18</td>\n",
              "      <td>0.47</td>\n",
              "      <td>10.700000</td>\n",
              "    </tr>\n",
              "    <tr>\n",
              "      <th>3271</th>\n",
              "      <td>6.5</td>\n",
              "      <td>0.32</td>\n",
              "      <td>0.34</td>\n",
              "      <td>5.7</td>\n",
              "      <td>0.044</td>\n",
              "      <td>27.0</td>\n",
              "      <td>91.0</td>\n",
              "      <td>0.99184</td>\n",
              "      <td>3.28</td>\n",
              "      <td>0.60</td>\n",
              "      <td>12.000000</td>\n",
              "    </tr>\n",
              "  </tbody>\n",
              "</table>\n",
              "</div>\n",
              "      <button class=\"colab-df-convert\" onclick=\"convertToInteractive('df-2cfec2c9-2aa6-43f2-b3b6-ac94ec1e7a1d')\"\n",
              "              title=\"Convert this dataframe to an interactive table.\"\n",
              "              style=\"display:none;\">\n",
              "        \n",
              "  <svg xmlns=\"http://www.w3.org/2000/svg\" height=\"24px\"viewBox=\"0 0 24 24\"\n",
              "       width=\"24px\">\n",
              "    <path d=\"M0 0h24v24H0V0z\" fill=\"none\"/>\n",
              "    <path d=\"M18.56 5.44l.94 2.06.94-2.06 2.06-.94-2.06-.94-.94-2.06-.94 2.06-2.06.94zm-11 1L8.5 8.5l.94-2.06 2.06-.94-2.06-.94L8.5 2.5l-.94 2.06-2.06.94zm10 10l.94 2.06.94-2.06 2.06-.94-2.06-.94-.94-2.06-.94 2.06-2.06.94z\"/><path d=\"M17.41 7.96l-1.37-1.37c-.4-.4-.92-.59-1.43-.59-.52 0-1.04.2-1.43.59L10.3 9.45l-7.72 7.72c-.78.78-.78 2.05 0 2.83L4 21.41c.39.39.9.59 1.41.59.51 0 1.02-.2 1.41-.59l7.78-7.78 2.81-2.81c.8-.78.8-2.07 0-2.86zM5.41 20L4 18.59l7.72-7.72 1.47 1.35L5.41 20z\"/>\n",
              "  </svg>\n",
              "      </button>\n",
              "      \n",
              "  <style>\n",
              "    .colab-df-container {\n",
              "      display:flex;\n",
              "      flex-wrap:wrap;\n",
              "      gap: 12px;\n",
              "    }\n",
              "\n",
              "    .colab-df-convert {\n",
              "      background-color: #E8F0FE;\n",
              "      border: none;\n",
              "      border-radius: 50%;\n",
              "      cursor: pointer;\n",
              "      display: none;\n",
              "      fill: #1967D2;\n",
              "      height: 32px;\n",
              "      padding: 0 0 0 0;\n",
              "      width: 32px;\n",
              "    }\n",
              "\n",
              "    .colab-df-convert:hover {\n",
              "      background-color: #E2EBFA;\n",
              "      box-shadow: 0px 1px 2px rgba(60, 64, 67, 0.3), 0px 1px 3px 1px rgba(60, 64, 67, 0.15);\n",
              "      fill: #174EA6;\n",
              "    }\n",
              "\n",
              "    [theme=dark] .colab-df-convert {\n",
              "      background-color: #3B4455;\n",
              "      fill: #D2E3FC;\n",
              "    }\n",
              "\n",
              "    [theme=dark] .colab-df-convert:hover {\n",
              "      background-color: #434B5C;\n",
              "      box-shadow: 0px 1px 3px 1px rgba(0, 0, 0, 0.15);\n",
              "      filter: drop-shadow(0px 1px 2px rgba(0, 0, 0, 0.3));\n",
              "      fill: #FFFFFF;\n",
              "    }\n",
              "  </style>\n",
              "\n",
              "      <script>\n",
              "        const buttonEl =\n",
              "          document.querySelector('#df-2cfec2c9-2aa6-43f2-b3b6-ac94ec1e7a1d button.colab-df-convert');\n",
              "        buttonEl.style.display =\n",
              "          google.colab.kernel.accessAllowed ? 'block' : 'none';\n",
              "\n",
              "        async function convertToInteractive(key) {\n",
              "          const element = document.querySelector('#df-2cfec2c9-2aa6-43f2-b3b6-ac94ec1e7a1d');\n",
              "          const dataTable =\n",
              "            await google.colab.kernel.invokeFunction('convertToInteractive',\n",
              "                                                     [key], {});\n",
              "          if (!dataTable) return;\n",
              "\n",
              "          const docLinkHtml = 'Like what you see? Visit the ' +\n",
              "            '<a target=\"_blank\" href=https://colab.research.google.com/notebooks/data_table.ipynb>data table notebook</a>'\n",
              "            + ' to learn more about interactive tables.';\n",
              "          element.innerHTML = '';\n",
              "          dataTable['output_type'] = 'display_data';\n",
              "          await google.colab.output.renderOutput(dataTable, element);\n",
              "          const docLink = document.createElement('div');\n",
              "          docLink.innerHTML = docLinkHtml;\n",
              "          element.appendChild(docLink);\n",
              "        }\n",
              "      </script>\n",
              "    </div>\n",
              "  </div>\n",
              "  "
            ]
          },
          "metadata": {},
          "execution_count": 55
        }
      ],
      "source": [
        "# Conjunto de datos que contiene las características de prueba de \"X_test_red\"\n",
        "X_test_white[0:5]"
      ]
    },
    {
      "cell_type": "code",
      "execution_count": null,
      "metadata": {
        "colab": {
          "base_uri": "https://localhost:8080/"
        },
        "id": "cturEh9tn7kK",
        "outputId": "db311576-9964-4fab-ff7a-7f9eac565da5"
      },
      "outputs": [
        {
          "output_type": "execute_result",
          "data": {
            "text/plain": [
              "4656    7\n",
              "3659    8\n",
              "907     8\n",
              "4352    5\n",
              "3271    7\n",
              "Name: quality, dtype: int64"
            ]
          },
          "metadata": {},
          "execution_count": 56
        }
      ],
      "source": [
        "# Conjunto de valores objetivo que corresponden a los datos de prueba.\n",
        "y_test_white[0:5]"
      ]
    },
    {
      "cell_type": "code",
      "execution_count": null,
      "metadata": {
        "id": "jRQZkS86oA9-",
        "outputId": "48ab7762-c08f-4686-9d90-da3adc25f317",
        "colab": {
          "base_uri": "https://localhost:8080/"
        }
      },
      "outputs": [
        {
          "output_type": "stream",
          "name": "stdout",
          "text": [
            "1/1 [==============================] - 0s 60ms/step\n"
          ]
        },
        {
          "output_type": "execute_result",
          "data": {
            "text/plain": [
              "array([[5.6809206],\n",
              "       [6.096872 ],\n",
              "       [5.2887836],\n",
              "       [6.052395 ],\n",
              "       [5.491032 ]], dtype=float32)"
            ]
          },
          "metadata": {},
          "execution_count": 57
        }
      ],
      "source": [
        "# Se realiza predicciones utilizando el modelo \"modelo_sigmoide\" en el subconjunto de datos de prueba X_new\n",
        "X_new = X_test_red[0:5]\n",
        "y_pred = modelo_tanh.predict(X_new)\n",
        "y_pred"
      ]
    },
    {
      "cell_type": "markdown",
      "metadata": {
        "id": "FzrTg9TEaPrw"
      },
      "source": [
        "## Tabla Comparación entre funciones"
      ]
    },
    {
      "cell_type": "markdown",
      "metadata": {
        "id": "Cd-oHSBXfRGf"
      },
      "source": [
        "#### **Clasificacion sigmoide vs tangente hiperbólica**"
      ]
    },
    {
      "cell_type": "code",
      "execution_count": null,
      "metadata": {
        "colab": {
          "base_uri": "https://localhost:8080/"
        },
        "id": "lrgIFwrEfMSW",
        "outputId": "8b742a86-cd41-4c20-cbf4-dfd77a734e8e"
      },
      "outputs": [
        {
          "output_type": "stream",
          "name": "stdout",
          "text": [
            "                 Metricas   Sigmoide  Tangente_Hiperbolica\n",
            "0                    Loss   0.060867              4.786091\n",
            "1                Accuracy   0.997959              0.296939\n",
            "2      Loss_Promedio_Fold   0.065182              3.513316\n",
            "3  Accuracy_Promedio_Fold  99.489589             48.096016\n"
          ]
        }
      ],
      "source": [
        "# muestra los resultados en una forma tabular para su visualización\n",
        "\n",
        "# Creando un diccionario de datos \"clasificacion\"\n",
        "data_clasificacion = {'Metricas': ['Loss', 'Accuracy', 'Loss_Promedio_Fold', 'Accuracy_Promedio_Fold'],\n",
        "        'Sigmoide': [loss_clas_sigmoide, accuracy_clas_sigmoide, loss_clas_promedio_fold_sigmoide, accuracy_clas_promedio_fold_sigmoide],\n",
        "        'Tangente_Hiperbolica': [loss_clas_tanH, accuracy_clas_tanH, loss_clas_promedio_fold_tanH, accuracy_clas_promedio_fold_tanH]}\n",
        "\n",
        "#DataFrame\n",
        "df = pd.DataFrame(data_clasificacion)\n",
        "\n",
        "# Visualizando la tabla\n",
        "print(df)"
      ]
    },
    {
      "cell_type": "markdown",
      "source": [
        "Para este segundo dataset, observando el rendimiento en cuanto a clasificación de los dos modelos, se observa una clara diferencia y ventaja para la función sigmoide, aún mayor que con el ejemplo de la sección anterior.\n",
        "\n",
        "Estos resultados eran también de esperarse, ya que al poseer un mayor volúmen de datos de entrenamiento los modelos deberían poder ajustarse mejor y realizar clasifiaciones aún o más acertadas que antes.\n",
        "\n",
        "Al observar las matrices de confusión conseguidas, se observa una mejora del modelo sigmoide en cuanto al reconocimiento de la clase *low quality*, mientras que al utilizar la tangente hiperbólica este se sigue comportando de forma parecida que con el dataset anterior, clasificando esta vez a los datos como solo de clase *high quality*, lo cual colocándolo en el contexto del problema significaría un grave problema, debido a que clasificaría vinos de calidad baja como altos."
      ],
      "metadata": {
        "id": "6f5_KlIXMQp2"
      }
    },
    {
      "cell_type": "markdown",
      "metadata": {
        "id": "btKEefsDfYLq"
      },
      "source": [
        "#### **Regresion sigmoide vs tangente hiperbólica**"
      ]
    },
    {
      "cell_type": "code",
      "execution_count": null,
      "metadata": {
        "id": "DSg2A9cmaWxy",
        "outputId": "163bc687-07b7-4197-f1e4-ac8b7d2bff44",
        "colab": {
          "base_uri": "https://localhost:8080/"
        }
      },
      "outputs": [
        {
          "output_type": "stream",
          "name": "stdout",
          "text": [
            "            Metricas  Sigmoide  Tangente_Hiperbolica\n",
            "0                MSE  0.701770              0.717200\n",
            "1  MSE_Promedio_Fold  0.682681              0.700711\n"
          ]
        }
      ],
      "source": [
        "# Creando un diccionario de datos \"Regresion\"\n",
        "data_regresion = {'Metricas': ['MSE', 'MSE_Promedio_Fold'],\n",
        "        'Sigmoide': [Mse_reg_sigmoide, Mse_promedio_flod_sigmoide],\n",
        "        'Tangente_Hiperbolica': [Mse_reg_sigmoide_tanH, Mse_promedio_flod_tanH]}\n",
        "\n",
        "# DataFrame\n",
        "df = pd.DataFrame(data_regresion)\n",
        "\n",
        "# Visualizando la tabla\n",
        "print(df)"
      ]
    },
    {
      "cell_type": "markdown",
      "metadata": {
        "id": "QaFSePO6jTKi"
      },
      "source": [
        "En el caso de las regresiones, al igual que en la sección anterior se observa un rendimiento promedio y muy parecido entre los dos modelos, que se condice con las predicciones realizadas, siendo poco precisas y muy generalizadas. Sin embargo es de destacar que la función sigmoide realizaba predicciones de valores altos para los target esperados altos, siendo así un poco más \"acertada\". Por su lado el modelo tangente mantenía esta generalización mencionada."
      ]
    },
    {
      "cell_type": "markdown",
      "metadata": {
        "id": "n1DzRdWgmS20"
      },
      "source": [
        "# Conclusiones finales\n"
      ]
    },
    {
      "cell_type": "markdown",
      "metadata": {
        "id": "-QCB0pOZmdRV"
      },
      "source": [
        "* A modo de cierre, se podría concluir que para efectos de clasifiación el modelo sigmoide es altamente recomendable ya que es el que otorga mejores rendimientos para clasificaciones multiclase como es el caso de este laboratorio.\n",
        "\n",
        "  Lo anterior se condice con las recomendaciones de la mayoría de fuentes de información, las cuales sugieren esta función de activación por sobre las otras debido a los valores de salida que esta provee, los cuales son entre 0 y 1. Esto es de alta utilidad para este tipo de problemas debido a que ayudan a la interpretación de estas salidas como una especie de probabilidad de pertenencia a una clase en particular, lo cual produce salidas más precisas que su contraparte.\n",
        "\n",
        "  La función de tangente hiperbólica por su lado entrega valores entre un rango de -1 y 1, lo cual hace más dificil la interpretación de probabilidades de pertenencia.\n",
        "\n",
        "  Es importante destacar que si bien el accuracy conseguido es un buen indicador, podría significar un sobreajuste del modelo a los datos, con lo cual se recomendaría volver a evaluarlo con otro set de datos a modo de validación.\n",
        "\n",
        "* El rango de salida anteriormente mencionado de ambas funciones hace que estas sean poco útiles para problemas de regresión. Especialmente en un ejercicio como este donde la variación de los posibles target es bastante grande y queremos conseguir un valor continuo específico en un rango de salida como el de este laboratorio que va desde 0 a 10 (posibles calidades), y no un umbral de pertenencia que puede ser lo suficientemente amplio como para que el modelo sea eficaz, como es el caso de clasificación.\n",
        "\n",
        "* Finalmente es necesario mencionar el caracter aleatorio de estos modelos, con lo cual la semilla aleatoria sería un parámetro más a considerar además del número de neuronas y capas."
      ]
    }
  ],
  "metadata": {
    "colab": {
      "collapsed_sections": [
        "mrJIPDYt3ZSW",
        "yXoWTRBg5ZHe",
        "wzhcua0ptNnk"
      ],
      "provenance": [],
      "include_colab_link": true
    },
    "kernelspec": {
      "display_name": "Python 3",
      "name": "python3"
    },
    "language_info": {
      "name": "python"
    }
  },
  "nbformat": 4,
  "nbformat_minor": 0
}